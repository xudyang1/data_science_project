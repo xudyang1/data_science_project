{
  "nbformat": 4,
  "nbformat_minor": 0,
  "metadata": {
    "language_info": {
      "codemirror_mode": {
        "name": "ipython",
        "version": 3
      },
      "file_extension": ".py",
      "mimetype": "text/x-python",
      "name": "python",
      "nbconvert_exporter": "python",
      "pygments_lexer": "ipython3",
      "version": "3.8.5"
    },
    "orig_nbformat": 2,
    "kernelspec": {
      "name": "python385jvsc74a57bd060ef7f927d1fe1ae3f3ca8b51b145ff2eb0665db911c41a34a1a00b5e9eeafb1",
      "display_name": "Python 3.8.5 64-bit ('base': conda)"
    },
    "colab": {
      "name": "05_07_update (1).ipynb",
      "provenance": [],
      "collapsed_sections": []
    }
  },
  "cells": [
    {
      "cell_type": "code",
      "metadata": {
        "id": "sYJeuVx9lR0E"
      },
      "source": [
        "# imports\n",
        "import pandas as pd\n",
        "import numpy as np\n",
        "import seaborn as sns\n",
        "import matplotlib.pyplot as plt"
      ],
      "execution_count": 1,
      "outputs": []
    },
    {
      "cell_type": "code",
      "metadata": {
        "id": "zz8MTUAblrAz"
      },
      "source": [
        " from google.colab import files"
      ],
      "execution_count": 2,
      "outputs": []
    },
    {
      "cell_type": "code",
      "metadata": {
        "id": "9uxmx7Jqltw0",
        "colab": {
          "resources": {
            "http://localhost:8080/nbextensions/google.colab/files.js": {
              "data": "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",
              "ok": true,
              "headers": [
                [
                  "content-type",
                  "application/javascript"
                ]
              ],
              "status": 200,
              "status_text": ""
            }
          },
          "base_uri": "https://localhost:8080/",
          "height": 38
        },
        "outputId": "4c49c281-cdc9-4e30-e377-5d1b0e5928df"
      },
      "source": [
        "uploaded = files.upload()"
      ],
      "execution_count": 3,
      "outputs": [
        {
          "output_type": "display_data",
          "data": {
            "text/html": [
              "\n",
              "     <input type=\"file\" id=\"files-f9ef4fb1-7591-4ed7-8d38-f147cf856535\" name=\"files[]\" multiple disabled\n",
              "        style=\"border:none\" />\n",
              "     <output id=\"result-f9ef4fb1-7591-4ed7-8d38-f147cf856535\">\n",
              "      Upload widget is only available when the cell has been executed in the\n",
              "      current browser session. Please rerun this cell to enable.\n",
              "      </output>\n",
              "      <script src=\"/nbextensions/google.colab/files.js\"></script> "
            ],
            "text/plain": [
              "<IPython.core.display.HTML object>"
            ]
          },
          "metadata": {
            "tags": []
          }
        }
      ]
    },
    {
      "cell_type": "code",
      "metadata": {
        "id": "5MxvbRIGlR0J"
      },
      "source": [
        "# load files\n",
        "edu = pd.read_csv('education.csv', engine='python')\n",
        "income = pd.read_csv('income.csv', engine='python')\n",
        "train = pd.read_csv('police_killings_train.csv', engine='python')\n",
        "test = pd.read_csv('police_killings_test.csv', engine='python')\n",
        "poverty = pd.read_csv('poverty.csv', engine='python')\n",
        "race = pd.read_csv('share_race_by_city.csv', engine='python')"
      ],
      "execution_count": 96,
      "outputs": []
    },
    {
      "cell_type": "code",
      "metadata": {
        "colab": {
          "base_uri": "https://localhost:8080/"
        },
        "id": "cuHY-QlZWLcZ",
        "outputId": "05ab2f7e-bb63-4b84-c617-eb7d602b0446"
      },
      "source": [
        "test.isnull().sum()"
      ],
      "execution_count": 97,
      "outputs": [
        {
          "output_type": "execute_result",
          "data": {
            "text/plain": [
              "id                           0\n",
              "name                         0\n",
              "date                         0\n",
              "manner_of_death              0\n",
              "armed                        3\n",
              "age                         40\n",
              "gender                       0\n",
              "race                       104\n",
              "city                         0\n",
              "state                        0\n",
              "signs_of_mental_illness      0\n",
              "threat_level                 0\n",
              "flee                        38\n",
              "body_camera                  0\n",
              "dtype: int64"
            ]
          },
          "metadata": {
            "tags": []
          },
          "execution_count": 97
        }
      ]
    },
    {
      "cell_type": "code",
      "metadata": {
        "id": "HY8RYrU6lR0K",
        "colab": {
          "base_uri": "https://localhost:8080/"
        },
        "outputId": "ac9331fc-2949-42f6-f404-59be9cc0fcdb"
      },
      "source": [
        "edu.info()"
      ],
      "execution_count": 5,
      "outputs": [
        {
          "output_type": "stream",
          "text": [
            "<class 'pandas.core.frame.DataFrame'>\n",
            "RangeIndex: 29329 entries, 0 to 29328\n",
            "Data columns (total 3 columns):\n",
            " #   Column                Non-Null Count  Dtype \n",
            "---  ------                --------------  ----- \n",
            " 0   Geographic Area       29329 non-null  object\n",
            " 1   City                  29329 non-null  object\n",
            " 2   percent_completed_hs  29329 non-null  object\n",
            "dtypes: object(3)\n",
            "memory usage: 687.5+ KB\n"
          ],
          "name": "stdout"
        }
      ]
    },
    {
      "cell_type": "code",
      "metadata": {
        "id": "Jli9P4AvlR0K",
        "colab": {
          "base_uri": "https://localhost:8080/"
        },
        "outputId": "ce268b27-879b-4a66-b5b0-3a7d79fd8aca"
      },
      "source": [
        "income.info()"
      ],
      "execution_count": 6,
      "outputs": [
        {
          "output_type": "stream",
          "text": [
            "<class 'pandas.core.frame.DataFrame'>\n",
            "RangeIndex: 29322 entries, 0 to 29321\n",
            "Data columns (total 3 columns):\n",
            " #   Column           Non-Null Count  Dtype \n",
            "---  ------           --------------  ----- \n",
            " 0   Geographic Area  29322 non-null  object\n",
            " 1   City             29322 non-null  object\n",
            " 2   Median Income    29271 non-null  object\n",
            "dtypes: object(3)\n",
            "memory usage: 687.4+ KB\n"
          ],
          "name": "stdout"
        }
      ]
    },
    {
      "cell_type": "code",
      "metadata": {
        "id": "H1JXAe31lR0L",
        "colab": {
          "base_uri": "https://localhost:8080/"
        },
        "outputId": "f7572523-aa25-4e56-fff3-b734940c0fde"
      },
      "source": [
        "train.info()"
      ],
      "execution_count": 7,
      "outputs": [
        {
          "output_type": "stream",
          "text": [
            "<class 'pandas.core.frame.DataFrame'>\n",
            "RangeIndex: 2028 entries, 0 to 2027\n",
            "Data columns (total 14 columns):\n",
            " #   Column                   Non-Null Count  Dtype  \n",
            "---  ------                   --------------  -----  \n",
            " 0   id                       2028 non-null   int64  \n",
            " 1   name                     2028 non-null   object \n",
            " 2   date                     2028 non-null   object \n",
            " 3   manner_of_death          2028 non-null   object \n",
            " 4   armed                    2022 non-null   object \n",
            " 5   age                      1991 non-null   float64\n",
            " 6   gender                   2028 non-null   object \n",
            " 7   race                     1937 non-null   object \n",
            " 8   city                     2028 non-null   object \n",
            " 9   state                    2028 non-null   object \n",
            " 10  signs_of_mental_illness  2028 non-null   bool   \n",
            " 11  threat_level             2028 non-null   object \n",
            " 12  flee                     2001 non-null   object \n",
            " 13  body_camera              2028 non-null   bool   \n",
            "dtypes: bool(2), float64(1), int64(1), object(10)\n",
            "memory usage: 194.2+ KB\n"
          ],
          "name": "stdout"
        }
      ]
    },
    {
      "cell_type": "code",
      "metadata": {
        "id": "xq3qgquhlR0L",
        "colab": {
          "base_uri": "https://localhost:8080/"
        },
        "outputId": "1a98f5d5-f85e-4baa-d5a8-2212d89adcc7"
      },
      "source": [
        "test.info()"
      ],
      "execution_count": 8,
      "outputs": [
        {
          "output_type": "stream",
          "text": [
            "<class 'pandas.core.frame.DataFrame'>\n",
            "RangeIndex: 507 entries, 0 to 506\n",
            "Data columns (total 14 columns):\n",
            " #   Column                   Non-Null Count  Dtype  \n",
            "---  ------                   --------------  -----  \n",
            " 0   id                       507 non-null    int64  \n",
            " 1   name                     507 non-null    object \n",
            " 2   date                     507 non-null    object \n",
            " 3   manner_of_death          507 non-null    object \n",
            " 4   armed                    504 non-null    object \n",
            " 5   age                      467 non-null    float64\n",
            " 6   gender                   507 non-null    object \n",
            " 7   race                     403 non-null    object \n",
            " 8   city                     507 non-null    object \n",
            " 9   state                    507 non-null    object \n",
            " 10  signs_of_mental_illness  507 non-null    bool   \n",
            " 11  threat_level             507 non-null    object \n",
            " 12  flee                     469 non-null    object \n",
            " 13  body_camera              507 non-null    bool   \n",
            "dtypes: bool(2), float64(1), int64(1), object(10)\n",
            "memory usage: 48.6+ KB\n"
          ],
          "name": "stdout"
        }
      ]
    },
    {
      "cell_type": "code",
      "metadata": {
        "id": "895cBqu9lR0M",
        "colab": {
          "base_uri": "https://localhost:8080/"
        },
        "outputId": "865fade1-f993-4275-d45e-0c6097863b48"
      },
      "source": [
        "poverty.info()"
      ],
      "execution_count": 9,
      "outputs": [
        {
          "output_type": "stream",
          "text": [
            "<class 'pandas.core.frame.DataFrame'>\n",
            "RangeIndex: 29329 entries, 0 to 29328\n",
            "Data columns (total 3 columns):\n",
            " #   Column           Non-Null Count  Dtype \n",
            "---  ------           --------------  ----- \n",
            " 0   Geographic Area  29329 non-null  object\n",
            " 1   City             29329 non-null  object\n",
            " 2   poverty_rate     29329 non-null  object\n",
            "dtypes: object(3)\n",
            "memory usage: 687.5+ KB\n"
          ],
          "name": "stdout"
        }
      ]
    },
    {
      "cell_type": "code",
      "metadata": {
        "id": "j-74urHRlR0M",
        "colab": {
          "base_uri": "https://localhost:8080/"
        },
        "outputId": "9705fb2c-63bc-4f4a-e027-8cb67cfaceb0"
      },
      "source": [
        "race.info()"
      ],
      "execution_count": 10,
      "outputs": [
        {
          "output_type": "stream",
          "text": [
            "<class 'pandas.core.frame.DataFrame'>\n",
            "RangeIndex: 29268 entries, 0 to 29267\n",
            "Data columns (total 7 columns):\n",
            " #   Column                 Non-Null Count  Dtype \n",
            "---  ------                 --------------  ----- \n",
            " 0   Geographic area        29268 non-null  object\n",
            " 1   City                   29268 non-null  object\n",
            " 2   share_white            29268 non-null  object\n",
            " 3   share_black            29268 non-null  object\n",
            " 4   share_native_american  29268 non-null  object\n",
            " 5   share_asian            29268 non-null  object\n",
            " 6   share_hispanic         29268 non-null  object\n",
            "dtypes: object(7)\n",
            "memory usage: 1.6+ MB\n"
          ],
          "name": "stdout"
        }
      ]
    },
    {
      "cell_type": "code",
      "metadata": {
        "id": "cWr4OJY5lR0M",
        "colab": {
          "base_uri": "https://localhost:8080/"
        },
        "outputId": "9f3f9a54-968c-4117-a404-9d3929deb14a"
      },
      "source": [
        "# column name conformity\n",
        "race.rename(columns={'Geographic area': 'Geographic Area'},inplace=True)\n",
        "race.info()"
      ],
      "execution_count": 11,
      "outputs": [
        {
          "output_type": "stream",
          "text": [
            "<class 'pandas.core.frame.DataFrame'>\n",
            "RangeIndex: 29268 entries, 0 to 29267\n",
            "Data columns (total 7 columns):\n",
            " #   Column                 Non-Null Count  Dtype \n",
            "---  ------                 --------------  ----- \n",
            " 0   Geographic Area        29268 non-null  object\n",
            " 1   City                   29268 non-null  object\n",
            " 2   share_white            29268 non-null  object\n",
            " 3   share_black            29268 non-null  object\n",
            " 4   share_native_american  29268 non-null  object\n",
            " 5   share_asian            29268 non-null  object\n",
            " 6   share_hispanic         29268 non-null  object\n",
            "dtypes: object(7)\n",
            "memory usage: 1.6+ MB\n"
          ],
          "name": "stdout"
        }
      ]
    },
    {
      "cell_type": "code",
      "metadata": {
        "id": "e1qK-WBXlR0M",
        "colab": {
          "base_uri": "https://localhost:8080/"
        },
        "outputId": "4bb2ba4d-b356-40c4-cea3-f85b843041d2"
      },
      "source": [
        "# merge poverty, edu, race, and income based on Geographic Area and City\n",
        "keys = ['Geographic Area', 'City']\n",
        "merged = pd.merge(edu, income,on=keys)\n",
        "merged = pd.merge(merged, poverty, on=keys)\n",
        "merged = pd.merge(merged, race, on=keys)\n",
        "merged.info()"
      ],
      "execution_count": 12,
      "outputs": [
        {
          "output_type": "stream",
          "text": [
            "<class 'pandas.core.frame.DataFrame'>\n",
            "Int64Index: 29115 entries, 0 to 29114\n",
            "Data columns (total 10 columns):\n",
            " #   Column                 Non-Null Count  Dtype \n",
            "---  ------                 --------------  ----- \n",
            " 0   Geographic Area        29115 non-null  object\n",
            " 1   City                   29115 non-null  object\n",
            " 2   percent_completed_hs   29115 non-null  object\n",
            " 3   Median Income          29064 non-null  object\n",
            " 4   poverty_rate           29115 non-null  object\n",
            " 5   share_white            29115 non-null  object\n",
            " 6   share_black            29115 non-null  object\n",
            " 7   share_native_american  29115 non-null  object\n",
            " 8   share_asian            29115 non-null  object\n",
            " 9   share_hispanic         29115 non-null  object\n",
            "dtypes: object(10)\n",
            "memory usage: 2.4+ MB\n"
          ],
          "name": "stdout"
        }
      ]
    },
    {
      "cell_type": "code",
      "metadata": {
        "id": "x0_Ry7GilR0N",
        "colab": {
          "base_uri": "https://localhost:8080/"
        },
        "outputId": "fa4bfcf2-61a5-49eb-f4a0-304981dc358f"
      },
      "source": [
        "# convert strings to numeric data and set all non-sense data to null\n",
        "target = merged.iloc[:,2:10]\n",
        "for columnName in target:\n",
        "    merged[columnName] = pd.to_numeric(merged[columnName], errors='coerce')\n",
        "merged.isnull().sum()"
      ],
      "execution_count": 13,
      "outputs": [
        {
          "output_type": "execute_result",
          "data": {
            "text/plain": [
              "Geographic Area             0\n",
              "City                        0\n",
              "percent_completed_hs      191\n",
              "Median Income            1905\n",
              "poverty_rate              195\n",
              "share_white                19\n",
              "share_black                19\n",
              "share_native_american      19\n",
              "share_asian                19\n",
              "share_hispanic             19\n",
              "dtype: int64"
            ]
          },
          "metadata": {
            "tags": []
          },
          "execution_count": 13
        }
      ]
    },
    {
      "cell_type": "code",
      "metadata": {
        "id": "BaaeL_FhlR0N",
        "colab": {
          "base_uri": "https://localhost:8080/"
        },
        "outputId": "b68d4a6d-625e-4a18-afa3-2dc078b377bf"
      },
      "source": [
        "# mean value interpolation: fill missing data with mean value of the state that the data belongs to\n",
        "merged = merged.fillna(merged.groupby('Geographic Area').transform(lambda x: x.fillna(x.median())))\n",
        "merged.isnull().sum()\n",
        "# merged.dtypes"
      ],
      "execution_count": 14,
      "outputs": [
        {
          "output_type": "execute_result",
          "data": {
            "text/plain": [
              "Geographic Area          0\n",
              "City                     0\n",
              "percent_completed_hs     0\n",
              "Median Income            0\n",
              "poverty_rate             0\n",
              "share_white              0\n",
              "share_black              0\n",
              "share_native_american    0\n",
              "share_asian              0\n",
              "share_hispanic           0\n",
              "dtype: int64"
            ]
          },
          "metadata": {
            "tags": []
          },
          "execution_count": 14
        }
      ]
    },
    {
      "cell_type": "code",
      "metadata": {
        "id": "ysGs47_dlR0O",
        "colab": {
          "base_uri": "https://localhost:8080/",
          "height": 419
        },
        "outputId": "741030b6-e93e-4893-c591-2407135bb45a"
      },
      "source": [
        "# rename columns for later work\n",
        "merged.rename(columns={'Geographic Area': 'state', 'City': 'city'}, inplace=True)\n",
        "merged"
      ],
      "execution_count": 15,
      "outputs": [
        {
          "output_type": "execute_result",
          "data": {
            "text/html": [
              "<div>\n",
              "<style scoped>\n",
              "    .dataframe tbody tr th:only-of-type {\n",
              "        vertical-align: middle;\n",
              "    }\n",
              "\n",
              "    .dataframe tbody tr th {\n",
              "        vertical-align: top;\n",
              "    }\n",
              "\n",
              "    .dataframe thead th {\n",
              "        text-align: right;\n",
              "    }\n",
              "</style>\n",
              "<table border=\"1\" class=\"dataframe\">\n",
              "  <thead>\n",
              "    <tr style=\"text-align: right;\">\n",
              "      <th></th>\n",
              "      <th>state</th>\n",
              "      <th>city</th>\n",
              "      <th>percent_completed_hs</th>\n",
              "      <th>Median Income</th>\n",
              "      <th>poverty_rate</th>\n",
              "      <th>share_white</th>\n",
              "      <th>share_black</th>\n",
              "      <th>share_native_american</th>\n",
              "      <th>share_asian</th>\n",
              "      <th>share_hispanic</th>\n",
              "    </tr>\n",
              "  </thead>\n",
              "  <tbody>\n",
              "    <tr>\n",
              "      <th>0</th>\n",
              "      <td>AL</td>\n",
              "      <td>Abanda CDP</td>\n",
              "      <td>21.2</td>\n",
              "      <td>11207.0</td>\n",
              "      <td>78.8</td>\n",
              "      <td>67.2</td>\n",
              "      <td>30.2</td>\n",
              "      <td>0.0</td>\n",
              "      <td>0.0</td>\n",
              "      <td>1.6</td>\n",
              "    </tr>\n",
              "    <tr>\n",
              "      <th>1</th>\n",
              "      <td>AL</td>\n",
              "      <td>Abbeville city</td>\n",
              "      <td>69.1</td>\n",
              "      <td>25615.0</td>\n",
              "      <td>29.1</td>\n",
              "      <td>54.4</td>\n",
              "      <td>41.4</td>\n",
              "      <td>0.1</td>\n",
              "      <td>1.0</td>\n",
              "      <td>3.1</td>\n",
              "    </tr>\n",
              "    <tr>\n",
              "      <th>2</th>\n",
              "      <td>AL</td>\n",
              "      <td>Adamsville city</td>\n",
              "      <td>78.9</td>\n",
              "      <td>42575.0</td>\n",
              "      <td>25.5</td>\n",
              "      <td>52.3</td>\n",
              "      <td>44.9</td>\n",
              "      <td>0.5</td>\n",
              "      <td>0.3</td>\n",
              "      <td>2.3</td>\n",
              "    </tr>\n",
              "    <tr>\n",
              "      <th>3</th>\n",
              "      <td>AL</td>\n",
              "      <td>Addison town</td>\n",
              "      <td>81.4</td>\n",
              "      <td>37083.0</td>\n",
              "      <td>30.7</td>\n",
              "      <td>99.1</td>\n",
              "      <td>0.1</td>\n",
              "      <td>0.0</td>\n",
              "      <td>0.1</td>\n",
              "      <td>0.4</td>\n",
              "    </tr>\n",
              "    <tr>\n",
              "      <th>4</th>\n",
              "      <td>AL</td>\n",
              "      <td>Akron town</td>\n",
              "      <td>68.6</td>\n",
              "      <td>21667.0</td>\n",
              "      <td>42.0</td>\n",
              "      <td>13.2</td>\n",
              "      <td>86.5</td>\n",
              "      <td>0.0</td>\n",
              "      <td>0.0</td>\n",
              "      <td>0.3</td>\n",
              "    </tr>\n",
              "    <tr>\n",
              "      <th>...</th>\n",
              "      <td>...</td>\n",
              "      <td>...</td>\n",
              "      <td>...</td>\n",
              "      <td>...</td>\n",
              "      <td>...</td>\n",
              "      <td>...</td>\n",
              "      <td>...</td>\n",
              "      <td>...</td>\n",
              "      <td>...</td>\n",
              "      <td>...</td>\n",
              "    </tr>\n",
              "    <tr>\n",
              "      <th>29110</th>\n",
              "      <td>WY</td>\n",
              "      <td>Woods Landing-Jelm CDP</td>\n",
              "      <td>100.0</td>\n",
              "      <td>55217.5</td>\n",
              "      <td>18.6</td>\n",
              "      <td>95.9</td>\n",
              "      <td>0.0</td>\n",
              "      <td>0.0</td>\n",
              "      <td>2.1</td>\n",
              "      <td>0.0</td>\n",
              "    </tr>\n",
              "    <tr>\n",
              "      <th>29111</th>\n",
              "      <td>WY</td>\n",
              "      <td>Worland city</td>\n",
              "      <td>85.6</td>\n",
              "      <td>41523.0</td>\n",
              "      <td>15.3</td>\n",
              "      <td>89.9</td>\n",
              "      <td>0.3</td>\n",
              "      <td>1.3</td>\n",
              "      <td>0.6</td>\n",
              "      <td>16.6</td>\n",
              "    </tr>\n",
              "    <tr>\n",
              "      <th>29112</th>\n",
              "      <td>WY</td>\n",
              "      <td>Wright town</td>\n",
              "      <td>89.2</td>\n",
              "      <td>77114.0</td>\n",
              "      <td>5.9</td>\n",
              "      <td>94.5</td>\n",
              "      <td>0.1</td>\n",
              "      <td>1.4</td>\n",
              "      <td>0.2</td>\n",
              "      <td>6.2</td>\n",
              "    </tr>\n",
              "    <tr>\n",
              "      <th>29113</th>\n",
              "      <td>WY</td>\n",
              "      <td>Yoder town</td>\n",
              "      <td>79.4</td>\n",
              "      <td>37500.0</td>\n",
              "      <td>5.4</td>\n",
              "      <td>97.4</td>\n",
              "      <td>0.0</td>\n",
              "      <td>0.0</td>\n",
              "      <td>0.0</td>\n",
              "      <td>4.0</td>\n",
              "    </tr>\n",
              "    <tr>\n",
              "      <th>29114</th>\n",
              "      <td>WY</td>\n",
              "      <td>Y-O Ranch CDP</td>\n",
              "      <td>100.0</td>\n",
              "      <td>55217.5</td>\n",
              "      <td>0.0</td>\n",
              "      <td>92.8</td>\n",
              "      <td>1.5</td>\n",
              "      <td>2.6</td>\n",
              "      <td>0.0</td>\n",
              "      <td>11.8</td>\n",
              "    </tr>\n",
              "  </tbody>\n",
              "</table>\n",
              "<p>29115 rows × 10 columns</p>\n",
              "</div>"
            ],
            "text/plain": [
              "      state                    city  ...  share_asian  share_hispanic\n",
              "0        AL              Abanda CDP  ...          0.0             1.6\n",
              "1        AL          Abbeville city  ...          1.0             3.1\n",
              "2        AL         Adamsville city  ...          0.3             2.3\n",
              "3        AL            Addison town  ...          0.1             0.4\n",
              "4        AL              Akron town  ...          0.0             0.3\n",
              "...     ...                     ...  ...          ...             ...\n",
              "29110    WY  Woods Landing-Jelm CDP  ...          2.1             0.0\n",
              "29111    WY            Worland city  ...          0.6            16.6\n",
              "29112    WY             Wright town  ...          0.2             6.2\n",
              "29113    WY              Yoder town  ...          0.0             4.0\n",
              "29114    WY           Y-O Ranch CDP  ...          0.0            11.8\n",
              "\n",
              "[29115 rows x 10 columns]"
            ]
          },
          "metadata": {
            "tags": []
          },
          "execution_count": 15
        }
      ]
    },
    {
      "cell_type": "markdown",
      "metadata": {
        "id": "Fh-uvrO619ST"
      },
      "source": [
        "# EDA"
      ]
    },
    {
      "cell_type": "code",
      "metadata": {
        "id": "1y5LipHpFqIz",
        "colab": {
          "base_uri": "https://localhost:8080/",
          "height": 297
        },
        "outputId": "d2e59668-3fba-4433-f561-982edc8d14c5"
      },
      "source": [
        "train.describe()"
      ],
      "execution_count": 16,
      "outputs": [
        {
          "output_type": "execute_result",
          "data": {
            "text/html": [
              "<div>\n",
              "<style scoped>\n",
              "    .dataframe tbody tr th:only-of-type {\n",
              "        vertical-align: middle;\n",
              "    }\n",
              "\n",
              "    .dataframe tbody tr th {\n",
              "        vertical-align: top;\n",
              "    }\n",
              "\n",
              "    .dataframe thead th {\n",
              "        text-align: right;\n",
              "    }\n",
              "</style>\n",
              "<table border=\"1\" class=\"dataframe\">\n",
              "  <thead>\n",
              "    <tr style=\"text-align: right;\">\n",
              "      <th></th>\n",
              "      <th>id</th>\n",
              "      <th>age</th>\n",
              "    </tr>\n",
              "  </thead>\n",
              "  <tbody>\n",
              "    <tr>\n",
              "      <th>count</th>\n",
              "      <td>2028.000000</td>\n",
              "      <td>1991.000000</td>\n",
              "    </tr>\n",
              "    <tr>\n",
              "      <th>mean</th>\n",
              "      <td>1170.653846</td>\n",
              "      <td>36.580613</td>\n",
              "    </tr>\n",
              "    <tr>\n",
              "      <th>std</th>\n",
              "      <td>635.377106</td>\n",
              "      <td>12.886299</td>\n",
              "    </tr>\n",
              "    <tr>\n",
              "      <th>min</th>\n",
              "      <td>3.000000</td>\n",
              "      <td>6.000000</td>\n",
              "    </tr>\n",
              "    <tr>\n",
              "      <th>25%</th>\n",
              "      <td>633.750000</td>\n",
              "      <td>27.000000</td>\n",
              "    </tr>\n",
              "    <tr>\n",
              "      <th>50%</th>\n",
              "      <td>1170.500000</td>\n",
              "      <td>34.000000</td>\n",
              "    </tr>\n",
              "    <tr>\n",
              "      <th>75%</th>\n",
              "      <td>1719.250000</td>\n",
              "      <td>45.000000</td>\n",
              "    </tr>\n",
              "    <tr>\n",
              "      <th>max</th>\n",
              "      <td>2260.000000</td>\n",
              "      <td>86.000000</td>\n",
              "    </tr>\n",
              "  </tbody>\n",
              "</table>\n",
              "</div>"
            ],
            "text/plain": [
              "                id          age\n",
              "count  2028.000000  1991.000000\n",
              "mean   1170.653846    36.580613\n",
              "std     635.377106    12.886299\n",
              "min       3.000000     6.000000\n",
              "25%     633.750000    27.000000\n",
              "50%    1170.500000    34.000000\n",
              "75%    1719.250000    45.000000\n",
              "max    2260.000000    86.000000"
            ]
          },
          "metadata": {
            "tags": []
          },
          "execution_count": 16
        }
      ]
    },
    {
      "cell_type": "code",
      "metadata": {
        "id": "siFVQEPLFqI0",
        "colab": {
          "base_uri": "https://localhost:8080/"
        },
        "outputId": "4909335a-05ec-44a3-ff86-1e2c4e1de758"
      },
      "source": [
        "train.isnull().sum()"
      ],
      "execution_count": 17,
      "outputs": [
        {
          "output_type": "execute_result",
          "data": {
            "text/plain": [
              "id                          0\n",
              "name                        0\n",
              "date                        0\n",
              "manner_of_death             0\n",
              "armed                       6\n",
              "age                        37\n",
              "gender                      0\n",
              "race                       91\n",
              "city                        0\n",
              "state                       0\n",
              "signs_of_mental_illness     0\n",
              "threat_level                0\n",
              "flee                       27\n",
              "body_camera                 0\n",
              "dtype: int64"
            ]
          },
          "metadata": {
            "tags": []
          },
          "execution_count": 17
        }
      ]
    },
    {
      "cell_type": "code",
      "metadata": {
        "id": "lSONwU4UFqI1",
        "colab": {
          "base_uri": "https://localhost:8080/"
        },
        "outputId": "ec34baf3-7226-4bf0-8a52-d7dd23f9ff83"
      },
      "source": [
        "# drop rows with missing armed, race data since filling them with random data may affect our prediction\n",
        "train.dropna(subset=['armed', 'race'], inplace=True) \n",
        "train.isnull().sum() "
      ],
      "execution_count": 18,
      "outputs": [
        {
          "output_type": "execute_result",
          "data": {
            "text/plain": [
              "id                          0\n",
              "name                        0\n",
              "date                        0\n",
              "manner_of_death             0\n",
              "armed                       0\n",
              "age                        19\n",
              "gender                      0\n",
              "race                        0\n",
              "city                        0\n",
              "state                       0\n",
              "signs_of_mental_illness     0\n",
              "threat_level                0\n",
              "flee                       21\n",
              "body_camera                 0\n",
              "dtype: int64"
            ]
          },
          "metadata": {
            "tags": []
          },
          "execution_count": 18
        }
      ]
    },
    {
      "cell_type": "code",
      "metadata": {
        "id": "-mEpNTWIFqI1",
        "colab": {
          "base_uri": "https://localhost:8080/"
        },
        "outputId": "f7d4ab7b-0c95-4f8c-8372-46cb22ec88da"
      },
      "source": [
        "# median imputation for age\n",
        "train.fillna(value={'age' : train['age'].median()}, inplace=True)\n",
        "train.isnull().sum() "
      ],
      "execution_count": 19,
      "outputs": [
        {
          "output_type": "execute_result",
          "data": {
            "text/plain": [
              "id                          0\n",
              "name                        0\n",
              "date                        0\n",
              "manner_of_death             0\n",
              "armed                       0\n",
              "age                         0\n",
              "gender                      0\n",
              "race                        0\n",
              "city                        0\n",
              "state                       0\n",
              "signs_of_mental_illness     0\n",
              "threat_level                0\n",
              "flee                       21\n",
              "body_camera                 0\n",
              "dtype: int64"
            ]
          },
          "metadata": {
            "tags": []
          },
          "execution_count": 19
        }
      ]
    },
    {
      "cell_type": "code",
      "metadata": {
        "id": "rsSO83-WFqI1",
        "colab": {
          "base_uri": "https://localhost:8080/"
        },
        "outputId": "278dd192-985d-4723-be1f-1477830e2d89"
      },
      "source": [
        "# fill flee with maximum type of flee\n",
        "train.fillna(value={'flee' : train['flee'].value_counts().idxmax()}, inplace=True)\n",
        "train.isnull().sum() "
      ],
      "execution_count": 20,
      "outputs": [
        {
          "output_type": "execute_result",
          "data": {
            "text/plain": [
              "id                         0\n",
              "name                       0\n",
              "date                       0\n",
              "manner_of_death            0\n",
              "armed                      0\n",
              "age                        0\n",
              "gender                     0\n",
              "race                       0\n",
              "city                       0\n",
              "state                      0\n",
              "signs_of_mental_illness    0\n",
              "threat_level               0\n",
              "flee                       0\n",
              "body_camera                0\n",
              "dtype: int64"
            ]
          },
          "metadata": {
            "tags": []
          },
          "execution_count": 20
        }
      ]
    },
    {
      "cell_type": "code",
      "metadata": {
        "id": "86YoD8SpI0jb",
        "colab": {
          "base_uri": "https://localhost:8080/"
        },
        "outputId": "db3a51aa-0362-477d-d477-94ed716ca94e"
      },
      "source": [
        "test.fillna(value={'age' : test['age'].median()}, inplace=True)\n",
        "test.isnull().sum() "
      ],
      "execution_count": 21,
      "outputs": [
        {
          "output_type": "execute_result",
          "data": {
            "text/plain": [
              "id                           0\n",
              "name                         0\n",
              "date                         0\n",
              "manner_of_death              0\n",
              "armed                        3\n",
              "age                          0\n",
              "gender                       0\n",
              "race                       104\n",
              "city                         0\n",
              "state                        0\n",
              "signs_of_mental_illness      0\n",
              "threat_level                 0\n",
              "flee                        38\n",
              "body_camera                  0\n",
              "dtype: int64"
            ]
          },
          "metadata": {
            "tags": []
          },
          "execution_count": 21
        }
      ]
    },
    {
      "cell_type": "markdown",
      "metadata": {
        "id": "OhdCbGaI1_Jb"
      },
      "source": [
        "## Dangerous level"
      ]
    },
    {
      "cell_type": "markdown",
      "metadata": {
        "id": "2970AMqxFqI2"
      },
      "source": [
        "### State level"
      ]
    },
    {
      "cell_type": "code",
      "metadata": {
        "id": "cScvWEUuzVbI",
        "colab": {
          "base_uri": "https://localhost:8080/"
        },
        "outputId": "f1faadc2-bf61-4403-d131-1e9892cc586b"
      },
      "source": [
        "# 10 most dangerous states\n",
        "train.value_counts([\"state\"]).head(10)"
      ],
      "execution_count": 22,
      "outputs": [
        {
          "output_type": "execute_result",
          "data": {
            "text/plain": [
              "state\n",
              "CA       318\n",
              "TX       179\n",
              "FL       117\n",
              "AZ        88\n",
              "CO        56\n",
              "NC        55\n",
              "GA        54\n",
              "OH        54\n",
              "OK        54\n",
              "IL        51\n",
              "dtype: int64"
            ]
          },
          "metadata": {
            "tags": []
          },
          "execution_count": 22
        }
      ]
    },
    {
      "cell_type": "code",
      "metadata": {
        "id": "izOfvwecFqI3",
        "colab": {
          "base_uri": "https://localhost:8080/",
          "height": 645
        },
        "outputId": "adb2e5ed-5711-4e87-f133-3830a8bfed99"
      },
      "source": [
        "# plot the bar graph\n",
        "plt.figure(figsize=(20,10))\n",
        "ax = train.value_counts('state').head(10).plot(kind='bar', rot=0)\n",
        "ax.set_xlabel(\"State\", fontsize = 24)\n",
        "ax.set_ylabel(\"Count\", fontsize = 24)\n",
        "ax.set_title('Ten most dangerous states', fontsize = 24)\n",
        "plt.show()"
      ],
      "execution_count": 23,
      "outputs": [
        {
          "output_type": "display_data",
          "data": {
            "image/png": "[encoded data removed]",
            "text/plain": [
              "<Figure size 1440x720 with 1 Axes>"
            ]
          },
          "metadata": {
            "tags": [],
            "needs_background": "light"
          }
        }
      ]
    },
    {
      "cell_type": "markdown",
      "metadata": {
        "id": "-hgFwjb-FqI3"
      },
      "source": [
        "### CA (California) has the most fatal police shootings."
      ]
    },
    {
      "cell_type": "markdown",
      "metadata": {
        "id": "pSfiIr2aFqI3"
      },
      "source": [
        "### City level"
      ]
    },
    {
      "cell_type": "code",
      "metadata": {
        "id": "hYsK-1glyPj5",
        "colab": {
          "base_uri": "https://localhost:8080/"
        },
        "outputId": "120cb781-92e4-43ee-c580-6fe469ce1543"
      },
      "source": [
        "# 10 most dangerous cities\n",
        "train.value_counts([\"state\", \"city\"]).head(10)"
      ],
      "execution_count": 24,
      "outputs": [
        {
          "output_type": "execute_result",
          "data": {
            "text/plain": [
              "state  city        \n",
              "CA     Los Angeles     31\n",
              "AZ     Phoenix         22\n",
              "TX     Houston         22\n",
              "IL     Chicago         21\n",
              "NV     Las Vegas       15\n",
              "FL     Miami           14\n",
              "TX     San Antonio     14\n",
              "       Austin          13\n",
              "IN     Indianapolis    13\n",
              "OH     Columbus        13\n",
              "dtype: int64"
            ]
          },
          "metadata": {
            "tags": []
          },
          "execution_count": 24
        }
      ]
    },
    {
      "cell_type": "code",
      "metadata": {
        "id": "V8U27IsbFqI4",
        "colab": {
          "base_uri": "https://localhost:8080/",
          "height": 645
        },
        "outputId": "f59eb58d-2797-4e05-f8ca-06d1ac232afe"
      },
      "source": [
        "# plot the bar graph\n",
        "plt.figure(figsize=(20,10))\n",
        "ax = train.value_counts(['state','city']).head(10).plot(kind='bar', rot=0)\n",
        "ax.set_xlabel(\"City\", fontsize = 24)\n",
        "ax.set_ylabel(\"Count\", fontsize = 24)\n",
        "ax.set_title('Ten most dangerous cities', fontsize = 24)\n",
        "plt.show()"
      ],
      "execution_count": 25,
      "outputs": [
        {
          "output_type": "display_data",
          "data": {
            "image/png": "[encoded data removed]",
            "text/plain": [
              "<Figure size 1440x720 with 1 Axes>"
            ]
          },
          "metadata": {
            "tags": [],
            "needs_background": "light"
          }
        }
      ]
    },
    {
      "cell_type": "markdown",
      "metadata": {
        "id": "4pol0Zf5FqI4"
      },
      "source": [
        "### From the above graph, we can see that Los Angeles is the most dangerous city in the most dangerous state California, and it is the most dangerous city in the United States."
      ]
    },
    {
      "cell_type": "markdown",
      "metadata": {
        "id": "fNoZ-dT-11yO"
      },
      "source": [
        "## Armed"
      ]
    },
    {
      "cell_type": "code",
      "metadata": {
        "id": "-yxWhJoe0EHm",
        "colab": {
          "base_uri": "https://localhost:8080/"
        },
        "outputId": "205db4b6-16d1-4ec2-b02d-251143d0df53"
      },
      "source": [
        "# 10 most common way of being armed\n",
        "train.value_counts([\"armed\"]).head(10)"
      ],
      "execution_count": 26,
      "outputs": [
        {
          "output_type": "execute_result",
          "data": {
            "text/plain": [
              "armed         \n",
              "gun               1063\n",
              "knife              286\n",
              "unarmed            148\n",
              "vehicle            121\n",
              "undetermined        86\n",
              "toy weapon          86\n",
              "machete             15\n",
              "unknown weapon      11\n",
              "sword                8\n",
              "box cutter           7\n",
              "dtype: int64"
            ]
          },
          "metadata": {
            "tags": []
          },
          "execution_count": 26
        }
      ]
    },
    {
      "cell_type": "code",
      "metadata": {
        "id": "_UMDHx2h0rE6",
        "colab": {
          "base_uri": "https://localhost:8080/",
          "height": 645
        },
        "outputId": "dd416201-20d6-448c-a39a-e6b4d22351a4"
      },
      "source": [
        "# plot the bar graph\n",
        "plt.figure(figsize=(20,10))\n",
        "ax = train.value_counts(\"armed\").head(10).plot(kind='bar', rot=0)\n",
        "ax.set_xlabel(\"Weapon type\", fontsize = 24)\n",
        "ax.set_ylabel(\"Count\", fontsize = 24)\n",
        "ax.set_title('Ten most common way of being armed', fontsize = 24)\n",
        "plt.show()"
      ],
      "execution_count": 27,
      "outputs": [
        {
          "output_type": "display_data",
          "data": {
            "image/png": "[encoded data removed]",
            "text/plain": [
              "<Figure size 1440x720 with 1 Axes>"
            ]
          },
          "metadata": {
            "tags": [],
            "needs_background": "light"
          }
        }
      ]
    },
    {
      "cell_type": "markdown",
      "metadata": {
        "id": "ihkCcngDFqI5"
      },
      "source": [
        "### The bar graph of weapon types shows a nice shape of power distribution curve, from which we can see that gun is the most common way of being armed."
      ]
    },
    {
      "cell_type": "markdown",
      "metadata": {
        "id": "o2c_ZvNv1yrE"
      },
      "source": [
        "## Age Distribution"
      ]
    },
    {
      "cell_type": "markdown",
      "metadata": {
        "id": "RY8i2fY13mvq"
      },
      "source": [
        "### By all races"
      ]
    },
    {
      "cell_type": "code",
      "metadata": {
        "id": "1hO12hLc1xsB",
        "colab": {
          "base_uri": "https://localhost:8080/"
        },
        "outputId": "51232b03-4fa8-4b90-a859-51e5db170b2a"
      },
      "source": [
        "# 10 most listed ages of the victims\n",
        "train.value_counts([\"age\"]).head(10)"
      ],
      "execution_count": 28,
      "outputs": [
        {
          "output_type": "execute_result",
          "data": {
            "text/plain": [
              "age \n",
              "25.0    76\n",
              "34.0    75\n",
              "36.0    75\n",
              "31.0    74\n",
              "29.0    73\n",
              "30.0    61\n",
              "24.0    60\n",
              "23.0    59\n",
              "28.0    58\n",
              "26.0    57\n",
              "dtype: int64"
            ]
          },
          "metadata": {
            "tags": []
          },
          "execution_count": 28
        }
      ]
    },
    {
      "cell_type": "markdown",
      "metadata": {
        "id": "DCqAlMwgFqI6"
      },
      "source": [
        "### The ten most listed ages of all victims range between 20 and 40. The following histogram displays age distribution of all victims."
      ]
    },
    {
      "cell_type": "code",
      "metadata": {
        "id": "WSoSSnU0FqI6",
        "colab": {
          "base_uri": "https://localhost:8080/"
        },
        "outputId": "edcde6fe-289f-4d15-ec36-4eabba0efe0b"
      },
      "source": [
        "train['age'].describe()"
      ],
      "execution_count": 29,
      "outputs": [
        {
          "output_type": "execute_result",
          "data": {
            "text/plain": [
              "count    1932.000000\n",
              "mean       36.166149\n",
              "std        12.590792\n",
              "min         6.000000\n",
              "25%        26.000000\n",
              "50%        34.000000\n",
              "75%        44.250000\n",
              "max        83.000000\n",
              "Name: age, dtype: float64"
            ]
          },
          "metadata": {
            "tags": []
          },
          "execution_count": 29
        }
      ]
    },
    {
      "cell_type": "code",
      "metadata": {
        "id": "KGxKEeq33XDA",
        "colab": {
          "base_uri": "https://localhost:8080/",
          "height": 645
        },
        "outputId": "6a8865c5-61c8-4bb6-b0e6-540df22813b1"
      },
      "source": [
        "# age distribution of all victims\n",
        "plt.figure(figsize=(20,10))\n",
        "plt.hist(train['age'], bins=np.arange(min(train['age']), max(train['age']+1), 1),edgecolor='black')\n",
        "\n",
        "plt.xlabel('Age', fontsize=24)\n",
        "plt.ylabel('Count',fontsize=24)\n",
        "plt.title('Age distribution of all victims', fontsize=24)\n",
        "# more information\n",
        "mean = train['age'].mean()\n",
        "plt.axvline(mean, color='red', linewidth=2, label='Mean')\n",
        "median = train['age'].median()\n",
        "plt.axvline(median, color='yellow', linewidth=2, label='Median')\n",
        "std = train['age'].std()\n",
        "stdn2 = mean - 2*std\n",
        "stdn1 = mean - std\n",
        "stdp1 = mean + std\n",
        "stdp2 = mean + 2*std\n",
        "plt.axvline(stdn2, color='green', linewidth=2, label='Standard Deviations', linestyle='--')\n",
        "plt.axvline(stdn1, color='green', linewidth=2, linestyle='--')\n",
        "plt.axvline(stdp1, color='green', linewidth=2, linestyle='--')\n",
        "plt.axvline(stdp2, color='green', linewidth=2, linestyle='--')\n",
        "plt.legend(fontsize=24)\n",
        "plt.show()"
      ],
      "execution_count": 30,
      "outputs": [
        {
          "output_type": "display_data",
          "data": {
            "image/png": "[encoded data removed]",
            "text/plain": [
              "<Figure size 1440x720 with 1 Axes>"
            ]
          },
          "metadata": {
            "tags": [],
            "needs_background": "light"
          }
        }
      ]
    },
    {
      "cell_type": "code",
      "metadata": {
        "id": "LaJd4YcjFqI7",
        "colab": {
          "base_uri": "https://localhost:8080/"
        },
        "outputId": "3b4bac8c-0ae9-4152-b8f1-07ee412f0142"
      },
      "source": [
        "# skewness\n",
        "skew = 3*(mean - median)/std \n",
        "skew"
      ],
      "execution_count": 31,
      "outputs": [
        {
          "output_type": "execute_result",
          "data": {
            "text/plain": [
              "0.5161269480395437"
            ]
          },
          "metadata": {
            "tags": []
          },
          "execution_count": 31
        }
      ]
    },
    {
      "cell_type": "markdown",
      "metadata": {
        "id": "oQJMSXA6FqI7"
      },
      "source": [
        "### The age distribution of all races is moderately skewed right with skewness of 0.5. The median of ages of all victims is about 34, whereas the mean value is about 36. As a result, the distribution is positive skewed. The standard deviation is about 13. Within one standard deviation (13) from the mean, the age ranges between 24 to 49."
      ]
    },
    {
      "cell_type": "markdown",
      "metadata": {
        "id": "mYOOs0lzFqI7"
      },
      "source": [
        "## Specific Race"
      ]
    },
    {
      "cell_type": "code",
      "metadata": {
        "id": "IkteYfTM3lnH",
        "colab": {
          "base_uri": "https://localhost:8080/"
        },
        "outputId": "e1dc9aff-7198-4f85-cd78-ae6c87463731"
      },
      "source": [
        "# recorded race types\n",
        "train['race'].unique()"
      ],
      "execution_count": 32,
      "outputs": [
        {
          "output_type": "execute_result",
          "data": {
            "text/plain": [
              "array(['A', 'W', 'H', 'B', 'O', 'N'], dtype=object)"
            ]
          },
          "metadata": {
            "tags": []
          },
          "execution_count": 32
        }
      ]
    },
    {
      "cell_type": "markdown",
      "metadata": {
        "id": "myVKktyl7EJa"
      },
      "source": [
        "### Race A (Asian)"
      ]
    },
    {
      "cell_type": "code",
      "metadata": {
        "id": "miUSVwBoFqI8",
        "colab": {
          "base_uri": "https://localhost:8080/"
        },
        "outputId": "d98a6d42-dc47-478c-cae5-8d05aff909f6"
      },
      "source": [
        "race = train[train['race']=='A']\n",
        "race['age'].describe()"
      ],
      "execution_count": 33,
      "outputs": [
        {
          "output_type": "execute_result",
          "data": {
            "text/plain": [
              "count    31.000000\n",
              "mean     37.483871\n",
              "std      11.535080\n",
              "min      15.000000\n",
              "25%      29.500000\n",
              "50%      35.000000\n",
              "75%      44.000000\n",
              "max      61.000000\n",
              "Name: age, dtype: float64"
            ]
          },
          "metadata": {
            "tags": []
          },
          "execution_count": 33
        }
      ]
    },
    {
      "cell_type": "code",
      "metadata": {
        "id": "3mCfX9is4TGz",
        "colab": {
          "base_uri": "https://localhost:8080/",
          "height": 645
        },
        "outputId": "46c87a38-5a63-4cd3-bb76-bdfa90014f09"
      },
      "source": [
        "# age distribution of Asian victims\n",
        "plt.figure(figsize=(20,10))\n",
        "plt.hist(race['age'], bins=np.arange(min(race['age']), max(race['age']), 1),edgecolor='black')\n",
        "\n",
        "plt.xlabel('Age', fontsize=24)\n",
        "plt.ylabel('Count',fontsize=24)\n",
        "plt.title('Age distribution of Asian victims', fontsize=24)\n",
        "# more information\n",
        "mean = race['age'].mean()\n",
        "plt.axvline(mean, color='red', linewidth=2, label='Mean')\n",
        "median = race['age'].median()\n",
        "plt.axvline(median, color='yellow', linewidth=2, label='Median')\n",
        "std = race['age'].std()\n",
        "stdn2 = mean - 2*std\n",
        "stdn1 = mean - std\n",
        "stdp1 = mean + std\n",
        "stdp2 = mean + 2*std\n",
        "plt.axvline(stdn2, color='green', linewidth=2, label='Standard Deviations', linestyle='--')\n",
        "plt.axvline(stdn1, color='green', linewidth=2, linestyle='--')\n",
        "plt.axvline(stdp1, color='green', linewidth=2, linestyle='--')\n",
        "plt.axvline(stdp2, color='green', linewidth=2, linestyle='--')\n",
        "plt.legend(fontsize=24)\n",
        "plt.show()"
      ],
      "execution_count": 34,
      "outputs": [
        {
          "output_type": "display_data",
          "data": {
            "image/png": "[encoded data removed]",
            "text/plain": [
              "<Figure size 1440x720 with 1 Axes>"
            ]
          },
          "metadata": {
            "tags": [],
            "needs_background": "light"
          }
        }
      ]
    },
    {
      "cell_type": "code",
      "metadata": {
        "id": "fcox1ZECFqI9",
        "colab": {
          "base_uri": "https://localhost:8080/"
        },
        "outputId": "0873a5e2-38ac-4e89-e9d5-66ffffcd7381"
      },
      "source": [
        "# skewness\n",
        "skew = 3*(mean - median)/std \n",
        "skew"
      ],
      "execution_count": 35,
      "outputs": [
        {
          "output_type": "execute_result",
          "data": {
            "text/plain": [
              "0.6459957862244269"
            ]
          },
          "metadata": {
            "tags": []
          },
          "execution_count": 35
        }
      ]
    },
    {
      "cell_type": "markdown",
      "metadata": {
        "id": "X8neBZTwFqI9"
      },
      "source": [
        "### The ages of Asian victims are loosely distributed between 15 and 60, and it is moderately skewed right with a skewness of 0.6. The mean value is about 37 and is slightly greater than the median age 35. Within one standard deviation (12) from the mean, the majority data range between 26 to 49."
      ]
    },
    {
      "cell_type": "markdown",
      "metadata": {
        "id": "wu8rtjGa7o72"
      },
      "source": [
        "### Race W (White)"
      ]
    },
    {
      "cell_type": "code",
      "metadata": {
        "id": "FnfdbdKrFqI-",
        "colab": {
          "base_uri": "https://localhost:8080/"
        },
        "outputId": "0df51f36-f59c-4de7-9d02-5964009268b4"
      },
      "source": [
        "race = train[train['race']=='W']\n",
        "race['age'].describe()"
      ],
      "execution_count": 36,
      "outputs": [
        {
          "output_type": "execute_result",
          "data": {
            "text/plain": [
              "count    995.000000\n",
              "mean      39.763819\n",
              "std       13.102578\n",
              "min        6.000000\n",
              "25%       30.000000\n",
              "50%       38.000000\n",
              "75%       50.000000\n",
              "max       83.000000\n",
              "Name: age, dtype: float64"
            ]
          },
          "metadata": {
            "tags": []
          },
          "execution_count": 36
        }
      ]
    },
    {
      "cell_type": "code",
      "metadata": {
        "id": "tqWHeKR57o72",
        "colab": {
          "base_uri": "https://localhost:8080/",
          "height": 645
        },
        "outputId": "3db7eb33-559e-49a0-f1d6-a6c0d5e3c619"
      },
      "source": [
        "# age distribution of white victims\n",
        "plt.figure(figsize=(20,10))\n",
        "plt.hist(race['age'], bins=np.arange(min(race['age']), max(race['age']), 1),edgecolor='black')\n",
        "\n",
        "plt.xlabel('Age', fontsize=24)\n",
        "plt.ylabel('Count',fontsize=24)\n",
        "plt.title('Age distribution of white victims', fontsize=24)\n",
        "# more information\n",
        "mean = race['age'].mean()\n",
        "plt.axvline(mean, color='red', linewidth=2, label='Mean')\n",
        "median = race['age'].median()\n",
        "plt.axvline(median, color='yellow', linewidth=2, label='Median')\n",
        "std = race['age'].std()\n",
        "stdn2 = mean - 2*std\n",
        "stdn1 = mean - std\n",
        "stdp1 = mean + std\n",
        "stdp2 = mean + 2*std\n",
        "plt.axvline(stdn2, color='green', linewidth=2, label='Standard Deviations', linestyle='--')\n",
        "plt.axvline(stdn1, color='green', linewidth=2, linestyle='--')\n",
        "plt.axvline(stdp1, color='green', linewidth=2, linestyle='--')\n",
        "plt.axvline(stdp2, color='green', linewidth=2, linestyle='--')\n",
        "plt.legend(fontsize=24)\n",
        "plt.show()"
      ],
      "execution_count": 37,
      "outputs": [
        {
          "output_type": "display_data",
          "data": {
            "image/png": "[encoded data removed]",
            "text/plain": [
              "<Figure size 1440x720 with 1 Axes>"
            ]
          },
          "metadata": {
            "tags": [],
            "needs_background": "light"
          }
        }
      ]
    },
    {
      "cell_type": "code",
      "metadata": {
        "id": "k5on-6PVFqI_",
        "colab": {
          "base_uri": "https://localhost:8080/"
        },
        "outputId": "4d95a283-bc67-443f-c0c2-b3c0b8f5a513"
      },
      "source": [
        "# skewness\n",
        "skew = 3*(mean - median)/std \n",
        "skew"
      ],
      "execution_count": 38,
      "outputs": [
        {
          "output_type": "execute_result",
          "data": {
            "text/plain": [
              "0.40384854735971853"
            ]
          },
          "metadata": {
            "tags": []
          },
          "execution_count": 38
        }
      ]
    },
    {
      "cell_type": "markdown",
      "metadata": {
        "id": "vJSbeupIFqI_"
      },
      "source": [
        "### The age distribution of white victims is approximately symmetric with a skewness of 0.4. The mean is 40, which is slightly greater the median 38. Within one standard deviation (13) from the mean, the ages range between 27 and 53."
      ]
    },
    {
      "cell_type": "markdown",
      "metadata": {
        "id": "zeLMKe1M7pJW"
      },
      "source": [
        "### Race H (Hispanic)"
      ]
    },
    {
      "cell_type": "code",
      "metadata": {
        "id": "05Qr31H7FqI_",
        "colab": {
          "base_uri": "https://localhost:8080/"
        },
        "outputId": "30155b4d-1677-4125-9a5a-011dc6ee4ce8"
      },
      "source": [
        "race = train[train['race']=='H']\n",
        "race['age'].describe()"
      ],
      "execution_count": 39,
      "outputs": [
        {
          "output_type": "execute_result",
          "data": {
            "text/plain": [
              "count    347.000000\n",
              "mean      33.103746\n",
              "std       10.603776\n",
              "min       14.000000\n",
              "25%       25.000000\n",
              "50%       32.000000\n",
              "75%       39.000000\n",
              "max       80.000000\n",
              "Name: age, dtype: float64"
            ]
          },
          "metadata": {
            "tags": []
          },
          "execution_count": 39
        }
      ]
    },
    {
      "cell_type": "code",
      "metadata": {
        "id": "FcMk5-Cx8f2s",
        "colab": {
          "base_uri": "https://localhost:8080/",
          "height": 645
        },
        "outputId": "e5e75a86-ddd0-4e21-83b1-fcad06241041"
      },
      "source": [
        "# age distribution of Hispanic victims\n",
        "plt.figure(figsize=(20,10))\n",
        "plt.hist(race['age'], bins=np.arange(min(race['age']), max(race['age']), 1),edgecolor='black')\n",
        "\n",
        "plt.xlabel('Age', fontsize=24)\n",
        "plt.ylabel('Count',fontsize=24)\n",
        "plt.title('Age distribution of Hispanic victims', fontsize=24)\n",
        "# more information\n",
        "mean = race['age'].mean()\n",
        "plt.axvline(mean, color='red', linewidth=2, label='Mean')\n",
        "median = race['age'].median()\n",
        "plt.axvline(median, color='yellow', linewidth=2, label='Median')\n",
        "std = race['age'].std()\n",
        "stdn2 = mean - 2*std\n",
        "stdn1 = mean - std\n",
        "stdp1 = mean + std\n",
        "stdp2 = mean + 2*std\n",
        "plt.axvline(stdn2, color='green', linewidth=2, label='Standard Deviations', linestyle='--')\n",
        "plt.axvline(stdn1, color='green', linewidth=2, linestyle='--')\n",
        "plt.axvline(stdp1, color='green', linewidth=2, linestyle='--')\n",
        "plt.axvline(stdp2, color='green', linewidth=2, linestyle='--')\n",
        "plt.legend(fontsize=24)\n",
        "plt.show()"
      ],
      "execution_count": 40,
      "outputs": [
        {
          "output_type": "display_data",
          "data": {
            "image/png": "[encoded data removed]",
            "text/plain": [
              "<Figure size 1440x720 with 1 Axes>"
            ]
          },
          "metadata": {
            "tags": [],
            "needs_background": "light"
          }
        }
      ]
    },
    {
      "cell_type": "code",
      "metadata": {
        "id": "3VpQPt2lFqJA",
        "colab": {
          "base_uri": "https://localhost:8080/"
        },
        "outputId": "cce1cabe-9280-4a53-c1b2-08aa9f23f347"
      },
      "source": [
        "# skewness\n",
        "skew = 3*(mean - median)/std \n",
        "skew"
      ],
      "execution_count": 41,
      "outputs": [
        {
          "output_type": "execute_result",
          "data": {
            "text/plain": [
              "0.3122698072361164"
            ]
          },
          "metadata": {
            "tags": []
          },
          "execution_count": 41
        }
      ]
    },
    {
      "cell_type": "markdown",
      "metadata": {
        "id": "S-DyeW_PFqJA"
      },
      "source": [
        "### The age distribution of hispanic victims looks like a normal distribution. The mean is 33 and is slightly greater the median 32, which results in a skewness of 0.3. Within one standard deviation (11) from the mean, the ages range between 22 and 43."
      ]
    },
    {
      "cell_type": "markdown",
      "metadata": {
        "id": "FscPk2gQ-6xk"
      },
      "source": [
        "### Race B (Black)"
      ]
    },
    {
      "cell_type": "code",
      "metadata": {
        "id": "ErLNy3blFqJB",
        "colab": {
          "base_uri": "https://localhost:8080/"
        },
        "outputId": "388093dc-b5d3-4254-c0e0-ed5d0240dc29"
      },
      "source": [
        "race = train[train['race']=='B']\n",
        "race['age'].describe()"
      ],
      "execution_count": 42,
      "outputs": [
        {
          "output_type": "execute_result",
          "data": {
            "text/plain": [
              "count    504.000000\n",
              "mean      31.533730\n",
              "std       10.874435\n",
              "min       13.000000\n",
              "25%       24.000000\n",
              "50%       30.000000\n",
              "75%       37.000000\n",
              "max       77.000000\n",
              "Name: age, dtype: float64"
            ]
          },
          "metadata": {
            "tags": []
          },
          "execution_count": 42
        }
      ]
    },
    {
      "cell_type": "code",
      "metadata": {
        "id": "H4brxPzL-6xl",
        "colab": {
          "base_uri": "https://localhost:8080/",
          "height": 645
        },
        "outputId": "4957879e-63f6-4641-c859-730259c0d01c"
      },
      "source": [
        "# age distribution of black victims\n",
        "plt.figure(figsize=(20,10))\n",
        "plt.hist(race['age'], bins=np.arange(min(race['age']), max(race['age']), 1),edgecolor='black')\n",
        "\n",
        "plt.xlabel('Age', fontsize=24)\n",
        "plt.ylabel('Count',fontsize=24)\n",
        "plt.title('Age distribution of black victims', fontsize=24)\n",
        "# more information\n",
        "mean = race['age'].mean()\n",
        "plt.axvline(mean, color='red', linewidth=2, label='Mean')\n",
        "median = race['age'].median()\n",
        "plt.axvline(median, color='yellow', linewidth=2, label='Median')\n",
        "std = race['age'].std()\n",
        "stdn2 = mean - 2*std\n",
        "stdn1 = mean - std\n",
        "stdp1 = mean + std\n",
        "stdp2 = mean + 2*std\n",
        "plt.axvline(stdn2, color='green', linewidth=2, label='Standard Deviations', linestyle='--')\n",
        "plt.axvline(stdn1, color='green', linewidth=2, linestyle='--')\n",
        "plt.axvline(stdp1, color='green', linewidth=2, linestyle='--')\n",
        "plt.axvline(stdp2, color='green', linewidth=2, linestyle='--')\n",
        "plt.legend(fontsize=24)\n",
        "plt.show()"
      ],
      "execution_count": 43,
      "outputs": [
        {
          "output_type": "display_data",
          "data": {
            "image/png": "[encoded data removed]",
            "text/plain": [
              "<Figure size 1440x720 with 1 Axes>"
            ]
          },
          "metadata": {
            "tags": [],
            "needs_background": "light"
          }
        }
      ]
    },
    {
      "cell_type": "code",
      "metadata": {
        "id": "0TWjqLMGFqJB",
        "colab": {
          "base_uri": "https://localhost:8080/"
        },
        "outputId": "5389e1b0-c027-45bd-dd25-465379f26421"
      },
      "source": [
        "# skewness\n",
        "skew = 3*(mean - median)/std \n",
        "skew"
      ],
      "execution_count": 44,
      "outputs": [
        {
          "output_type": "execute_result",
          "data": {
            "text/plain": [
              "0.4231199636775382"
            ]
          },
          "metadata": {
            "tags": []
          },
          "execution_count": 44
        }
      ]
    },
    {
      "cell_type": "markdown",
      "metadata": {
        "id": "_M4A9g4-FqJB"
      },
      "source": [
        "### The age distribution of black victims has a moderate positive skewness. The mean is 32 and is slightly greater the median 30. Within one standard deviation (11) from the mean, the ages range between 20 and 42."
      ]
    },
    {
      "cell_type": "markdown",
      "metadata": {
        "id": "YOEHiZAB_S_B"
      },
      "source": [
        "### Race O (Other)"
      ]
    },
    {
      "cell_type": "code",
      "metadata": {
        "id": "QWga4dxjFqJB",
        "colab": {
          "base_uri": "https://localhost:8080/"
        },
        "outputId": "e159914f-610d-4ef1-c5e1-0bff2f05f707"
      },
      "source": [
        "race = train[train['race']=='O']\n",
        "race['age'].describe()"
      ],
      "execution_count": 45,
      "outputs": [
        {
          "output_type": "execute_result",
          "data": {
            "text/plain": [
              "count    28.000000\n",
              "mean     33.071429\n",
              "std      11.148588\n",
              "min      18.000000\n",
              "25%      26.500000\n",
              "50%      29.500000\n",
              "75%      41.250000\n",
              "max      56.000000\n",
              "Name: age, dtype: float64"
            ]
          },
          "metadata": {
            "tags": []
          },
          "execution_count": 45
        }
      ]
    },
    {
      "cell_type": "code",
      "metadata": {
        "id": "J49fcKj2_S_B",
        "colab": {
          "base_uri": "https://localhost:8080/",
          "height": 645
        },
        "outputId": "d7c413dd-06cd-4ae6-9563-f048a50ee9a9"
      },
      "source": [
        "# age distribution of victims of other race\n",
        "plt.figure(figsize=(20,10))\n",
        "plt.hist(race['age'], bins=np.arange(min(race['age']), max(race['age']), 1),edgecolor='black')\n",
        "\n",
        "plt.xlabel('Age', fontsize=24)\n",
        "plt.ylabel('Count',fontsize=24)\n",
        "plt.title('Age distribution of victims of other race', fontsize=24)\n",
        "# more information\n",
        "mean = race['age'].mean()\n",
        "plt.axvline(mean, color='red', linewidth=2, label='Mean')\n",
        "median = race['age'].median()\n",
        "plt.axvline(median, color='yellow', linewidth=2, label='Median')\n",
        "std = race['age'].std()\n",
        "stdn2 = mean - 2*std\n",
        "stdn1 = mean - std\n",
        "stdp1 = mean + std\n",
        "stdp2 = mean + 2*std\n",
        "plt.axvline(stdn2, color='green', linewidth=2, label='Standard Deviations', linestyle='--')\n",
        "plt.axvline(stdn1, color='green', linewidth=2, linestyle='--')\n",
        "plt.axvline(stdp1, color='green', linewidth=2, linestyle='--')\n",
        "plt.axvline(stdp2, color='green', linewidth=2, linestyle='--')\n",
        "plt.legend(fontsize=24)\n",
        "plt.show()"
      ],
      "execution_count": 46,
      "outputs": [
        {
          "output_type": "display_data",
          "data": {
            "image/png": "[encoded data removed]",
            "text/plain": [
              "<Figure size 1440x720 with 1 Axes>"
            ]
          },
          "metadata": {
            "tags": [],
            "needs_background": "light"
          }
        }
      ]
    },
    {
      "cell_type": "code",
      "metadata": {
        "id": "VHMP8dIJFqJD",
        "colab": {
          "base_uri": "https://localhost:8080/"
        },
        "outputId": "ce013d8c-b8ab-466c-bf98-eb01302f8f1d"
      },
      "source": [
        "# skewness\n",
        "skew = 3*(mean - median)/std \n",
        "skew"
      ],
      "execution_count": 47,
      "outputs": [
        {
          "output_type": "execute_result",
          "data": {
            "text/plain": [
              "0.9610442243114937"
            ]
          },
          "metadata": {
            "tags": []
          },
          "execution_count": 47
        }
      ]
    },
    {
      "cell_type": "markdown",
      "metadata": {
        "id": "CozlST2YFqJD"
      },
      "source": [
        "### The ages of victims with other races are loosely distributed with a skewness of 0.96. The mean is 33 and is slightly greater the median 29, which results in a skewness of 0.3. Within one standard deviation (11) from the mean, the ages range between 23 and 44."
      ]
    },
    {
      "cell_type": "markdown",
      "metadata": {
        "id": "1PVP_eg4_hGi"
      },
      "source": [
        "### Race N (Native American)"
      ]
    },
    {
      "cell_type": "code",
      "metadata": {
        "id": "dyJEDqajFqJD",
        "colab": {
          "base_uri": "https://localhost:8080/"
        },
        "outputId": "deb5d1d8-c0ed-4877-c8a7-07a3438ec730"
      },
      "source": [
        "race = train[train['race']=='N']\n",
        "race['age'].describe()"
      ],
      "execution_count": 48,
      "outputs": [
        {
          "output_type": "execute_result",
          "data": {
            "text/plain": [
              "count    27.000000\n",
              "mean     31.111111\n",
              "std       8.266398\n",
              "min      19.000000\n",
              "25%      25.000000\n",
              "50%      31.000000\n",
              "75%      36.000000\n",
              "max      49.000000\n",
              "Name: age, dtype: float64"
            ]
          },
          "metadata": {
            "tags": []
          },
          "execution_count": 48
        }
      ]
    },
    {
      "cell_type": "code",
      "metadata": {
        "id": "BIQzXPw9_hGi",
        "colab": {
          "base_uri": "https://localhost:8080/",
          "height": 645
        },
        "outputId": "11c688ab-9ccf-49fb-abf1-83689fc090b3"
      },
      "source": [
        "# age distribution of native American victims\n",
        "plt.figure(figsize=(20,10))\n",
        "plt.hist(race['age'], bins=np.arange(min(race['age']), max(race['age']), 1),edgecolor='black')\n",
        "\n",
        "plt.xlabel('Age', fontsize=24)\n",
        "plt.ylabel('Count',fontsize=24)\n",
        "plt.title('Age distribution of native American victims', fontsize=24)\n",
        "# more information\n",
        "mean = race['age'].mean()\n",
        "plt.axvline(mean, color='red', linewidth=2, label='Mean')\n",
        "median = race['age'].median()\n",
        "plt.axvline(median, color='yellow', linewidth=2, label='Median')\n",
        "std = race['age'].std()\n",
        "stdn2 = mean - 2*std\n",
        "stdn1 = mean - std\n",
        "stdp1 = mean + std\n",
        "stdp2 = mean + 2*std\n",
        "plt.axvline(stdn2, color='green', linewidth=2, label='Standard Deviations', linestyle='--')\n",
        "plt.axvline(stdn1, color='green', linewidth=2, linestyle='--')\n",
        "plt.axvline(stdp1, color='green', linewidth=2, linestyle='--')\n",
        "plt.axvline(stdp2, color='green', linewidth=2, linestyle='--')\n",
        "plt.legend(fontsize=24)\n",
        "plt.show()"
      ],
      "execution_count": 49,
      "outputs": [
        {
          "output_type": "display_data",
          "data": {
            "image/png": "[encoded data removed]",
            "text/plain": [
              "<Figure size 1440x720 with 1 Axes>"
            ]
          },
          "metadata": {
            "tags": [],
            "needs_background": "light"
          }
        }
      ]
    },
    {
      "cell_type": "code",
      "metadata": {
        "id": "r-p1Ju0tFqJD",
        "colab": {
          "base_uri": "https://localhost:8080/"
        },
        "outputId": "3a2a677f-a315-449f-fa3c-47369a27bdf4"
      },
      "source": [
        "# skewness\n",
        "skew = 3*(mean - median)/std \n",
        "skew"
      ],
      "execution_count": 50,
      "outputs": [
        {
          "output_type": "execute_result",
          "data": {
            "text/plain": [
              "0.040323891927275445"
            ]
          },
          "metadata": {
            "tags": []
          },
          "execution_count": 50
        }
      ]
    },
    {
      "cell_type": "markdown",
      "metadata": {
        "id": "uF0ymycGFqJD"
      },
      "source": [
        "### The age distribution of native American victims is almost symmetric with a skewness of 0.04. The mean and median are aout 31. Within one standard deviation (8) from the mean, the ages range between 23 and 39."
      ]
    },
    {
      "cell_type": "markdown",
      "metadata": {
        "id": "_2IAWYF2__ry"
      },
      "source": [
        "## Total number of people killed per race"
      ]
    },
    {
      "cell_type": "code",
      "metadata": {
        "id": "VR87aHkJAHKG",
        "colab": {
          "base_uri": "https://localhost:8080/"
        },
        "outputId": "12532fc3-64ea-4e13-c8c8-a5c764262848"
      },
      "source": [
        "# total number of people killed per race\n",
        "train.value_counts([\"race\"])"
      ],
      "execution_count": 51,
      "outputs": [
        {
          "output_type": "execute_result",
          "data": {
            "text/plain": [
              "race\n",
              "W       995\n",
              "B       504\n",
              "H       347\n",
              "A        31\n",
              "O        28\n",
              "N        27\n",
              "dtype: int64"
            ]
          },
          "metadata": {
            "tags": []
          },
          "execution_count": 51
        }
      ]
    },
    {
      "cell_type": "markdown",
      "metadata": {
        "id": "6Onmr9PZmyfc"
      },
      "source": [
        "### Race ratio"
      ]
    },
    {
      "cell_type": "code",
      "metadata": {
        "id": "Ix0Ssuh8oQqP",
        "colab": {
          "base_uri": "https://localhost:8080/"
        },
        "outputId": "7f6aed84-4ace-4176-86d9-4e3d1804d505"
      },
      "source": [
        "# number of people killed in each race / total number of people killed in all races\n",
        "killed_ratio=train['race'].value_counts(normalize=True) * 100\n",
        "killed_ratio"
      ],
      "execution_count": 52,
      "outputs": [
        {
          "output_type": "execute_result",
          "data": {
            "text/plain": [
              "W    51.501035\n",
              "B    26.086957\n",
              "H    17.960663\n",
              "A     1.604555\n",
              "O     1.449275\n",
              "N     1.397516\n",
              "Name: race, dtype: float64"
            ]
          },
          "metadata": {
            "tags": []
          },
          "execution_count": 52
        }
      ]
    },
    {
      "cell_type": "markdown",
      "metadata": {
        "id": "4NRlp_3FFqJF"
      },
      "source": [
        "### More than half of the victims are white people, more than a quarter are black people, and the number of hispanic victims is about 1/5 of the total. The remaining races (Asian, Other, Native Americans) accounted for less than 5 percent of the victims."
      ]
    },
    {
      "cell_type": "markdown",
      "metadata": {
        "id": "5PfyP7zdoY1B",
        "outputId": "9709bbf6-1727-4a4d-c620-3f3ee223c04a"
      },
      "source": [
        "## Number of people killed per race as a proportion of respective races"
      ]
    },
    {
      "cell_type": "markdown",
      "metadata": {
        "id": "TKLif7d7FqJF"
      },
      "source": [
        "### According to the estimated race proportion in the U.S. from 2010 through 2019 by [U.S. Census Bureau](https://www.census.gov/quickfacts/fact/table/US/PST045219):\n",
        "- White: 60.1%\n",
        "- Hispanic: 18.8%\n",
        "- Black: 13.4%\n",
        "- Asian: 5.9%\n",
        "- Native Americans: 1.3%\n",
        "- Other (two or more races): 2.8%\n",
        "### Also, the American population from 2014 to 2017 increases from [320 million to 330 million](https://datacommons.org/tools/timeline#&place=country/USA&statsVar=Count_Person)."
      ]
    },
    {
      "cell_type": "code",
      "metadata": {
        "id": "rzh-wSXspaP_",
        "colab": {
          "base_uri": "https://localhost:8080/",
          "height": 235
        },
        "outputId": "7f847472-5656-4b43-b347-72dd82d4093a"
      },
      "source": [
        "# here, we take the median 325 million as the population constant \n",
        "p = 325\n",
        "# white population in millions\n",
        "wp = 0.601 * p\n",
        "# hispanic population in millions\n",
        "hp = 0.188 * p\n",
        "# black population in millions\n",
        "bp = 0.134 * p\n",
        "# Asian population in millions\n",
        "ap = 0.059 * p\n",
        "# native American population in millions\n",
        "np = 0.013 * p\n",
        "# other race population in millions\n",
        "op = 0.028 * p\n",
        "r = ['W', 'B', 'H', 'A', 'O', 'N']\n",
        "n = train.value_counts('race').tolist()\n",
        "t = [wp,bp,hp,ap,op,np]\n",
        "population = pd.DataFrame({'race': r, 'number of killed': n, 'population in millions': t})\n",
        "population"
      ],
      "execution_count": 53,
      "outputs": [
        {
          "output_type": "execute_result",
          "data": {
            "text/html": [
              "<div>\n",
              "<style scoped>\n",
              "    .dataframe tbody tr th:only-of-type {\n",
              "        vertical-align: middle;\n",
              "    }\n",
              "\n",
              "    .dataframe tbody tr th {\n",
              "        vertical-align: top;\n",
              "    }\n",
              "\n",
              "    .dataframe thead th {\n",
              "        text-align: right;\n",
              "    }\n",
              "</style>\n",
              "<table border=\"1\" class=\"dataframe\">\n",
              "  <thead>\n",
              "    <tr style=\"text-align: right;\">\n",
              "      <th></th>\n",
              "      <th>race</th>\n",
              "      <th>number of killed</th>\n",
              "      <th>population in millions</th>\n",
              "    </tr>\n",
              "  </thead>\n",
              "  <tbody>\n",
              "    <tr>\n",
              "      <th>0</th>\n",
              "      <td>W</td>\n",
              "      <td>995</td>\n",
              "      <td>195.325</td>\n",
              "    </tr>\n",
              "    <tr>\n",
              "      <th>1</th>\n",
              "      <td>B</td>\n",
              "      <td>504</td>\n",
              "      <td>43.550</td>\n",
              "    </tr>\n",
              "    <tr>\n",
              "      <th>2</th>\n",
              "      <td>H</td>\n",
              "      <td>347</td>\n",
              "      <td>61.100</td>\n",
              "    </tr>\n",
              "    <tr>\n",
              "      <th>3</th>\n",
              "      <td>A</td>\n",
              "      <td>31</td>\n",
              "      <td>19.175</td>\n",
              "    </tr>\n",
              "    <tr>\n",
              "      <th>4</th>\n",
              "      <td>O</td>\n",
              "      <td>28</td>\n",
              "      <td>9.100</td>\n",
              "    </tr>\n",
              "    <tr>\n",
              "      <th>5</th>\n",
              "      <td>N</td>\n",
              "      <td>27</td>\n",
              "      <td>4.225</td>\n",
              "    </tr>\n",
              "  </tbody>\n",
              "</table>\n",
              "</div>"
            ],
            "text/plain": [
              "  race  number of killed  population in millions\n",
              "0    W               995                 195.325\n",
              "1    B               504                  43.550\n",
              "2    H               347                  61.100\n",
              "3    A                31                  19.175\n",
              "4    O                28                   9.100\n",
              "5    N                27                   4.225"
            ]
          },
          "metadata": {
            "tags": []
          },
          "execution_count": 53
        }
      ]
    },
    {
      "cell_type": "code",
      "metadata": {
        "id": "sm5js9x3FqJF",
        "colab": {
          "base_uri": "https://localhost:8080/",
          "height": 235
        },
        "outputId": "71b3cbaf-f815-4371-de33-0dc50a56f8c9"
      },
      "source": [
        "# now, we can calculate the proportion of number of victims in respective race population\n",
        "proportion = pd.DataFrame({'race': r, 'number of people killed per million': population['number of killed']/population['population in millions']})\n",
        "proportion"
      ],
      "execution_count": 54,
      "outputs": [
        {
          "output_type": "execute_result",
          "data": {
            "text/html": [
              "<div>\n",
              "<style scoped>\n",
              "    .dataframe tbody tr th:only-of-type {\n",
              "        vertical-align: middle;\n",
              "    }\n",
              "\n",
              "    .dataframe tbody tr th {\n",
              "        vertical-align: top;\n",
              "    }\n",
              "\n",
              "    .dataframe thead th {\n",
              "        text-align: right;\n",
              "    }\n",
              "</style>\n",
              "<table border=\"1\" class=\"dataframe\">\n",
              "  <thead>\n",
              "    <tr style=\"text-align: right;\">\n",
              "      <th></th>\n",
              "      <th>race</th>\n",
              "      <th>number of people killed per million</th>\n",
              "    </tr>\n",
              "  </thead>\n",
              "  <tbody>\n",
              "    <tr>\n",
              "      <th>0</th>\n",
              "      <td>W</td>\n",
              "      <td>5.094074</td>\n",
              "    </tr>\n",
              "    <tr>\n",
              "      <th>1</th>\n",
              "      <td>B</td>\n",
              "      <td>11.572905</td>\n",
              "    </tr>\n",
              "    <tr>\n",
              "      <th>2</th>\n",
              "      <td>H</td>\n",
              "      <td>5.679214</td>\n",
              "    </tr>\n",
              "    <tr>\n",
              "      <th>3</th>\n",
              "      <td>A</td>\n",
              "      <td>1.616688</td>\n",
              "    </tr>\n",
              "    <tr>\n",
              "      <th>4</th>\n",
              "      <td>O</td>\n",
              "      <td>3.076923</td>\n",
              "    </tr>\n",
              "    <tr>\n",
              "      <th>5</th>\n",
              "      <td>N</td>\n",
              "      <td>6.390533</td>\n",
              "    </tr>\n",
              "  </tbody>\n",
              "</table>\n",
              "</div>"
            ],
            "text/plain": [
              "  race  number of people killed per million\n",
              "0    W                             5.094074\n",
              "1    B                            11.572905\n",
              "2    H                             5.679214\n",
              "3    A                             1.616688\n",
              "4    O                             3.076923\n",
              "5    N                             6.390533"
            ]
          },
          "metadata": {
            "tags": []
          },
          "execution_count": 54
        }
      ]
    },
    {
      "cell_type": "code",
      "metadata": {
        "id": "Foif7MfwFqJG",
        "colab": {
          "base_uri": "https://localhost:8080/",
          "height": 645
        },
        "outputId": "ce72e025-2119-40eb-be6c-d1445468f079"
      },
      "source": [
        "# plot the bar graph\n",
        "plt.figure(figsize=(20,10))\n",
        "plt.bar(x=proportion['race'], height=proportion['number of people killed per million'])\n",
        "plt.xlabel(\"Race\", fontsize = 24)\n",
        "plt.ylabel(\"Number of people killed per million population\", fontsize = 16)\n",
        "plt.title('Proportion of number of victims per million population per race', fontsize = 24)\n",
        "plt.show()"
      ],
      "execution_count": 55,
      "outputs": [
        {
          "output_type": "display_data",
          "data": {
            "image/png": "[encoded data removed]",
            "text/plain": [
              "<Figure size 1440x720 with 1 Axes>"
            ]
          },
          "metadata": {
            "tags": [],
            "needs_background": "light"
          }
        }
      ]
    },
    {
      "cell_type": "markdown",
      "metadata": {
        "id": "fmh-jDKwFqJG"
      },
      "source": [
        "### From the proportion data and the bar graph we can see that\n",
        "- the number of black victims is twice as much as white victims in a scale of per million population of each race\n",
        "- the number of native American victims is slightly higher than the number of hispanic victims which is slightly higher than the number of white victims per million population\n",
        "- the number of victims with other races (two or more races) is about half of the number of white victims per million population\n",
        "- the proportion of number of Asian victims per million population has the least value"
      ]
    },
    {
      "cell_type": "markdown",
      "metadata": {
        "id": "QmeQss4Jwo0u"
      },
      "source": [
        "# Machine Learning algorithm\n"
      ]
    },
    {
      "cell_type": "code",
      "metadata": {
        "id": "UA7SnJ1WxIfW"
      },
      "source": [
        "# imports\n",
        "from sklearn.model_selection import train_test_split\n",
        "from sklearn.metrics import mean_squared_error, r2_score\n",
        "\n",
        "from sklearn.linear_model import LogisticRegression\n",
        "from sklearn.metrics import f1_score, accuracy_score, precision_recall_fscore_support"
      ],
      "execution_count": 56,
      "outputs": []
    },
    {
      "cell_type": "markdown",
      "metadata": {
        "id": "A5AHsYQZUBgN"
      },
      "source": [
        "### Data Modified"
      ]
    },
    {
      "cell_type": "code",
      "metadata": {
        "id": "zzy2zTLgk1Ad",
        "colab": {
          "base_uri": "https://localhost:8080/",
          "height": 204
        },
        "outputId": "80c25f78-b1a0-4546-bb30-3ca14f8c3c69"
      },
      "source": [
        "train.head()"
      ],
      "execution_count": 57,
      "outputs": [
        {
          "output_type": "execute_result",
          "data": {
            "text/html": [
              "<div>\n",
              "<style scoped>\n",
              "    .dataframe tbody tr th:only-of-type {\n",
              "        vertical-align: middle;\n",
              "    }\n",
              "\n",
              "    .dataframe tbody tr th {\n",
              "        vertical-align: top;\n",
              "    }\n",
              "\n",
              "    .dataframe thead th {\n",
              "        text-align: right;\n",
              "    }\n",
              "</style>\n",
              "<table border=\"1\" class=\"dataframe\">\n",
              "  <thead>\n",
              "    <tr style=\"text-align: right;\">\n",
              "      <th></th>\n",
              "      <th>id</th>\n",
              "      <th>name</th>\n",
              "      <th>date</th>\n",
              "      <th>manner_of_death</th>\n",
              "      <th>armed</th>\n",
              "      <th>age</th>\n",
              "      <th>gender</th>\n",
              "      <th>race</th>\n",
              "      <th>city</th>\n",
              "      <th>state</th>\n",
              "      <th>signs_of_mental_illness</th>\n",
              "      <th>threat_level</th>\n",
              "      <th>flee</th>\n",
              "      <th>body_camera</th>\n",
              "    </tr>\n",
              "  </thead>\n",
              "  <tbody>\n",
              "    <tr>\n",
              "      <th>0</th>\n",
              "      <td>3</td>\n",
              "      <td>Tim Elliot</td>\n",
              "      <td>02/01/15</td>\n",
              "      <td>shot</td>\n",
              "      <td>gun</td>\n",
              "      <td>53.0</td>\n",
              "      <td>M</td>\n",
              "      <td>A</td>\n",
              "      <td>Shelton</td>\n",
              "      <td>WA</td>\n",
              "      <td>True</td>\n",
              "      <td>attack</td>\n",
              "      <td>Not fleeing</td>\n",
              "      <td>False</td>\n",
              "    </tr>\n",
              "    <tr>\n",
              "      <th>1</th>\n",
              "      <td>4</td>\n",
              "      <td>Lewis Lee Lembke</td>\n",
              "      <td>02/01/15</td>\n",
              "      <td>shot</td>\n",
              "      <td>gun</td>\n",
              "      <td>47.0</td>\n",
              "      <td>M</td>\n",
              "      <td>W</td>\n",
              "      <td>Aloha</td>\n",
              "      <td>OR</td>\n",
              "      <td>False</td>\n",
              "      <td>attack</td>\n",
              "      <td>Not fleeing</td>\n",
              "      <td>False</td>\n",
              "    </tr>\n",
              "    <tr>\n",
              "      <th>2</th>\n",
              "      <td>5</td>\n",
              "      <td>John Paul Quintero</td>\n",
              "      <td>03/01/15</td>\n",
              "      <td>shot and Tasered</td>\n",
              "      <td>unarmed</td>\n",
              "      <td>23.0</td>\n",
              "      <td>M</td>\n",
              "      <td>H</td>\n",
              "      <td>Wichita</td>\n",
              "      <td>KS</td>\n",
              "      <td>False</td>\n",
              "      <td>other</td>\n",
              "      <td>Not fleeing</td>\n",
              "      <td>False</td>\n",
              "    </tr>\n",
              "    <tr>\n",
              "      <th>3</th>\n",
              "      <td>8</td>\n",
              "      <td>Matthew Hoffman</td>\n",
              "      <td>04/01/15</td>\n",
              "      <td>shot</td>\n",
              "      <td>toy weapon</td>\n",
              "      <td>32.0</td>\n",
              "      <td>M</td>\n",
              "      <td>W</td>\n",
              "      <td>San Francisco</td>\n",
              "      <td>CA</td>\n",
              "      <td>True</td>\n",
              "      <td>attack</td>\n",
              "      <td>Not fleeing</td>\n",
              "      <td>False</td>\n",
              "    </tr>\n",
              "    <tr>\n",
              "      <th>4</th>\n",
              "      <td>9</td>\n",
              "      <td>Michael Rodriguez</td>\n",
              "      <td>04/01/15</td>\n",
              "      <td>shot</td>\n",
              "      <td>nail gun</td>\n",
              "      <td>39.0</td>\n",
              "      <td>M</td>\n",
              "      <td>H</td>\n",
              "      <td>Evans</td>\n",
              "      <td>CO</td>\n",
              "      <td>False</td>\n",
              "      <td>attack</td>\n",
              "      <td>Not fleeing</td>\n",
              "      <td>False</td>\n",
              "    </tr>\n",
              "  </tbody>\n",
              "</table>\n",
              "</div>"
            ],
            "text/plain": [
              "   id                name      date  ... threat_level         flee  body_camera\n",
              "0   3          Tim Elliot  02/01/15  ...       attack  Not fleeing        False\n",
              "1   4    Lewis Lee Lembke  02/01/15  ...       attack  Not fleeing        False\n",
              "2   5  John Paul Quintero  03/01/15  ...        other  Not fleeing        False\n",
              "3   8     Matthew Hoffman  04/01/15  ...       attack  Not fleeing        False\n",
              "4   9   Michael Rodriguez  04/01/15  ...       attack  Not fleeing        False\n",
              "\n",
              "[5 rows x 14 columns]"
            ]
          },
          "metadata": {
            "tags": []
          },
          "execution_count": 57
        }
      ]
    },
    {
      "cell_type": "code",
      "metadata": {
        "id": "CfIPoHVgk3jf",
        "colab": {
          "base_uri": "https://localhost:8080/",
          "height": 204
        },
        "outputId": "6d06af5d-93b6-4577-ea61-8699b16a8dbe"
      },
      "source": [
        "merged.head()"
      ],
      "execution_count": 58,
      "outputs": [
        {
          "output_type": "execute_result",
          "data": {
            "text/html": [
              "<div>\n",
              "<style scoped>\n",
              "    .dataframe tbody tr th:only-of-type {\n",
              "        vertical-align: middle;\n",
              "    }\n",
              "\n",
              "    .dataframe tbody tr th {\n",
              "        vertical-align: top;\n",
              "    }\n",
              "\n",
              "    .dataframe thead th {\n",
              "        text-align: right;\n",
              "    }\n",
              "</style>\n",
              "<table border=\"1\" class=\"dataframe\">\n",
              "  <thead>\n",
              "    <tr style=\"text-align: right;\">\n",
              "      <th></th>\n",
              "      <th>state</th>\n",
              "      <th>city</th>\n",
              "      <th>percent_completed_hs</th>\n",
              "      <th>Median Income</th>\n",
              "      <th>poverty_rate</th>\n",
              "      <th>share_white</th>\n",
              "      <th>share_black</th>\n",
              "      <th>share_native_american</th>\n",
              "      <th>share_asian</th>\n",
              "      <th>share_hispanic</th>\n",
              "    </tr>\n",
              "  </thead>\n",
              "  <tbody>\n",
              "    <tr>\n",
              "      <th>0</th>\n",
              "      <td>AL</td>\n",
              "      <td>Abanda CDP</td>\n",
              "      <td>21.2</td>\n",
              "      <td>11207.0</td>\n",
              "      <td>78.8</td>\n",
              "      <td>67.2</td>\n",
              "      <td>30.2</td>\n",
              "      <td>0.0</td>\n",
              "      <td>0.0</td>\n",
              "      <td>1.6</td>\n",
              "    </tr>\n",
              "    <tr>\n",
              "      <th>1</th>\n",
              "      <td>AL</td>\n",
              "      <td>Abbeville city</td>\n",
              "      <td>69.1</td>\n",
              "      <td>25615.0</td>\n",
              "      <td>29.1</td>\n",
              "      <td>54.4</td>\n",
              "      <td>41.4</td>\n",
              "      <td>0.1</td>\n",
              "      <td>1.0</td>\n",
              "      <td>3.1</td>\n",
              "    </tr>\n",
              "    <tr>\n",
              "      <th>2</th>\n",
              "      <td>AL</td>\n",
              "      <td>Adamsville city</td>\n",
              "      <td>78.9</td>\n",
              "      <td>42575.0</td>\n",
              "      <td>25.5</td>\n",
              "      <td>52.3</td>\n",
              "      <td>44.9</td>\n",
              "      <td>0.5</td>\n",
              "      <td>0.3</td>\n",
              "      <td>2.3</td>\n",
              "    </tr>\n",
              "    <tr>\n",
              "      <th>3</th>\n",
              "      <td>AL</td>\n",
              "      <td>Addison town</td>\n",
              "      <td>81.4</td>\n",
              "      <td>37083.0</td>\n",
              "      <td>30.7</td>\n",
              "      <td>99.1</td>\n",
              "      <td>0.1</td>\n",
              "      <td>0.0</td>\n",
              "      <td>0.1</td>\n",
              "      <td>0.4</td>\n",
              "    </tr>\n",
              "    <tr>\n",
              "      <th>4</th>\n",
              "      <td>AL</td>\n",
              "      <td>Akron town</td>\n",
              "      <td>68.6</td>\n",
              "      <td>21667.0</td>\n",
              "      <td>42.0</td>\n",
              "      <td>13.2</td>\n",
              "      <td>86.5</td>\n",
              "      <td>0.0</td>\n",
              "      <td>0.0</td>\n",
              "      <td>0.3</td>\n",
              "    </tr>\n",
              "  </tbody>\n",
              "</table>\n",
              "</div>"
            ],
            "text/plain": [
              "  state             city  ...  share_asian  share_hispanic\n",
              "0    AL       Abanda CDP  ...          0.0             1.6\n",
              "1    AL   Abbeville city  ...          1.0             3.1\n",
              "2    AL  Adamsville city  ...          0.3             2.3\n",
              "3    AL     Addison town  ...          0.1             0.4\n",
              "4    AL       Akron town  ...          0.0             0.3\n",
              "\n",
              "[5 rows x 10 columns]"
            ]
          },
          "metadata": {
            "tags": []
          },
          "execution_count": 58
        }
      ]
    },
    {
      "cell_type": "markdown",
      "metadata": {
        "id": "GhfaTdEuFqJH"
      },
      "source": [
        "### city names do not match; for exmaple, train`[`'city'`]` = 'New York', merged`[`'city'`]`  = 'New York City' "
      ]
    },
    {
      "cell_type": "code",
      "metadata": {
        "id": "PwdyyePalFL7",
        "colab": {
          "base_uri": "https://localhost:8080/",
          "height": 289
        },
        "outputId": "522e9c16-5823-4a41-872d-bd6177ad01f0"
      },
      "source": [
        "for i in range(len(merged)):\n",
        "  merged['city'][i]=' '.join(merged['city'][i].split()[:-1])\n",
        "merged.head()"
      ],
      "execution_count": 59,
      "outputs": [
        {
          "output_type": "stream",
          "text": [
            "/usr/local/lib/python3.7/dist-packages/ipykernel_launcher.py:2: SettingWithCopyWarning: \n",
            "A value is trying to be set on a copy of a slice from a DataFrame\n",
            "\n",
            "See the caveats in the documentation: https://pandas.pydata.org/pandas-docs/stable/user_guide/indexing.html#returning-a-view-versus-a-copy\n",
            "  \n"
          ],
          "name": "stderr"
        },
        {
          "output_type": "execute_result",
          "data": {
            "text/html": [
              "<div>\n",
              "<style scoped>\n",
              "    .dataframe tbody tr th:only-of-type {\n",
              "        vertical-align: middle;\n",
              "    }\n",
              "\n",
              "    .dataframe tbody tr th {\n",
              "        vertical-align: top;\n",
              "    }\n",
              "\n",
              "    .dataframe thead th {\n",
              "        text-align: right;\n",
              "    }\n",
              "</style>\n",
              "<table border=\"1\" class=\"dataframe\">\n",
              "  <thead>\n",
              "    <tr style=\"text-align: right;\">\n",
              "      <th></th>\n",
              "      <th>state</th>\n",
              "      <th>city</th>\n",
              "      <th>percent_completed_hs</th>\n",
              "      <th>Median Income</th>\n",
              "      <th>poverty_rate</th>\n",
              "      <th>share_white</th>\n",
              "      <th>share_black</th>\n",
              "      <th>share_native_american</th>\n",
              "      <th>share_asian</th>\n",
              "      <th>share_hispanic</th>\n",
              "    </tr>\n",
              "  </thead>\n",
              "  <tbody>\n",
              "    <tr>\n",
              "      <th>0</th>\n",
              "      <td>AL</td>\n",
              "      <td>Abanda</td>\n",
              "      <td>21.2</td>\n",
              "      <td>11207.0</td>\n",
              "      <td>78.8</td>\n",
              "      <td>67.2</td>\n",
              "      <td>30.2</td>\n",
              "      <td>0.0</td>\n",
              "      <td>0.0</td>\n",
              "      <td>1.6</td>\n",
              "    </tr>\n",
              "    <tr>\n",
              "      <th>1</th>\n",
              "      <td>AL</td>\n",
              "      <td>Abbeville</td>\n",
              "      <td>69.1</td>\n",
              "      <td>25615.0</td>\n",
              "      <td>29.1</td>\n",
              "      <td>54.4</td>\n",
              "      <td>41.4</td>\n",
              "      <td>0.1</td>\n",
              "      <td>1.0</td>\n",
              "      <td>3.1</td>\n",
              "    </tr>\n",
              "    <tr>\n",
              "      <th>2</th>\n",
              "      <td>AL</td>\n",
              "      <td>Adamsville</td>\n",
              "      <td>78.9</td>\n",
              "      <td>42575.0</td>\n",
              "      <td>25.5</td>\n",
              "      <td>52.3</td>\n",
              "      <td>44.9</td>\n",
              "      <td>0.5</td>\n",
              "      <td>0.3</td>\n",
              "      <td>2.3</td>\n",
              "    </tr>\n",
              "    <tr>\n",
              "      <th>3</th>\n",
              "      <td>AL</td>\n",
              "      <td>Addison</td>\n",
              "      <td>81.4</td>\n",
              "      <td>37083.0</td>\n",
              "      <td>30.7</td>\n",
              "      <td>99.1</td>\n",
              "      <td>0.1</td>\n",
              "      <td>0.0</td>\n",
              "      <td>0.1</td>\n",
              "      <td>0.4</td>\n",
              "    </tr>\n",
              "    <tr>\n",
              "      <th>4</th>\n",
              "      <td>AL</td>\n",
              "      <td>Akron</td>\n",
              "      <td>68.6</td>\n",
              "      <td>21667.0</td>\n",
              "      <td>42.0</td>\n",
              "      <td>13.2</td>\n",
              "      <td>86.5</td>\n",
              "      <td>0.0</td>\n",
              "      <td>0.0</td>\n",
              "      <td>0.3</td>\n",
              "    </tr>\n",
              "  </tbody>\n",
              "</table>\n",
              "</div>"
            ],
            "text/plain": [
              "  state        city  ...  share_asian  share_hispanic\n",
              "0    AL      Abanda  ...          0.0             1.6\n",
              "1    AL   Abbeville  ...          1.0             3.1\n",
              "2    AL  Adamsville  ...          0.3             2.3\n",
              "3    AL     Addison  ...          0.1             0.4\n",
              "4    AL       Akron  ...          0.0             0.3\n",
              "\n",
              "[5 rows x 10 columns]"
            ]
          },
          "metadata": {
            "tags": []
          },
          "execution_count": 59
        }
      ]
    },
    {
      "cell_type": "code",
      "metadata": {
        "id": "rvLDNNBJmhTy",
        "colab": {
          "base_uri": "https://localhost:8080/",
          "height": 419
        },
        "outputId": "ac520216-1d07-48a8-e879-dc7eebd25d45"
      },
      "source": [
        "train"
      ],
      "execution_count": 60,
      "outputs": [
        {
          "output_type": "execute_result",
          "data": {
            "text/html": [
              "<div>\n",
              "<style scoped>\n",
              "    .dataframe tbody tr th:only-of-type {\n",
              "        vertical-align: middle;\n",
              "    }\n",
              "\n",
              "    .dataframe tbody tr th {\n",
              "        vertical-align: top;\n",
              "    }\n",
              "\n",
              "    .dataframe thead th {\n",
              "        text-align: right;\n",
              "    }\n",
              "</style>\n",
              "<table border=\"1\" class=\"dataframe\">\n",
              "  <thead>\n",
              "    <tr style=\"text-align: right;\">\n",
              "      <th></th>\n",
              "      <th>id</th>\n",
              "      <th>name</th>\n",
              "      <th>date</th>\n",
              "      <th>manner_of_death</th>\n",
              "      <th>armed</th>\n",
              "      <th>age</th>\n",
              "      <th>gender</th>\n",
              "      <th>race</th>\n",
              "      <th>city</th>\n",
              "      <th>state</th>\n",
              "      <th>signs_of_mental_illness</th>\n",
              "      <th>threat_level</th>\n",
              "      <th>flee</th>\n",
              "      <th>body_camera</th>\n",
              "    </tr>\n",
              "  </thead>\n",
              "  <tbody>\n",
              "    <tr>\n",
              "      <th>0</th>\n",
              "      <td>3</td>\n",
              "      <td>Tim Elliot</td>\n",
              "      <td>02/01/15</td>\n",
              "      <td>shot</td>\n",
              "      <td>gun</td>\n",
              "      <td>53.0</td>\n",
              "      <td>M</td>\n",
              "      <td>A</td>\n",
              "      <td>Shelton</td>\n",
              "      <td>WA</td>\n",
              "      <td>True</td>\n",
              "      <td>attack</td>\n",
              "      <td>Not fleeing</td>\n",
              "      <td>False</td>\n",
              "    </tr>\n",
              "    <tr>\n",
              "      <th>1</th>\n",
              "      <td>4</td>\n",
              "      <td>Lewis Lee Lembke</td>\n",
              "      <td>02/01/15</td>\n",
              "      <td>shot</td>\n",
              "      <td>gun</td>\n",
              "      <td>47.0</td>\n",
              "      <td>M</td>\n",
              "      <td>W</td>\n",
              "      <td>Aloha</td>\n",
              "      <td>OR</td>\n",
              "      <td>False</td>\n",
              "      <td>attack</td>\n",
              "      <td>Not fleeing</td>\n",
              "      <td>False</td>\n",
              "    </tr>\n",
              "    <tr>\n",
              "      <th>2</th>\n",
              "      <td>5</td>\n",
              "      <td>John Paul Quintero</td>\n",
              "      <td>03/01/15</td>\n",
              "      <td>shot and Tasered</td>\n",
              "      <td>unarmed</td>\n",
              "      <td>23.0</td>\n",
              "      <td>M</td>\n",
              "      <td>H</td>\n",
              "      <td>Wichita</td>\n",
              "      <td>KS</td>\n",
              "      <td>False</td>\n",
              "      <td>other</td>\n",
              "      <td>Not fleeing</td>\n",
              "      <td>False</td>\n",
              "    </tr>\n",
              "    <tr>\n",
              "      <th>3</th>\n",
              "      <td>8</td>\n",
              "      <td>Matthew Hoffman</td>\n",
              "      <td>04/01/15</td>\n",
              "      <td>shot</td>\n",
              "      <td>toy weapon</td>\n",
              "      <td>32.0</td>\n",
              "      <td>M</td>\n",
              "      <td>W</td>\n",
              "      <td>San Francisco</td>\n",
              "      <td>CA</td>\n",
              "      <td>True</td>\n",
              "      <td>attack</td>\n",
              "      <td>Not fleeing</td>\n",
              "      <td>False</td>\n",
              "    </tr>\n",
              "    <tr>\n",
              "      <th>4</th>\n",
              "      <td>9</td>\n",
              "      <td>Michael Rodriguez</td>\n",
              "      <td>04/01/15</td>\n",
              "      <td>shot</td>\n",
              "      <td>nail gun</td>\n",
              "      <td>39.0</td>\n",
              "      <td>M</td>\n",
              "      <td>H</td>\n",
              "      <td>Evans</td>\n",
              "      <td>CO</td>\n",
              "      <td>False</td>\n",
              "      <td>attack</td>\n",
              "      <td>Not fleeing</td>\n",
              "      <td>False</td>\n",
              "    </tr>\n",
              "    <tr>\n",
              "      <th>...</th>\n",
              "      <td>...</td>\n",
              "      <td>...</td>\n",
              "      <td>...</td>\n",
              "      <td>...</td>\n",
              "      <td>...</td>\n",
              "      <td>...</td>\n",
              "      <td>...</td>\n",
              "      <td>...</td>\n",
              "      <td>...</td>\n",
              "      <td>...</td>\n",
              "      <td>...</td>\n",
              "      <td>...</td>\n",
              "      <td>...</td>\n",
              "      <td>...</td>\n",
              "    </tr>\n",
              "    <tr>\n",
              "      <th>2023</th>\n",
              "      <td>2256</td>\n",
              "      <td>Jeremy Lopez-Robledo</td>\n",
              "      <td>24/01/17</td>\n",
              "      <td>shot</td>\n",
              "      <td>knife</td>\n",
              "      <td>29.0</td>\n",
              "      <td>M</td>\n",
              "      <td>H</td>\n",
              "      <td>Las Cruces</td>\n",
              "      <td>NM</td>\n",
              "      <td>True</td>\n",
              "      <td>attack</td>\n",
              "      <td>Foot</td>\n",
              "      <td>True</td>\n",
              "    </tr>\n",
              "    <tr>\n",
              "      <th>2024</th>\n",
              "      <td>2257</td>\n",
              "      <td>Jonathan David Sper</td>\n",
              "      <td>24/01/17</td>\n",
              "      <td>shot</td>\n",
              "      <td>unarmed</td>\n",
              "      <td>30.0</td>\n",
              "      <td>M</td>\n",
              "      <td>W</td>\n",
              "      <td>Algoma Township</td>\n",
              "      <td>MI</td>\n",
              "      <td>True</td>\n",
              "      <td>attack</td>\n",
              "      <td>Not fleeing</td>\n",
              "      <td>False</td>\n",
              "    </tr>\n",
              "    <tr>\n",
              "      <th>2025</th>\n",
              "      <td>2258</td>\n",
              "      <td>Jose Efrain Rodriguez</td>\n",
              "      <td>24/01/17</td>\n",
              "      <td>shot and Tasered</td>\n",
              "      <td>gun</td>\n",
              "      <td>18.0</td>\n",
              "      <td>M</td>\n",
              "      <td>H</td>\n",
              "      <td>Lancaster City</td>\n",
              "      <td>PA</td>\n",
              "      <td>False</td>\n",
              "      <td>attack</td>\n",
              "      <td>Not fleeing</td>\n",
              "      <td>False</td>\n",
              "    </tr>\n",
              "    <tr>\n",
              "      <th>2026</th>\n",
              "      <td>2259</td>\n",
              "      <td>Ramon Milanez</td>\n",
              "      <td>24/01/17</td>\n",
              "      <td>shot</td>\n",
              "      <td>gun</td>\n",
              "      <td>32.0</td>\n",
              "      <td>M</td>\n",
              "      <td>H</td>\n",
              "      <td>Kuna</td>\n",
              "      <td>ID</td>\n",
              "      <td>False</td>\n",
              "      <td>attack</td>\n",
              "      <td>Car</td>\n",
              "      <td>False</td>\n",
              "    </tr>\n",
              "    <tr>\n",
              "      <th>2027</th>\n",
              "      <td>2260</td>\n",
              "      <td>Micah R. Lambert</td>\n",
              "      <td>25/01/17</td>\n",
              "      <td>shot</td>\n",
              "      <td>vehicle</td>\n",
              "      <td>37.0</td>\n",
              "      <td>M</td>\n",
              "      <td>W</td>\n",
              "      <td>Oxford</td>\n",
              "      <td>AL</td>\n",
              "      <td>True</td>\n",
              "      <td>attack</td>\n",
              "      <td>Car</td>\n",
              "      <td>False</td>\n",
              "    </tr>\n",
              "  </tbody>\n",
              "</table>\n",
              "<p>1932 rows × 14 columns</p>\n",
              "</div>"
            ],
            "text/plain": [
              "        id                   name  ...         flee body_camera\n",
              "0        3             Tim Elliot  ...  Not fleeing       False\n",
              "1        4       Lewis Lee Lembke  ...  Not fleeing       False\n",
              "2        5     John Paul Quintero  ...  Not fleeing       False\n",
              "3        8        Matthew Hoffman  ...  Not fleeing       False\n",
              "4        9      Michael Rodriguez  ...  Not fleeing       False\n",
              "...    ...                    ...  ...          ...         ...\n",
              "2023  2256   Jeremy Lopez-Robledo  ...         Foot        True\n",
              "2024  2257    Jonathan David Sper  ...  Not fleeing       False\n",
              "2025  2258  Jose Efrain Rodriguez  ...  Not fleeing       False\n",
              "2026  2259          Ramon Milanez  ...          Car       False\n",
              "2027  2260       Micah R. Lambert  ...          Car       False\n",
              "\n",
              "[1932 rows x 14 columns]"
            ]
          },
          "metadata": {
            "tags": []
          },
          "execution_count": 60
        }
      ]
    },
    {
      "cell_type": "markdown",
      "metadata": {
        "id": "QPgSAuq-aSXB"
      },
      "source": [
        "### Converted String label to number"
      ]
    },
    {
      "cell_type": "code",
      "metadata": {
        "id": "ULL3vDT5FqJJ",
        "colab": {
          "base_uri": "https://localhost:8080/"
        },
        "outputId": "78252d3f-abc2-4a41-b0dd-b2f989ac6473"
      },
      "source": [
        "race_map = {}\n",
        "for (columnName, columnData) in train.iteritems():\n",
        "  if columnName != \"city\" and columnName != \"state\" and columnName != \"age\" and columnName != \"race\":\n",
        "    summaries = train[columnName].unique()\n",
        "    summary_mapping = {key:i for key,i in zip(summaries, range(len(summaries)))}\n",
        "    train[columnName] = [summary_mapping[elem] for elem in train[columnName]]\n",
        "\n",
        "race_map"
      ],
      "execution_count": 61,
      "outputs": [
        {
          "output_type": "execute_result",
          "data": {
            "text/plain": [
              "{}"
            ]
          },
          "metadata": {
            "tags": []
          },
          "execution_count": 61
        }
      ]
    },
    {
      "cell_type": "code",
      "metadata": {
        "id": "AWaJVtaAa84A",
        "colab": {
          "base_uri": "https://localhost:8080/",
          "height": 419
        },
        "outputId": "2d441812-b146-4c77-d0ca-ea544d0c8aa2"
      },
      "source": [
        "train.drop(columns=['id', 'name', 'date'], inplace=True)\n",
        "train"
      ],
      "execution_count": 62,
      "outputs": [
        {
          "output_type": "execute_result",
          "data": {
            "text/html": [
              "<div>\n",
              "<style scoped>\n",
              "    .dataframe tbody tr th:only-of-type {\n",
              "        vertical-align: middle;\n",
              "    }\n",
              "\n",
              "    .dataframe tbody tr th {\n",
              "        vertical-align: top;\n",
              "    }\n",
              "\n",
              "    .dataframe thead th {\n",
              "        text-align: right;\n",
              "    }\n",
              "</style>\n",
              "<table border=\"1\" class=\"dataframe\">\n",
              "  <thead>\n",
              "    <tr style=\"text-align: right;\">\n",
              "      <th></th>\n",
              "      <th>manner_of_death</th>\n",
              "      <th>armed</th>\n",
              "      <th>age</th>\n",
              "      <th>gender</th>\n",
              "      <th>race</th>\n",
              "      <th>city</th>\n",
              "      <th>state</th>\n",
              "      <th>signs_of_mental_illness</th>\n",
              "      <th>threat_level</th>\n",
              "      <th>flee</th>\n",
              "      <th>body_camera</th>\n",
              "    </tr>\n",
              "  </thead>\n",
              "  <tbody>\n",
              "    <tr>\n",
              "      <th>0</th>\n",
              "      <td>0</td>\n",
              "      <td>0</td>\n",
              "      <td>53.0</td>\n",
              "      <td>0</td>\n",
              "      <td>A</td>\n",
              "      <td>Shelton</td>\n",
              "      <td>WA</td>\n",
              "      <td>0</td>\n",
              "      <td>0</td>\n",
              "      <td>0</td>\n",
              "      <td>0</td>\n",
              "    </tr>\n",
              "    <tr>\n",
              "      <th>1</th>\n",
              "      <td>0</td>\n",
              "      <td>0</td>\n",
              "      <td>47.0</td>\n",
              "      <td>0</td>\n",
              "      <td>W</td>\n",
              "      <td>Aloha</td>\n",
              "      <td>OR</td>\n",
              "      <td>1</td>\n",
              "      <td>0</td>\n",
              "      <td>0</td>\n",
              "      <td>0</td>\n",
              "    </tr>\n",
              "    <tr>\n",
              "      <th>2</th>\n",
              "      <td>1</td>\n",
              "      <td>1</td>\n",
              "      <td>23.0</td>\n",
              "      <td>0</td>\n",
              "      <td>H</td>\n",
              "      <td>Wichita</td>\n",
              "      <td>KS</td>\n",
              "      <td>1</td>\n",
              "      <td>1</td>\n",
              "      <td>0</td>\n",
              "      <td>0</td>\n",
              "    </tr>\n",
              "    <tr>\n",
              "      <th>3</th>\n",
              "      <td>0</td>\n",
              "      <td>2</td>\n",
              "      <td>32.0</td>\n",
              "      <td>0</td>\n",
              "      <td>W</td>\n",
              "      <td>San Francisco</td>\n",
              "      <td>CA</td>\n",
              "      <td>0</td>\n",
              "      <td>0</td>\n",
              "      <td>0</td>\n",
              "      <td>0</td>\n",
              "    </tr>\n",
              "    <tr>\n",
              "      <th>4</th>\n",
              "      <td>0</td>\n",
              "      <td>3</td>\n",
              "      <td>39.0</td>\n",
              "      <td>0</td>\n",
              "      <td>H</td>\n",
              "      <td>Evans</td>\n",
              "      <td>CO</td>\n",
              "      <td>1</td>\n",
              "      <td>0</td>\n",
              "      <td>0</td>\n",
              "      <td>0</td>\n",
              "    </tr>\n",
              "    <tr>\n",
              "      <th>...</th>\n",
              "      <td>...</td>\n",
              "      <td>...</td>\n",
              "      <td>...</td>\n",
              "      <td>...</td>\n",
              "      <td>...</td>\n",
              "      <td>...</td>\n",
              "      <td>...</td>\n",
              "      <td>...</td>\n",
              "      <td>...</td>\n",
              "      <td>...</td>\n",
              "      <td>...</td>\n",
              "    </tr>\n",
              "    <tr>\n",
              "      <th>2023</th>\n",
              "      <td>0</td>\n",
              "      <td>4</td>\n",
              "      <td>29.0</td>\n",
              "      <td>0</td>\n",
              "      <td>H</td>\n",
              "      <td>Las Cruces</td>\n",
              "      <td>NM</td>\n",
              "      <td>0</td>\n",
              "      <td>0</td>\n",
              "      <td>2</td>\n",
              "      <td>1</td>\n",
              "    </tr>\n",
              "    <tr>\n",
              "      <th>2024</th>\n",
              "      <td>0</td>\n",
              "      <td>1</td>\n",
              "      <td>30.0</td>\n",
              "      <td>0</td>\n",
              "      <td>W</td>\n",
              "      <td>Algoma Township</td>\n",
              "      <td>MI</td>\n",
              "      <td>0</td>\n",
              "      <td>0</td>\n",
              "      <td>0</td>\n",
              "      <td>0</td>\n",
              "    </tr>\n",
              "    <tr>\n",
              "      <th>2025</th>\n",
              "      <td>1</td>\n",
              "      <td>0</td>\n",
              "      <td>18.0</td>\n",
              "      <td>0</td>\n",
              "      <td>H</td>\n",
              "      <td>Lancaster City</td>\n",
              "      <td>PA</td>\n",
              "      <td>1</td>\n",
              "      <td>0</td>\n",
              "      <td>0</td>\n",
              "      <td>0</td>\n",
              "    </tr>\n",
              "    <tr>\n",
              "      <th>2026</th>\n",
              "      <td>0</td>\n",
              "      <td>0</td>\n",
              "      <td>32.0</td>\n",
              "      <td>0</td>\n",
              "      <td>H</td>\n",
              "      <td>Kuna</td>\n",
              "      <td>ID</td>\n",
              "      <td>1</td>\n",
              "      <td>0</td>\n",
              "      <td>1</td>\n",
              "      <td>0</td>\n",
              "    </tr>\n",
              "    <tr>\n",
              "      <th>2027</th>\n",
              "      <td>0</td>\n",
              "      <td>5</td>\n",
              "      <td>37.0</td>\n",
              "      <td>0</td>\n",
              "      <td>W</td>\n",
              "      <td>Oxford</td>\n",
              "      <td>AL</td>\n",
              "      <td>0</td>\n",
              "      <td>0</td>\n",
              "      <td>1</td>\n",
              "      <td>0</td>\n",
              "    </tr>\n",
              "  </tbody>\n",
              "</table>\n",
              "<p>1932 rows × 11 columns</p>\n",
              "</div>"
            ],
            "text/plain": [
              "      manner_of_death  armed   age  ...  threat_level flee body_camera\n",
              "0                   0      0  53.0  ...             0    0           0\n",
              "1                   0      0  47.0  ...             0    0           0\n",
              "2                   1      1  23.0  ...             1    0           0\n",
              "3                   0      2  32.0  ...             0    0           0\n",
              "4                   0      3  39.0  ...             0    0           0\n",
              "...               ...    ...   ...  ...           ...  ...         ...\n",
              "2023                0      4  29.0  ...             0    2           1\n",
              "2024                0      1  30.0  ...             0    0           0\n",
              "2025                1      0  18.0  ...             0    0           0\n",
              "2026                0      0  32.0  ...             0    1           0\n",
              "2027                0      5  37.0  ...             0    1           0\n",
              "\n",
              "[1932 rows x 11 columns]"
            ]
          },
          "metadata": {
            "tags": []
          },
          "execution_count": 62
        }
      ]
    },
    {
      "cell_type": "code",
      "metadata": {
        "id": "dVbFKni-ksxT"
      },
      "source": [
        "test.dropna(subset=['race'], inplace=True)"
      ],
      "execution_count": 63,
      "outputs": []
    },
    {
      "cell_type": "code",
      "metadata": {
        "id": "vyykjIvZZ0X5"
      },
      "source": [
        "for (columnName, columnData) in test.iteritems():\n",
        "  if columnName != \"city\" and columnName != \"state\" and columnName != \"age\" and columnName != 'race':\n",
        "    summaries = test[columnName].unique()\n",
        "    summary_mapping = {key:i for key,i in zip(summaries, range(len(summaries)))}\n",
        "    test[columnName] = [summary_mapping[elem] for elem in test[columnName]]"
      ],
      "execution_count": 64,
      "outputs": []
    },
    {
      "cell_type": "code",
      "metadata": {
        "id": "vDr_ut02hyMQ",
        "colab": {
          "base_uri": "https://localhost:8080/"
        },
        "outputId": "68bb5504-ffaa-4505-8dd2-57ec82e4c424"
      },
      "source": [
        "test.isnull().sum()"
      ],
      "execution_count": 65,
      "outputs": [
        {
          "output_type": "execute_result",
          "data": {
            "text/plain": [
              "id                         0\n",
              "name                       0\n",
              "date                       0\n",
              "manner_of_death            0\n",
              "armed                      0\n",
              "age                        0\n",
              "gender                     0\n",
              "race                       0\n",
              "city                       0\n",
              "state                      0\n",
              "signs_of_mental_illness    0\n",
              "threat_level               0\n",
              "flee                       0\n",
              "body_camera                0\n",
              "dtype: int64"
            ]
          },
          "metadata": {
            "tags": []
          },
          "execution_count": 65
        }
      ]
    },
    {
      "cell_type": "code",
      "metadata": {
        "id": "Epq5XndsmwMn",
        "colab": {
          "base_uri": "https://localhost:8080/",
          "height": 419
        },
        "outputId": "5955d2ee-6b15-414a-cbba-b8c723561258"
      },
      "source": [
        "test.drop(columns=['id', 'name', 'date'], inplace=True)\n",
        "test"
      ],
      "execution_count": 66,
      "outputs": [
        {
          "output_type": "execute_result",
          "data": {
            "text/html": [
              "<div>\n",
              "<style scoped>\n",
              "    .dataframe tbody tr th:only-of-type {\n",
              "        vertical-align: middle;\n",
              "    }\n",
              "\n",
              "    .dataframe tbody tr th {\n",
              "        vertical-align: top;\n",
              "    }\n",
              "\n",
              "    .dataframe thead th {\n",
              "        text-align: right;\n",
              "    }\n",
              "</style>\n",
              "<table border=\"1\" class=\"dataframe\">\n",
              "  <thead>\n",
              "    <tr style=\"text-align: right;\">\n",
              "      <th></th>\n",
              "      <th>manner_of_death</th>\n",
              "      <th>armed</th>\n",
              "      <th>age</th>\n",
              "      <th>gender</th>\n",
              "      <th>race</th>\n",
              "      <th>city</th>\n",
              "      <th>state</th>\n",
              "      <th>signs_of_mental_illness</th>\n",
              "      <th>threat_level</th>\n",
              "      <th>flee</th>\n",
              "      <th>body_camera</th>\n",
              "    </tr>\n",
              "  </thead>\n",
              "  <tbody>\n",
              "    <tr>\n",
              "      <th>0</th>\n",
              "      <td>0</td>\n",
              "      <td>0</td>\n",
              "      <td>54.0</td>\n",
              "      <td>0</td>\n",
              "      <td>B</td>\n",
              "      <td>Southaven</td>\n",
              "      <td>MS</td>\n",
              "      <td>0</td>\n",
              "      <td>0</td>\n",
              "      <td>0</td>\n",
              "      <td>0</td>\n",
              "    </tr>\n",
              "    <tr>\n",
              "      <th>1</th>\n",
              "      <td>0</td>\n",
              "      <td>0</td>\n",
              "      <td>50.0</td>\n",
              "      <td>0</td>\n",
              "      <td>W</td>\n",
              "      <td>Millston</td>\n",
              "      <td>WI</td>\n",
              "      <td>1</td>\n",
              "      <td>0</td>\n",
              "      <td>0</td>\n",
              "      <td>1</td>\n",
              "    </tr>\n",
              "    <tr>\n",
              "      <th>2</th>\n",
              "      <td>0</td>\n",
              "      <td>0</td>\n",
              "      <td>28.0</td>\n",
              "      <td>0</td>\n",
              "      <td>H</td>\n",
              "      <td>Charlotte</td>\n",
              "      <td>NC</td>\n",
              "      <td>0</td>\n",
              "      <td>1</td>\n",
              "      <td>1</td>\n",
              "      <td>0</td>\n",
              "    </tr>\n",
              "    <tr>\n",
              "      <th>3</th>\n",
              "      <td>0</td>\n",
              "      <td>0</td>\n",
              "      <td>59.0</td>\n",
              "      <td>0</td>\n",
              "      <td>W</td>\n",
              "      <td>Overlea</td>\n",
              "      <td>MD</td>\n",
              "      <td>1</td>\n",
              "      <td>0</td>\n",
              "      <td>0</td>\n",
              "      <td>1</td>\n",
              "    </tr>\n",
              "    <tr>\n",
              "      <th>4</th>\n",
              "      <td>0</td>\n",
              "      <td>1</td>\n",
              "      <td>24.0</td>\n",
              "      <td>0</td>\n",
              "      <td>B</td>\n",
              "      <td>Atlanta</td>\n",
              "      <td>GA</td>\n",
              "      <td>0</td>\n",
              "      <td>1</td>\n",
              "      <td>1</td>\n",
              "      <td>1</td>\n",
              "    </tr>\n",
              "    <tr>\n",
              "      <th>...</th>\n",
              "      <td>...</td>\n",
              "      <td>...</td>\n",
              "      <td>...</td>\n",
              "      <td>...</td>\n",
              "      <td>...</td>\n",
              "      <td>...</td>\n",
              "      <td>...</td>\n",
              "      <td>...</td>\n",
              "      <td>...</td>\n",
              "      <td>...</td>\n",
              "      <td>...</td>\n",
              "    </tr>\n",
              "    <tr>\n",
              "      <th>495</th>\n",
              "      <td>0</td>\n",
              "      <td>8</td>\n",
              "      <td>25.0</td>\n",
              "      <td>0</td>\n",
              "      <td>B</td>\n",
              "      <td>Dayton</td>\n",
              "      <td>OH</td>\n",
              "      <td>0</td>\n",
              "      <td>0</td>\n",
              "      <td>1</td>\n",
              "      <td>0</td>\n",
              "    </tr>\n",
              "    <tr>\n",
              "      <th>497</th>\n",
              "      <td>0</td>\n",
              "      <td>0</td>\n",
              "      <td>39.0</td>\n",
              "      <td>0</td>\n",
              "      <td>B</td>\n",
              "      <td>Homer</td>\n",
              "      <td>LA</td>\n",
              "      <td>0</td>\n",
              "      <td>0</td>\n",
              "      <td>1</td>\n",
              "      <td>0</td>\n",
              "    </tr>\n",
              "    <tr>\n",
              "      <th>500</th>\n",
              "      <td>0</td>\n",
              "      <td>5</td>\n",
              "      <td>34.0</td>\n",
              "      <td>0</td>\n",
              "      <td>H</td>\n",
              "      <td>Chowchilla</td>\n",
              "      <td>CA</td>\n",
              "      <td>0</td>\n",
              "      <td>0</td>\n",
              "      <td>0</td>\n",
              "      <td>0</td>\n",
              "    </tr>\n",
              "    <tr>\n",
              "      <th>505</th>\n",
              "      <td>0</td>\n",
              "      <td>8</td>\n",
              "      <td>28.0</td>\n",
              "      <td>0</td>\n",
              "      <td>B</td>\n",
              "      <td>Oshkosh</td>\n",
              "      <td>WI</td>\n",
              "      <td>0</td>\n",
              "      <td>0</td>\n",
              "      <td>1</td>\n",
              "      <td>1</td>\n",
              "    </tr>\n",
              "    <tr>\n",
              "      <th>506</th>\n",
              "      <td>0</td>\n",
              "      <td>5</td>\n",
              "      <td>32.0</td>\n",
              "      <td>0</td>\n",
              "      <td>B</td>\n",
              "      <td>Brooklyn</td>\n",
              "      <td>NY</td>\n",
              "      <td>1</td>\n",
              "      <td>0</td>\n",
              "      <td>0</td>\n",
              "      <td>0</td>\n",
              "    </tr>\n",
              "  </tbody>\n",
              "</table>\n",
              "<p>403 rows × 11 columns</p>\n",
              "</div>"
            ],
            "text/plain": [
              "     manner_of_death  armed   age  ...  threat_level flee body_camera\n",
              "0                  0      0  54.0  ...             0    0           0\n",
              "1                  0      0  50.0  ...             0    0           1\n",
              "2                  0      0  28.0  ...             1    1           0\n",
              "3                  0      0  59.0  ...             0    0           1\n",
              "4                  0      1  24.0  ...             1    1           1\n",
              "..               ...    ...   ...  ...           ...  ...         ...\n",
              "495                0      8  25.0  ...             0    1           0\n",
              "497                0      0  39.0  ...             0    1           0\n",
              "500                0      5  34.0  ...             0    0           0\n",
              "505                0      8  28.0  ...             0    1           1\n",
              "506                0      5  32.0  ...             0    0           0\n",
              "\n",
              "[403 rows x 11 columns]"
            ]
          },
          "metadata": {
            "tags": []
          },
          "execution_count": 66
        }
      ]
    },
    {
      "cell_type": "code",
      "metadata": {
        "id": "2DaFWNiMFqJK",
        "colab": {
          "base_uri": "https://localhost:8080/",
          "height": 419
        },
        "outputId": "e3f91b52-31aa-4040-a9f8-4ace5240783a"
      },
      "source": [
        "merged"
      ],
      "execution_count": 67,
      "outputs": [
        {
          "output_type": "execute_result",
          "data": {
            "text/html": [
              "<div>\n",
              "<style scoped>\n",
              "    .dataframe tbody tr th:only-of-type {\n",
              "        vertical-align: middle;\n",
              "    }\n",
              "\n",
              "    .dataframe tbody tr th {\n",
              "        vertical-align: top;\n",
              "    }\n",
              "\n",
              "    .dataframe thead th {\n",
              "        text-align: right;\n",
              "    }\n",
              "</style>\n",
              "<table border=\"1\" class=\"dataframe\">\n",
              "  <thead>\n",
              "    <tr style=\"text-align: right;\">\n",
              "      <th></th>\n",
              "      <th>state</th>\n",
              "      <th>city</th>\n",
              "      <th>percent_completed_hs</th>\n",
              "      <th>Median Income</th>\n",
              "      <th>poverty_rate</th>\n",
              "      <th>share_white</th>\n",
              "      <th>share_black</th>\n",
              "      <th>share_native_american</th>\n",
              "      <th>share_asian</th>\n",
              "      <th>share_hispanic</th>\n",
              "    </tr>\n",
              "  </thead>\n",
              "  <tbody>\n",
              "    <tr>\n",
              "      <th>0</th>\n",
              "      <td>AL</td>\n",
              "      <td>Abanda</td>\n",
              "      <td>21.2</td>\n",
              "      <td>11207.0</td>\n",
              "      <td>78.8</td>\n",
              "      <td>67.2</td>\n",
              "      <td>30.2</td>\n",
              "      <td>0.0</td>\n",
              "      <td>0.0</td>\n",
              "      <td>1.6</td>\n",
              "    </tr>\n",
              "    <tr>\n",
              "      <th>1</th>\n",
              "      <td>AL</td>\n",
              "      <td>Abbeville</td>\n",
              "      <td>69.1</td>\n",
              "      <td>25615.0</td>\n",
              "      <td>29.1</td>\n",
              "      <td>54.4</td>\n",
              "      <td>41.4</td>\n",
              "      <td>0.1</td>\n",
              "      <td>1.0</td>\n",
              "      <td>3.1</td>\n",
              "    </tr>\n",
              "    <tr>\n",
              "      <th>2</th>\n",
              "      <td>AL</td>\n",
              "      <td>Adamsville</td>\n",
              "      <td>78.9</td>\n",
              "      <td>42575.0</td>\n",
              "      <td>25.5</td>\n",
              "      <td>52.3</td>\n",
              "      <td>44.9</td>\n",
              "      <td>0.5</td>\n",
              "      <td>0.3</td>\n",
              "      <td>2.3</td>\n",
              "    </tr>\n",
              "    <tr>\n",
              "      <th>3</th>\n",
              "      <td>AL</td>\n",
              "      <td>Addison</td>\n",
              "      <td>81.4</td>\n",
              "      <td>37083.0</td>\n",
              "      <td>30.7</td>\n",
              "      <td>99.1</td>\n",
              "      <td>0.1</td>\n",
              "      <td>0.0</td>\n",
              "      <td>0.1</td>\n",
              "      <td>0.4</td>\n",
              "    </tr>\n",
              "    <tr>\n",
              "      <th>4</th>\n",
              "      <td>AL</td>\n",
              "      <td>Akron</td>\n",
              "      <td>68.6</td>\n",
              "      <td>21667.0</td>\n",
              "      <td>42.0</td>\n",
              "      <td>13.2</td>\n",
              "      <td>86.5</td>\n",
              "      <td>0.0</td>\n",
              "      <td>0.0</td>\n",
              "      <td>0.3</td>\n",
              "    </tr>\n",
              "    <tr>\n",
              "      <th>...</th>\n",
              "      <td>...</td>\n",
              "      <td>...</td>\n",
              "      <td>...</td>\n",
              "      <td>...</td>\n",
              "      <td>...</td>\n",
              "      <td>...</td>\n",
              "      <td>...</td>\n",
              "      <td>...</td>\n",
              "      <td>...</td>\n",
              "      <td>...</td>\n",
              "    </tr>\n",
              "    <tr>\n",
              "      <th>29110</th>\n",
              "      <td>WY</td>\n",
              "      <td>Woods Landing-Jelm</td>\n",
              "      <td>100.0</td>\n",
              "      <td>55217.5</td>\n",
              "      <td>18.6</td>\n",
              "      <td>95.9</td>\n",
              "      <td>0.0</td>\n",
              "      <td>0.0</td>\n",
              "      <td>2.1</td>\n",
              "      <td>0.0</td>\n",
              "    </tr>\n",
              "    <tr>\n",
              "      <th>29111</th>\n",
              "      <td>WY</td>\n",
              "      <td>Worland</td>\n",
              "      <td>85.6</td>\n",
              "      <td>41523.0</td>\n",
              "      <td>15.3</td>\n",
              "      <td>89.9</td>\n",
              "      <td>0.3</td>\n",
              "      <td>1.3</td>\n",
              "      <td>0.6</td>\n",
              "      <td>16.6</td>\n",
              "    </tr>\n",
              "    <tr>\n",
              "      <th>29112</th>\n",
              "      <td>WY</td>\n",
              "      <td>Wright</td>\n",
              "      <td>89.2</td>\n",
              "      <td>77114.0</td>\n",
              "      <td>5.9</td>\n",
              "      <td>94.5</td>\n",
              "      <td>0.1</td>\n",
              "      <td>1.4</td>\n",
              "      <td>0.2</td>\n",
              "      <td>6.2</td>\n",
              "    </tr>\n",
              "    <tr>\n",
              "      <th>29113</th>\n",
              "      <td>WY</td>\n",
              "      <td>Yoder</td>\n",
              "      <td>79.4</td>\n",
              "      <td>37500.0</td>\n",
              "      <td>5.4</td>\n",
              "      <td>97.4</td>\n",
              "      <td>0.0</td>\n",
              "      <td>0.0</td>\n",
              "      <td>0.0</td>\n",
              "      <td>4.0</td>\n",
              "    </tr>\n",
              "    <tr>\n",
              "      <th>29114</th>\n",
              "      <td>WY</td>\n",
              "      <td>Y-O Ranch</td>\n",
              "      <td>100.0</td>\n",
              "      <td>55217.5</td>\n",
              "      <td>0.0</td>\n",
              "      <td>92.8</td>\n",
              "      <td>1.5</td>\n",
              "      <td>2.6</td>\n",
              "      <td>0.0</td>\n",
              "      <td>11.8</td>\n",
              "    </tr>\n",
              "  </tbody>\n",
              "</table>\n",
              "<p>29115 rows × 10 columns</p>\n",
              "</div>"
            ],
            "text/plain": [
              "      state                city  ...  share_asian  share_hispanic\n",
              "0        AL              Abanda  ...          0.0             1.6\n",
              "1        AL           Abbeville  ...          1.0             3.1\n",
              "2        AL          Adamsville  ...          0.3             2.3\n",
              "3        AL             Addison  ...          0.1             0.4\n",
              "4        AL               Akron  ...          0.0             0.3\n",
              "...     ...                 ...  ...          ...             ...\n",
              "29110    WY  Woods Landing-Jelm  ...          2.1             0.0\n",
              "29111    WY             Worland  ...          0.6            16.6\n",
              "29112    WY              Wright  ...          0.2             6.2\n",
              "29113    WY               Yoder  ...          0.0             4.0\n",
              "29114    WY           Y-O Ranch  ...          0.0            11.8\n",
              "\n",
              "[29115 rows x 10 columns]"
            ]
          },
          "metadata": {
            "tags": []
          },
          "execution_count": 67
        }
      ]
    },
    {
      "cell_type": "code",
      "metadata": {
        "id": "eKFibqD4Y-KW",
        "colab": {
          "base_uri": "https://localhost:8080/",
          "height": 456
        },
        "outputId": "0929d0a6-2c30-4907-d9ff-c93b3e597b39"
      },
      "source": [
        "train_merge = pd.merge(train,merged,on=[\"state\",\"city\"])\n",
        "# print(train_merge.isnull().sum())\n",
        "train_merge"
      ],
      "execution_count": 68,
      "outputs": [
        {
          "output_type": "execute_result",
          "data": {
            "text/html": [
              "<div>\n",
              "<style scoped>\n",
              "    .dataframe tbody tr th:only-of-type {\n",
              "        vertical-align: middle;\n",
              "    }\n",
              "\n",
              "    .dataframe tbody tr th {\n",
              "        vertical-align: top;\n",
              "    }\n",
              "\n",
              "    .dataframe thead th {\n",
              "        text-align: right;\n",
              "    }\n",
              "</style>\n",
              "<table border=\"1\" class=\"dataframe\">\n",
              "  <thead>\n",
              "    <tr style=\"text-align: right;\">\n",
              "      <th></th>\n",
              "      <th>manner_of_death</th>\n",
              "      <th>armed</th>\n",
              "      <th>age</th>\n",
              "      <th>gender</th>\n",
              "      <th>race</th>\n",
              "      <th>city</th>\n",
              "      <th>state</th>\n",
              "      <th>signs_of_mental_illness</th>\n",
              "      <th>threat_level</th>\n",
              "      <th>flee</th>\n",
              "      <th>body_camera</th>\n",
              "      <th>percent_completed_hs</th>\n",
              "      <th>Median Income</th>\n",
              "      <th>poverty_rate</th>\n",
              "      <th>share_white</th>\n",
              "      <th>share_black</th>\n",
              "      <th>share_native_american</th>\n",
              "      <th>share_asian</th>\n",
              "      <th>share_hispanic</th>\n",
              "    </tr>\n",
              "  </thead>\n",
              "  <tbody>\n",
              "    <tr>\n",
              "      <th>0</th>\n",
              "      <td>0</td>\n",
              "      <td>0</td>\n",
              "      <td>53.0</td>\n",
              "      <td>0</td>\n",
              "      <td>A</td>\n",
              "      <td>Shelton</td>\n",
              "      <td>WA</td>\n",
              "      <td>0</td>\n",
              "      <td>0</td>\n",
              "      <td>0</td>\n",
              "      <td>0</td>\n",
              "      <td>80.1</td>\n",
              "      <td>37072.0</td>\n",
              "      <td>28.6</td>\n",
              "      <td>78.9</td>\n",
              "      <td>0.8</td>\n",
              "      <td>3.7</td>\n",
              "      <td>1.1</td>\n",
              "      <td>19.2</td>\n",
              "    </tr>\n",
              "    <tr>\n",
              "      <th>1</th>\n",
              "      <td>0</td>\n",
              "      <td>0</td>\n",
              "      <td>47.0</td>\n",
              "      <td>0</td>\n",
              "      <td>W</td>\n",
              "      <td>Aloha</td>\n",
              "      <td>OR</td>\n",
              "      <td>1</td>\n",
              "      <td>0</td>\n",
              "      <td>0</td>\n",
              "      <td>0</td>\n",
              "      <td>88.1</td>\n",
              "      <td>65765.0</td>\n",
              "      <td>14.9</td>\n",
              "      <td>70.9</td>\n",
              "      <td>2.6</td>\n",
              "      <td>1.0</td>\n",
              "      <td>8.9</td>\n",
              "      <td>21.1</td>\n",
              "    </tr>\n",
              "    <tr>\n",
              "      <th>2</th>\n",
              "      <td>0</td>\n",
              "      <td>4</td>\n",
              "      <td>55.0</td>\n",
              "      <td>1</td>\n",
              "      <td>W</td>\n",
              "      <td>Aloha</td>\n",
              "      <td>OR</td>\n",
              "      <td>0</td>\n",
              "      <td>1</td>\n",
              "      <td>0</td>\n",
              "      <td>0</td>\n",
              "      <td>88.1</td>\n",
              "      <td>65765.0</td>\n",
              "      <td>14.9</td>\n",
              "      <td>70.9</td>\n",
              "      <td>2.6</td>\n",
              "      <td>1.0</td>\n",
              "      <td>8.9</td>\n",
              "      <td>21.1</td>\n",
              "    </tr>\n",
              "    <tr>\n",
              "      <th>3</th>\n",
              "      <td>1</td>\n",
              "      <td>1</td>\n",
              "      <td>23.0</td>\n",
              "      <td>0</td>\n",
              "      <td>H</td>\n",
              "      <td>Wichita</td>\n",
              "      <td>KS</td>\n",
              "      <td>1</td>\n",
              "      <td>1</td>\n",
              "      <td>0</td>\n",
              "      <td>0</td>\n",
              "      <td>87.5</td>\n",
              "      <td>45947.0</td>\n",
              "      <td>17.3</td>\n",
              "      <td>71.9</td>\n",
              "      <td>11.5</td>\n",
              "      <td>1.2</td>\n",
              "      <td>4.8</td>\n",
              "      <td>15.3</td>\n",
              "    </tr>\n",
              "    <tr>\n",
              "      <th>4</th>\n",
              "      <td>0</td>\n",
              "      <td>5</td>\n",
              "      <td>26.0</td>\n",
              "      <td>0</td>\n",
              "      <td>W</td>\n",
              "      <td>Wichita</td>\n",
              "      <td>KS</td>\n",
              "      <td>1</td>\n",
              "      <td>0</td>\n",
              "      <td>1</td>\n",
              "      <td>0</td>\n",
              "      <td>87.5</td>\n",
              "      <td>45947.0</td>\n",
              "      <td>17.3</td>\n",
              "      <td>71.9</td>\n",
              "      <td>11.5</td>\n",
              "      <td>1.2</td>\n",
              "      <td>4.8</td>\n",
              "      <td>15.3</td>\n",
              "    </tr>\n",
              "    <tr>\n",
              "      <th>...</th>\n",
              "      <td>...</td>\n",
              "      <td>...</td>\n",
              "      <td>...</td>\n",
              "      <td>...</td>\n",
              "      <td>...</td>\n",
              "      <td>...</td>\n",
              "      <td>...</td>\n",
              "      <td>...</td>\n",
              "      <td>...</td>\n",
              "      <td>...</td>\n",
              "      <td>...</td>\n",
              "      <td>...</td>\n",
              "      <td>...</td>\n",
              "      <td>...</td>\n",
              "      <td>...</td>\n",
              "      <td>...</td>\n",
              "      <td>...</td>\n",
              "      <td>...</td>\n",
              "      <td>...</td>\n",
              "    </tr>\n",
              "    <tr>\n",
              "      <th>1685</th>\n",
              "      <td>0</td>\n",
              "      <td>1</td>\n",
              "      <td>27.0</td>\n",
              "      <td>0</td>\n",
              "      <td>W</td>\n",
              "      <td>Springfield</td>\n",
              "      <td>IL</td>\n",
              "      <td>0</td>\n",
              "      <td>0</td>\n",
              "      <td>0</td>\n",
              "      <td>1</td>\n",
              "      <td>90.8</td>\n",
              "      <td>49868.0</td>\n",
              "      <td>19.5</td>\n",
              "      <td>75.8</td>\n",
              "      <td>18.5</td>\n",
              "      <td>0.2</td>\n",
              "      <td>2.2</td>\n",
              "      <td>2.0</td>\n",
              "    </tr>\n",
              "    <tr>\n",
              "      <th>1686</th>\n",
              "      <td>1</td>\n",
              "      <td>4</td>\n",
              "      <td>25.0</td>\n",
              "      <td>0</td>\n",
              "      <td>B</td>\n",
              "      <td>Kenner</td>\n",
              "      <td>LA</td>\n",
              "      <td>0</td>\n",
              "      <td>1</td>\n",
              "      <td>0</td>\n",
              "      <td>0</td>\n",
              "      <td>84.7</td>\n",
              "      <td>47527.0</td>\n",
              "      <td>15.5</td>\n",
              "      <td>61.6</td>\n",
              "      <td>24.0</td>\n",
              "      <td>0.4</td>\n",
              "      <td>3.7</td>\n",
              "      <td>22.4</td>\n",
              "    </tr>\n",
              "    <tr>\n",
              "      <th>1687</th>\n",
              "      <td>0</td>\n",
              "      <td>0</td>\n",
              "      <td>34.0</td>\n",
              "      <td>0</td>\n",
              "      <td>H</td>\n",
              "      <td>Atascadero</td>\n",
              "      <td>CA</td>\n",
              "      <td>1</td>\n",
              "      <td>1</td>\n",
              "      <td>0</td>\n",
              "      <td>0</td>\n",
              "      <td>92.6</td>\n",
              "      <td>66607.0</td>\n",
              "      <td>11.0</td>\n",
              "      <td>86.4</td>\n",
              "      <td>2.1</td>\n",
              "      <td>1.0</td>\n",
              "      <td>2.4</td>\n",
              "      <td>15.6</td>\n",
              "    </tr>\n",
              "    <tr>\n",
              "      <th>1688</th>\n",
              "      <td>0</td>\n",
              "      <td>0</td>\n",
              "      <td>32.0</td>\n",
              "      <td>0</td>\n",
              "      <td>H</td>\n",
              "      <td>Kuna</td>\n",
              "      <td>ID</td>\n",
              "      <td>1</td>\n",
              "      <td>0</td>\n",
              "      <td>1</td>\n",
              "      <td>0</td>\n",
              "      <td>92.9</td>\n",
              "      <td>57417.0</td>\n",
              "      <td>13.2</td>\n",
              "      <td>91.2</td>\n",
              "      <td>0.6</td>\n",
              "      <td>0.8</td>\n",
              "      <td>0.7</td>\n",
              "      <td>8.6</td>\n",
              "    </tr>\n",
              "    <tr>\n",
              "      <th>1689</th>\n",
              "      <td>0</td>\n",
              "      <td>5</td>\n",
              "      <td>37.0</td>\n",
              "      <td>0</td>\n",
              "      <td>W</td>\n",
              "      <td>Oxford</td>\n",
              "      <td>AL</td>\n",
              "      <td>0</td>\n",
              "      <td>0</td>\n",
              "      <td>1</td>\n",
              "      <td>0</td>\n",
              "      <td>83.5</td>\n",
              "      <td>51375.0</td>\n",
              "      <td>11.7</td>\n",
              "      <td>80.5</td>\n",
              "      <td>12.6</td>\n",
              "      <td>0.4</td>\n",
              "      <td>1.1</td>\n",
              "      <td>6.6</td>\n",
              "    </tr>\n",
              "  </tbody>\n",
              "</table>\n",
              "<p>1690 rows × 19 columns</p>\n",
              "</div>"
            ],
            "text/plain": [
              "      manner_of_death  armed  ...  share_asian  share_hispanic\n",
              "0                   0      0  ...          1.1            19.2\n",
              "1                   0      0  ...          8.9            21.1\n",
              "2                   0      4  ...          8.9            21.1\n",
              "3                   1      1  ...          4.8            15.3\n",
              "4                   0      5  ...          4.8            15.3\n",
              "...               ...    ...  ...          ...             ...\n",
              "1685                0      1  ...          2.2             2.0\n",
              "1686                1      4  ...          3.7            22.4\n",
              "1687                0      0  ...          2.4            15.6\n",
              "1688                0      0  ...          0.7             8.6\n",
              "1689                0      5  ...          1.1             6.6\n",
              "\n",
              "[1690 rows x 19 columns]"
            ]
          },
          "metadata": {
            "tags": []
          },
          "execution_count": 68
        }
      ]
    },
    {
      "cell_type": "code",
      "metadata": {
        "id": "ejlX3l5gFqJN",
        "colab": {
          "base_uri": "https://localhost:8080/",
          "height": 796
        },
        "outputId": "2e6fbab1-0f83-4716-d082-869e2574bad1"
      },
      "source": [
        "test_merge = pd.merge(test,merged,on=[\"state\",\"city\"])\n",
        "print(test_merge.isnull().sum())\n",
        "test_merge"
      ],
      "execution_count": 69,
      "outputs": [
        {
          "output_type": "stream",
          "text": [
            "manner_of_death            0\n",
            "armed                      0\n",
            "age                        0\n",
            "gender                     0\n",
            "race                       0\n",
            "city                       0\n",
            "state                      0\n",
            "signs_of_mental_illness    0\n",
            "threat_level               0\n",
            "flee                       0\n",
            "body_camera                0\n",
            "percent_completed_hs       0\n",
            "Median Income              0\n",
            "poverty_rate               0\n",
            "share_white                0\n",
            "share_black                0\n",
            "share_native_american      0\n",
            "share_asian                0\n",
            "share_hispanic             0\n",
            "dtype: int64\n"
          ],
          "name": "stdout"
        },
        {
          "output_type": "execute_result",
          "data": {
            "text/html": [
              "<div>\n",
              "<style scoped>\n",
              "    .dataframe tbody tr th:only-of-type {\n",
              "        vertical-align: middle;\n",
              "    }\n",
              "\n",
              "    .dataframe tbody tr th {\n",
              "        vertical-align: top;\n",
              "    }\n",
              "\n",
              "    .dataframe thead th {\n",
              "        text-align: right;\n",
              "    }\n",
              "</style>\n",
              "<table border=\"1\" class=\"dataframe\">\n",
              "  <thead>\n",
              "    <tr style=\"text-align: right;\">\n",
              "      <th></th>\n",
              "      <th>manner_of_death</th>\n",
              "      <th>armed</th>\n",
              "      <th>age</th>\n",
              "      <th>gender</th>\n",
              "      <th>race</th>\n",
              "      <th>city</th>\n",
              "      <th>state</th>\n",
              "      <th>signs_of_mental_illness</th>\n",
              "      <th>threat_level</th>\n",
              "      <th>flee</th>\n",
              "      <th>body_camera</th>\n",
              "      <th>percent_completed_hs</th>\n",
              "      <th>Median Income</th>\n",
              "      <th>poverty_rate</th>\n",
              "      <th>share_white</th>\n",
              "      <th>share_black</th>\n",
              "      <th>share_native_american</th>\n",
              "      <th>share_asian</th>\n",
              "      <th>share_hispanic</th>\n",
              "    </tr>\n",
              "  </thead>\n",
              "  <tbody>\n",
              "    <tr>\n",
              "      <th>0</th>\n",
              "      <td>0</td>\n",
              "      <td>0</td>\n",
              "      <td>54.0</td>\n",
              "      <td>0</td>\n",
              "      <td>B</td>\n",
              "      <td>Southaven</td>\n",
              "      <td>MS</td>\n",
              "      <td>0</td>\n",
              "      <td>0</td>\n",
              "      <td>0</td>\n",
              "      <td>0</td>\n",
              "      <td>88.4</td>\n",
              "      <td>58227.0</td>\n",
              "      <td>11.4</td>\n",
              "      <td>71.0</td>\n",
              "      <td>22.2</td>\n",
              "      <td>0.3</td>\n",
              "      <td>1.7</td>\n",
              "      <td>5.0</td>\n",
              "    </tr>\n",
              "    <tr>\n",
              "      <th>1</th>\n",
              "      <td>0</td>\n",
              "      <td>0</td>\n",
              "      <td>41.0</td>\n",
              "      <td>0</td>\n",
              "      <td>H</td>\n",
              "      <td>Southaven</td>\n",
              "      <td>MS</td>\n",
              "      <td>0</td>\n",
              "      <td>0</td>\n",
              "      <td>0</td>\n",
              "      <td>0</td>\n",
              "      <td>88.4</td>\n",
              "      <td>58227.0</td>\n",
              "      <td>11.4</td>\n",
              "      <td>71.0</td>\n",
              "      <td>22.2</td>\n",
              "      <td>0.3</td>\n",
              "      <td>1.7</td>\n",
              "      <td>5.0</td>\n",
              "    </tr>\n",
              "    <tr>\n",
              "      <th>2</th>\n",
              "      <td>0</td>\n",
              "      <td>0</td>\n",
              "      <td>50.0</td>\n",
              "      <td>0</td>\n",
              "      <td>W</td>\n",
              "      <td>Millston</td>\n",
              "      <td>WI</td>\n",
              "      <td>1</td>\n",
              "      <td>0</td>\n",
              "      <td>0</td>\n",
              "      <td>1</td>\n",
              "      <td>82.0</td>\n",
              "      <td>50536.0</td>\n",
              "      <td>14.7</td>\n",
              "      <td>96.0</td>\n",
              "      <td>0.0</td>\n",
              "      <td>3.2</td>\n",
              "      <td>0.0</td>\n",
              "      <td>2.4</td>\n",
              "    </tr>\n",
              "    <tr>\n",
              "      <th>3</th>\n",
              "      <td>0</td>\n",
              "      <td>0</td>\n",
              "      <td>28.0</td>\n",
              "      <td>0</td>\n",
              "      <td>H</td>\n",
              "      <td>Charlotte</td>\n",
              "      <td>NC</td>\n",
              "      <td>0</td>\n",
              "      <td>1</td>\n",
              "      <td>1</td>\n",
              "      <td>0</td>\n",
              "      <td>88.4</td>\n",
              "      <td>53637.0</td>\n",
              "      <td>16.8</td>\n",
              "      <td>50.0</td>\n",
              "      <td>35.0</td>\n",
              "      <td>0.5</td>\n",
              "      <td>5.0</td>\n",
              "      <td>13.1</td>\n",
              "    </tr>\n",
              "    <tr>\n",
              "      <th>4</th>\n",
              "      <td>0</td>\n",
              "      <td>0</td>\n",
              "      <td>25.0</td>\n",
              "      <td>0</td>\n",
              "      <td>W</td>\n",
              "      <td>Charlotte</td>\n",
              "      <td>NC</td>\n",
              "      <td>1</td>\n",
              "      <td>1</td>\n",
              "      <td>0</td>\n",
              "      <td>0</td>\n",
              "      <td>88.4</td>\n",
              "      <td>53637.0</td>\n",
              "      <td>16.8</td>\n",
              "      <td>50.0</td>\n",
              "      <td>35.0</td>\n",
              "      <td>0.5</td>\n",
              "      <td>5.0</td>\n",
              "      <td>13.1</td>\n",
              "    </tr>\n",
              "    <tr>\n",
              "      <th>...</th>\n",
              "      <td>...</td>\n",
              "      <td>...</td>\n",
              "      <td>...</td>\n",
              "      <td>...</td>\n",
              "      <td>...</td>\n",
              "      <td>...</td>\n",
              "      <td>...</td>\n",
              "      <td>...</td>\n",
              "      <td>...</td>\n",
              "      <td>...</td>\n",
              "      <td>...</td>\n",
              "      <td>...</td>\n",
              "      <td>...</td>\n",
              "      <td>...</td>\n",
              "      <td>...</td>\n",
              "      <td>...</td>\n",
              "      <td>...</td>\n",
              "      <td>...</td>\n",
              "      <td>...</td>\n",
              "    </tr>\n",
              "    <tr>\n",
              "      <th>351</th>\n",
              "      <td>0</td>\n",
              "      <td>1</td>\n",
              "      <td>16.0</td>\n",
              "      <td>0</td>\n",
              "      <td>B</td>\n",
              "      <td>Marion</td>\n",
              "      <td>AR</td>\n",
              "      <td>0</td>\n",
              "      <td>2</td>\n",
              "      <td>0</td>\n",
              "      <td>0</td>\n",
              "      <td>89.3</td>\n",
              "      <td>61669.0</td>\n",
              "      <td>10.9</td>\n",
              "      <td>68.1</td>\n",
              "      <td>28.0</td>\n",
              "      <td>0.4</td>\n",
              "      <td>1.5</td>\n",
              "      <td>2.0</td>\n",
              "    </tr>\n",
              "    <tr>\n",
              "      <th>352</th>\n",
              "      <td>0</td>\n",
              "      <td>8</td>\n",
              "      <td>25.0</td>\n",
              "      <td>0</td>\n",
              "      <td>B</td>\n",
              "      <td>Dayton</td>\n",
              "      <td>OH</td>\n",
              "      <td>0</td>\n",
              "      <td>0</td>\n",
              "      <td>1</td>\n",
              "      <td>0</td>\n",
              "      <td>82.1</td>\n",
              "      <td>27683.0</td>\n",
              "      <td>35.5</td>\n",
              "      <td>51.7</td>\n",
              "      <td>42.9</td>\n",
              "      <td>0.3</td>\n",
              "      <td>0.9</td>\n",
              "      <td>3.0</td>\n",
              "    </tr>\n",
              "    <tr>\n",
              "      <th>353</th>\n",
              "      <td>0</td>\n",
              "      <td>0</td>\n",
              "      <td>39.0</td>\n",
              "      <td>0</td>\n",
              "      <td>B</td>\n",
              "      <td>Homer</td>\n",
              "      <td>LA</td>\n",
              "      <td>0</td>\n",
              "      <td>0</td>\n",
              "      <td>1</td>\n",
              "      <td>0</td>\n",
              "      <td>79.0</td>\n",
              "      <td>27050.0</td>\n",
              "      <td>40.0</td>\n",
              "      <td>33.0</td>\n",
              "      <td>64.3</td>\n",
              "      <td>0.1</td>\n",
              "      <td>0.8</td>\n",
              "      <td>1.4</td>\n",
              "    </tr>\n",
              "    <tr>\n",
              "      <th>354</th>\n",
              "      <td>0</td>\n",
              "      <td>5</td>\n",
              "      <td>34.0</td>\n",
              "      <td>0</td>\n",
              "      <td>H</td>\n",
              "      <td>Chowchilla</td>\n",
              "      <td>CA</td>\n",
              "      <td>0</td>\n",
              "      <td>0</td>\n",
              "      <td>0</td>\n",
              "      <td>0</td>\n",
              "      <td>68.3</td>\n",
              "      <td>34559.0</td>\n",
              "      <td>32.1</td>\n",
              "      <td>61.6</td>\n",
              "      <td>12.6</td>\n",
              "      <td>2.0</td>\n",
              "      <td>2.1</td>\n",
              "      <td>37.8</td>\n",
              "    </tr>\n",
              "    <tr>\n",
              "      <th>355</th>\n",
              "      <td>0</td>\n",
              "      <td>8</td>\n",
              "      <td>28.0</td>\n",
              "      <td>0</td>\n",
              "      <td>B</td>\n",
              "      <td>Oshkosh</td>\n",
              "      <td>WI</td>\n",
              "      <td>0</td>\n",
              "      <td>0</td>\n",
              "      <td>1</td>\n",
              "      <td>1</td>\n",
              "      <td>89.3</td>\n",
              "      <td>42650.0</td>\n",
              "      <td>17.9</td>\n",
              "      <td>90.5</td>\n",
              "      <td>3.1</td>\n",
              "      <td>0.8</td>\n",
              "      <td>3.2</td>\n",
              "      <td>2.7</td>\n",
              "    </tr>\n",
              "  </tbody>\n",
              "</table>\n",
              "<p>356 rows × 19 columns</p>\n",
              "</div>"
            ],
            "text/plain": [
              "     manner_of_death  armed  ...  share_asian  share_hispanic\n",
              "0                  0      0  ...          1.7             5.0\n",
              "1                  0      0  ...          1.7             5.0\n",
              "2                  0      0  ...          0.0             2.4\n",
              "3                  0      0  ...          5.0            13.1\n",
              "4                  0      0  ...          5.0            13.1\n",
              "..               ...    ...  ...          ...             ...\n",
              "351                0      1  ...          1.5             2.0\n",
              "352                0      8  ...          0.9             3.0\n",
              "353                0      0  ...          0.8             1.4\n",
              "354                0      5  ...          2.1            37.8\n",
              "355                0      8  ...          3.2             2.7\n",
              "\n",
              "[356 rows x 19 columns]"
            ]
          },
          "metadata": {
            "tags": []
          },
          "execution_count": 69
        }
      ]
    },
    {
      "cell_type": "markdown",
      "metadata": {
        "id": "FE7NOWJwFqJN"
      },
      "source": [
        "## Correlation"
      ]
    },
    {
      "cell_type": "code",
      "metadata": {
        "id": "Ub8VkqrAFqJN",
        "colab": {
          "base_uri": "https://localhost:8080/",
          "height": 430
        },
        "outputId": "63fcc1ef-e206-4a49-dd92-f2534184d9a8"
      },
      "source": [
        "plt.subplots(figsize=(8, 5))\n",
        "sns.heatmap(merged.drop(['state', 'city'],axis=1).corr(), annot=True, cmap=\"RdYlGn\")\n",
        "plt.show()"
      ],
      "execution_count": 70,
      "outputs": [
        {
          "output_type": "display_data",
          "data": {
            "image/png": "[encoded data removed]",
            "text/plain": [
              "<Figure size 576x360 with 2 Axes>"
            ]
          },
          "metadata": {
            "tags": [],
            "needs_background": "light"
          }
        }
      ]
    },
    {
      "cell_type": "markdown",
      "metadata": {
        "id": "LP1_Ks1AFqJN"
      },
      "source": [
        "From the heat map above, we can see that\n",
        "- **percent_completed_hs** has \n",
        "  - **moderate positive correlation** (0.48) with **Median Income**\n",
        "  - **strong negative correlation** (-0.5) with **poverty_rate**\n",
        "  - **moderate negative correlation** (-0.47) with **share_hispanic**\n",
        "- **Median Income** has\n",
        "  - **strong negative correlation** (-0.59) with **poverty_rate**\n",
        "  - **moderate positive correlation** (0.35) with **share_asian**\n",
        "- **poverty_rate**\n",
        "  - **moderate negative correlation** (-0.35) with **share_white**\n",
        "- **share_white**\n",
        "  - **strong negative correlation** (-0.68) with **share_black**\n",
        "  - **strong negative correlation** (-0.52) with **share_native_american**"
      ]
    },
    {
      "cell_type": "markdown",
      "metadata": {
        "id": "goY7Zi4dFqJO"
      },
      "source": [
        "### Possible explanations:\n",
        "- percent_completed_hs:\n",
        "  - community with higher educated rate may have a higher median income\n",
        "  - community with higher educated rate may have a much lower poverty rate\n",
        "  - community with higher educated rate may have a lower percentage of hispanic members\n",
        "- Median Income:\n",
        "  - community with higher median income may have a much lower poverty rate\n",
        "  - community with higher median income may have a higher percentage of asian members\n",
        "- poverty_rate:\n",
        "  - community with higher poverty rate may have a lower percentage of white members\n",
        "- share_white:\n",
        "  - community with higher percentage of white members may imply a much lower percentage of black members\n",
        "  - community with higher percentage of white members may have a much lower percentage of hispanic members"
      ]
    },
    {
      "cell_type": "markdown",
      "metadata": {
        "id": "V6E9dgVrxmG-"
      },
      "source": [
        "### Data Spliting"
      ]
    },
    {
      "cell_type": "code",
      "metadata": {
        "colab": {
          "base_uri": "https://localhost:8080/"
        },
        "id": "s0tik46FltXh",
        "outputId": "a74f9551-b2bf-4a6b-d473-5cc95d4c4eb9"
      },
      "source": [
        "test_merge.isnull().sum()"
      ],
      "execution_count": 71,
      "outputs": [
        {
          "output_type": "execute_result",
          "data": {
            "text/plain": [
              "manner_of_death            0\n",
              "armed                      0\n",
              "age                        0\n",
              "gender                     0\n",
              "race                       0\n",
              "city                       0\n",
              "state                      0\n",
              "signs_of_mental_illness    0\n",
              "threat_level               0\n",
              "flee                       0\n",
              "body_camera                0\n",
              "percent_completed_hs       0\n",
              "Median Income              0\n",
              "poverty_rate               0\n",
              "share_white                0\n",
              "share_black                0\n",
              "share_native_american      0\n",
              "share_asian                0\n",
              "share_hispanic             0\n",
              "dtype: int64"
            ]
          },
          "metadata": {
            "tags": []
          },
          "execution_count": 71
        }
      ]
    },
    {
      "cell_type": "code",
      "metadata": {
        "colab": {
          "base_uri": "https://localhost:8080/"
        },
        "id": "vp3QTeiRluVF",
        "outputId": "07291e52-8a1c-41d1-c098-9647227fa341"
      },
      "source": [
        "train_merge.isnull().sum()"
      ],
      "execution_count": 72,
      "outputs": [
        {
          "output_type": "execute_result",
          "data": {
            "text/plain": [
              "manner_of_death            0\n",
              "armed                      0\n",
              "age                        0\n",
              "gender                     0\n",
              "race                       0\n",
              "city                       0\n",
              "state                      0\n",
              "signs_of_mental_illness    0\n",
              "threat_level               0\n",
              "flee                       0\n",
              "body_camera                0\n",
              "percent_completed_hs       0\n",
              "Median Income              0\n",
              "poverty_rate               0\n",
              "share_white                0\n",
              "share_black                0\n",
              "share_native_american      0\n",
              "share_asian                0\n",
              "share_hispanic             0\n",
              "dtype: int64"
            ]
          },
          "metadata": {
            "tags": []
          },
          "execution_count": 72
        }
      ]
    },
    {
      "cell_type": "code",
      "metadata": {
        "id": "FvzJnQEkyPjA",
        "colab": {
          "base_uri": "https://localhost:8080/",
          "height": 436
        },
        "outputId": "f7520b77-93d6-433a-9808-81962339f797"
      },
      "source": [
        "X_train = train_merge.drop(['state', 'city'], axis=1)\n",
        "X_train"
      ],
      "execution_count": 73,
      "outputs": [
        {
          "output_type": "execute_result",
          "data": {
            "text/html": [
              "<div>\n",
              "<style scoped>\n",
              "    .dataframe tbody tr th:only-of-type {\n",
              "        vertical-align: middle;\n",
              "    }\n",
              "\n",
              "    .dataframe tbody tr th {\n",
              "        vertical-align: top;\n",
              "    }\n",
              "\n",
              "    .dataframe thead th {\n",
              "        text-align: right;\n",
              "    }\n",
              "</style>\n",
              "<table border=\"1\" class=\"dataframe\">\n",
              "  <thead>\n",
              "    <tr style=\"text-align: right;\">\n",
              "      <th></th>\n",
              "      <th>manner_of_death</th>\n",
              "      <th>armed</th>\n",
              "      <th>age</th>\n",
              "      <th>gender</th>\n",
              "      <th>race</th>\n",
              "      <th>signs_of_mental_illness</th>\n",
              "      <th>threat_level</th>\n",
              "      <th>flee</th>\n",
              "      <th>body_camera</th>\n",
              "      <th>percent_completed_hs</th>\n",
              "      <th>Median Income</th>\n",
              "      <th>poverty_rate</th>\n",
              "      <th>share_white</th>\n",
              "      <th>share_black</th>\n",
              "      <th>share_native_american</th>\n",
              "      <th>share_asian</th>\n",
              "      <th>share_hispanic</th>\n",
              "    </tr>\n",
              "  </thead>\n",
              "  <tbody>\n",
              "    <tr>\n",
              "      <th>0</th>\n",
              "      <td>0</td>\n",
              "      <td>0</td>\n",
              "      <td>53.0</td>\n",
              "      <td>0</td>\n",
              "      <td>A</td>\n",
              "      <td>0</td>\n",
              "      <td>0</td>\n",
              "      <td>0</td>\n",
              "      <td>0</td>\n",
              "      <td>80.1</td>\n",
              "      <td>37072.0</td>\n",
              "      <td>28.6</td>\n",
              "      <td>78.9</td>\n",
              "      <td>0.8</td>\n",
              "      <td>3.7</td>\n",
              "      <td>1.1</td>\n",
              "      <td>19.2</td>\n",
              "    </tr>\n",
              "    <tr>\n",
              "      <th>1</th>\n",
              "      <td>0</td>\n",
              "      <td>0</td>\n",
              "      <td>47.0</td>\n",
              "      <td>0</td>\n",
              "      <td>W</td>\n",
              "      <td>1</td>\n",
              "      <td>0</td>\n",
              "      <td>0</td>\n",
              "      <td>0</td>\n",
              "      <td>88.1</td>\n",
              "      <td>65765.0</td>\n",
              "      <td>14.9</td>\n",
              "      <td>70.9</td>\n",
              "      <td>2.6</td>\n",
              "      <td>1.0</td>\n",
              "      <td>8.9</td>\n",
              "      <td>21.1</td>\n",
              "    </tr>\n",
              "    <tr>\n",
              "      <th>2</th>\n",
              "      <td>0</td>\n",
              "      <td>4</td>\n",
              "      <td>55.0</td>\n",
              "      <td>1</td>\n",
              "      <td>W</td>\n",
              "      <td>0</td>\n",
              "      <td>1</td>\n",
              "      <td>0</td>\n",
              "      <td>0</td>\n",
              "      <td>88.1</td>\n",
              "      <td>65765.0</td>\n",
              "      <td>14.9</td>\n",
              "      <td>70.9</td>\n",
              "      <td>2.6</td>\n",
              "      <td>1.0</td>\n",
              "      <td>8.9</td>\n",
              "      <td>21.1</td>\n",
              "    </tr>\n",
              "    <tr>\n",
              "      <th>3</th>\n",
              "      <td>1</td>\n",
              "      <td>1</td>\n",
              "      <td>23.0</td>\n",
              "      <td>0</td>\n",
              "      <td>H</td>\n",
              "      <td>1</td>\n",
              "      <td>1</td>\n",
              "      <td>0</td>\n",
              "      <td>0</td>\n",
              "      <td>87.5</td>\n",
              "      <td>45947.0</td>\n",
              "      <td>17.3</td>\n",
              "      <td>71.9</td>\n",
              "      <td>11.5</td>\n",
              "      <td>1.2</td>\n",
              "      <td>4.8</td>\n",
              "      <td>15.3</td>\n",
              "    </tr>\n",
              "    <tr>\n",
              "      <th>4</th>\n",
              "      <td>0</td>\n",
              "      <td>5</td>\n",
              "      <td>26.0</td>\n",
              "      <td>0</td>\n",
              "      <td>W</td>\n",
              "      <td>1</td>\n",
              "      <td>0</td>\n",
              "      <td>1</td>\n",
              "      <td>0</td>\n",
              "      <td>87.5</td>\n",
              "      <td>45947.0</td>\n",
              "      <td>17.3</td>\n",
              "      <td>71.9</td>\n",
              "      <td>11.5</td>\n",
              "      <td>1.2</td>\n",
              "      <td>4.8</td>\n",
              "      <td>15.3</td>\n",
              "    </tr>\n",
              "    <tr>\n",
              "      <th>...</th>\n",
              "      <td>...</td>\n",
              "      <td>...</td>\n",
              "      <td>...</td>\n",
              "      <td>...</td>\n",
              "      <td>...</td>\n",
              "      <td>...</td>\n",
              "      <td>...</td>\n",
              "      <td>...</td>\n",
              "      <td>...</td>\n",
              "      <td>...</td>\n",
              "      <td>...</td>\n",
              "      <td>...</td>\n",
              "      <td>...</td>\n",
              "      <td>...</td>\n",
              "      <td>...</td>\n",
              "      <td>...</td>\n",
              "      <td>...</td>\n",
              "    </tr>\n",
              "    <tr>\n",
              "      <th>1685</th>\n",
              "      <td>0</td>\n",
              "      <td>1</td>\n",
              "      <td>27.0</td>\n",
              "      <td>0</td>\n",
              "      <td>W</td>\n",
              "      <td>0</td>\n",
              "      <td>0</td>\n",
              "      <td>0</td>\n",
              "      <td>1</td>\n",
              "      <td>90.8</td>\n",
              "      <td>49868.0</td>\n",
              "      <td>19.5</td>\n",
              "      <td>75.8</td>\n",
              "      <td>18.5</td>\n",
              "      <td>0.2</td>\n",
              "      <td>2.2</td>\n",
              "      <td>2.0</td>\n",
              "    </tr>\n",
              "    <tr>\n",
              "      <th>1686</th>\n",
              "      <td>1</td>\n",
              "      <td>4</td>\n",
              "      <td>25.0</td>\n",
              "      <td>0</td>\n",
              "      <td>B</td>\n",
              "      <td>0</td>\n",
              "      <td>1</td>\n",
              "      <td>0</td>\n",
              "      <td>0</td>\n",
              "      <td>84.7</td>\n",
              "      <td>47527.0</td>\n",
              "      <td>15.5</td>\n",
              "      <td>61.6</td>\n",
              "      <td>24.0</td>\n",
              "      <td>0.4</td>\n",
              "      <td>3.7</td>\n",
              "      <td>22.4</td>\n",
              "    </tr>\n",
              "    <tr>\n",
              "      <th>1687</th>\n",
              "      <td>0</td>\n",
              "      <td>0</td>\n",
              "      <td>34.0</td>\n",
              "      <td>0</td>\n",
              "      <td>H</td>\n",
              "      <td>1</td>\n",
              "      <td>1</td>\n",
              "      <td>0</td>\n",
              "      <td>0</td>\n",
              "      <td>92.6</td>\n",
              "      <td>66607.0</td>\n",
              "      <td>11.0</td>\n",
              "      <td>86.4</td>\n",
              "      <td>2.1</td>\n",
              "      <td>1.0</td>\n",
              "      <td>2.4</td>\n",
              "      <td>15.6</td>\n",
              "    </tr>\n",
              "    <tr>\n",
              "      <th>1688</th>\n",
              "      <td>0</td>\n",
              "      <td>0</td>\n",
              "      <td>32.0</td>\n",
              "      <td>0</td>\n",
              "      <td>H</td>\n",
              "      <td>1</td>\n",
              "      <td>0</td>\n",
              "      <td>1</td>\n",
              "      <td>0</td>\n",
              "      <td>92.9</td>\n",
              "      <td>57417.0</td>\n",
              "      <td>13.2</td>\n",
              "      <td>91.2</td>\n",
              "      <td>0.6</td>\n",
              "      <td>0.8</td>\n",
              "      <td>0.7</td>\n",
              "      <td>8.6</td>\n",
              "    </tr>\n",
              "    <tr>\n",
              "      <th>1689</th>\n",
              "      <td>0</td>\n",
              "      <td>5</td>\n",
              "      <td>37.0</td>\n",
              "      <td>0</td>\n",
              "      <td>W</td>\n",
              "      <td>0</td>\n",
              "      <td>0</td>\n",
              "      <td>1</td>\n",
              "      <td>0</td>\n",
              "      <td>83.5</td>\n",
              "      <td>51375.0</td>\n",
              "      <td>11.7</td>\n",
              "      <td>80.5</td>\n",
              "      <td>12.6</td>\n",
              "      <td>0.4</td>\n",
              "      <td>1.1</td>\n",
              "      <td>6.6</td>\n",
              "    </tr>\n",
              "  </tbody>\n",
              "</table>\n",
              "<p>1690 rows × 17 columns</p>\n",
              "</div>"
            ],
            "text/plain": [
              "      manner_of_death  armed  ...  share_asian  share_hispanic\n",
              "0                   0      0  ...          1.1            19.2\n",
              "1                   0      0  ...          8.9            21.1\n",
              "2                   0      4  ...          8.9            21.1\n",
              "3                   1      1  ...          4.8            15.3\n",
              "4                   0      5  ...          4.8            15.3\n",
              "...               ...    ...  ...          ...             ...\n",
              "1685                0      1  ...          2.2             2.0\n",
              "1686                1      4  ...          3.7            22.4\n",
              "1687                0      0  ...          2.4            15.6\n",
              "1688                0      0  ...          0.7             8.6\n",
              "1689                0      5  ...          1.1             6.6\n",
              "\n",
              "[1690 rows x 17 columns]"
            ]
          },
          "metadata": {
            "tags": []
          },
          "execution_count": 73
        }
      ]
    },
    {
      "cell_type": "code",
      "metadata": {
        "id": "NpMXGW6Zxo_2",
        "colab": {
          "base_uri": "https://localhost:8080/"
        },
        "outputId": "1bf97df9-a1e7-4eb5-8dc4-1b08d0b2da4d"
      },
      "source": [
        "Y_train = X_train[\"race\"];\n",
        "Y_train"
      ],
      "execution_count": 74,
      "outputs": [
        {
          "output_type": "execute_result",
          "data": {
            "text/plain": [
              "0       A\n",
              "1       W\n",
              "2       W\n",
              "3       H\n",
              "4       W\n",
              "       ..\n",
              "1685    W\n",
              "1686    B\n",
              "1687    H\n",
              "1688    H\n",
              "1689    W\n",
              "Name: race, Length: 1690, dtype: object"
            ]
          },
          "metadata": {
            "tags": []
          },
          "execution_count": 74
        }
      ]
    },
    {
      "cell_type": "code",
      "metadata": {
        "id": "Y2MCqcd9GUgo"
      },
      "source": [
        "X_train = X_train.drop(['race'], axis=1)"
      ],
      "execution_count": 75,
      "outputs": []
    },
    {
      "cell_type": "code",
      "metadata": {
        "id": "3CctiW9ZyiHD",
        "colab": {
          "base_uri": "https://localhost:8080/"
        },
        "outputId": "4052f2bc-4621-4c01-c4f6-a8133be72673"
      },
      "source": [
        "Y_test = test_merge[\"race\"]\n",
        "Y_test"
      ],
      "execution_count": 76,
      "outputs": [
        {
          "output_type": "execute_result",
          "data": {
            "text/plain": [
              "0      B\n",
              "1      H\n",
              "2      W\n",
              "3      H\n",
              "4      W\n",
              "      ..\n",
              "351    B\n",
              "352    B\n",
              "353    B\n",
              "354    H\n",
              "355    B\n",
              "Name: race, Length: 356, dtype: object"
            ]
          },
          "metadata": {
            "tags": []
          },
          "execution_count": 76
        }
      ]
    },
    {
      "cell_type": "code",
      "metadata": {
        "id": "9nSF0E-Sy2-s",
        "colab": {
          "base_uri": "https://localhost:8080/",
          "height": 419
        },
        "outputId": "542f7704-aa20-4c86-e010-1fad30066f8a"
      },
      "source": [
        "X_test = test_merge.drop(['race', \"state\", \"city\"], axis=1)\n",
        "X_test"
      ],
      "execution_count": 77,
      "outputs": [
        {
          "output_type": "execute_result",
          "data": {
            "text/html": [
              "<div>\n",
              "<style scoped>\n",
              "    .dataframe tbody tr th:only-of-type {\n",
              "        vertical-align: middle;\n",
              "    }\n",
              "\n",
              "    .dataframe tbody tr th {\n",
              "        vertical-align: top;\n",
              "    }\n",
              "\n",
              "    .dataframe thead th {\n",
              "        text-align: right;\n",
              "    }\n",
              "</style>\n",
              "<table border=\"1\" class=\"dataframe\">\n",
              "  <thead>\n",
              "    <tr style=\"text-align: right;\">\n",
              "      <th></th>\n",
              "      <th>manner_of_death</th>\n",
              "      <th>armed</th>\n",
              "      <th>age</th>\n",
              "      <th>gender</th>\n",
              "      <th>signs_of_mental_illness</th>\n",
              "      <th>threat_level</th>\n",
              "      <th>flee</th>\n",
              "      <th>body_camera</th>\n",
              "      <th>percent_completed_hs</th>\n",
              "      <th>Median Income</th>\n",
              "      <th>poverty_rate</th>\n",
              "      <th>share_white</th>\n",
              "      <th>share_black</th>\n",
              "      <th>share_native_american</th>\n",
              "      <th>share_asian</th>\n",
              "      <th>share_hispanic</th>\n",
              "    </tr>\n",
              "  </thead>\n",
              "  <tbody>\n",
              "    <tr>\n",
              "      <th>0</th>\n",
              "      <td>0</td>\n",
              "      <td>0</td>\n",
              "      <td>54.0</td>\n",
              "      <td>0</td>\n",
              "      <td>0</td>\n",
              "      <td>0</td>\n",
              "      <td>0</td>\n",
              "      <td>0</td>\n",
              "      <td>88.4</td>\n",
              "      <td>58227.0</td>\n",
              "      <td>11.4</td>\n",
              "      <td>71.0</td>\n",
              "      <td>22.2</td>\n",
              "      <td>0.3</td>\n",
              "      <td>1.7</td>\n",
              "      <td>5.0</td>\n",
              "    </tr>\n",
              "    <tr>\n",
              "      <th>1</th>\n",
              "      <td>0</td>\n",
              "      <td>0</td>\n",
              "      <td>41.0</td>\n",
              "      <td>0</td>\n",
              "      <td>0</td>\n",
              "      <td>0</td>\n",
              "      <td>0</td>\n",
              "      <td>0</td>\n",
              "      <td>88.4</td>\n",
              "      <td>58227.0</td>\n",
              "      <td>11.4</td>\n",
              "      <td>71.0</td>\n",
              "      <td>22.2</td>\n",
              "      <td>0.3</td>\n",
              "      <td>1.7</td>\n",
              "      <td>5.0</td>\n",
              "    </tr>\n",
              "    <tr>\n",
              "      <th>2</th>\n",
              "      <td>0</td>\n",
              "      <td>0</td>\n",
              "      <td>50.0</td>\n",
              "      <td>0</td>\n",
              "      <td>1</td>\n",
              "      <td>0</td>\n",
              "      <td>0</td>\n",
              "      <td>1</td>\n",
              "      <td>82.0</td>\n",
              "      <td>50536.0</td>\n",
              "      <td>14.7</td>\n",
              "      <td>96.0</td>\n",
              "      <td>0.0</td>\n",
              "      <td>3.2</td>\n",
              "      <td>0.0</td>\n",
              "      <td>2.4</td>\n",
              "    </tr>\n",
              "    <tr>\n",
              "      <th>3</th>\n",
              "      <td>0</td>\n",
              "      <td>0</td>\n",
              "      <td>28.0</td>\n",
              "      <td>0</td>\n",
              "      <td>0</td>\n",
              "      <td>1</td>\n",
              "      <td>1</td>\n",
              "      <td>0</td>\n",
              "      <td>88.4</td>\n",
              "      <td>53637.0</td>\n",
              "      <td>16.8</td>\n",
              "      <td>50.0</td>\n",
              "      <td>35.0</td>\n",
              "      <td>0.5</td>\n",
              "      <td>5.0</td>\n",
              "      <td>13.1</td>\n",
              "    </tr>\n",
              "    <tr>\n",
              "      <th>4</th>\n",
              "      <td>0</td>\n",
              "      <td>0</td>\n",
              "      <td>25.0</td>\n",
              "      <td>0</td>\n",
              "      <td>1</td>\n",
              "      <td>1</td>\n",
              "      <td>0</td>\n",
              "      <td>0</td>\n",
              "      <td>88.4</td>\n",
              "      <td>53637.0</td>\n",
              "      <td>16.8</td>\n",
              "      <td>50.0</td>\n",
              "      <td>35.0</td>\n",
              "      <td>0.5</td>\n",
              "      <td>5.0</td>\n",
              "      <td>13.1</td>\n",
              "    </tr>\n",
              "    <tr>\n",
              "      <th>...</th>\n",
              "      <td>...</td>\n",
              "      <td>...</td>\n",
              "      <td>...</td>\n",
              "      <td>...</td>\n",
              "      <td>...</td>\n",
              "      <td>...</td>\n",
              "      <td>...</td>\n",
              "      <td>...</td>\n",
              "      <td>...</td>\n",
              "      <td>...</td>\n",
              "      <td>...</td>\n",
              "      <td>...</td>\n",
              "      <td>...</td>\n",
              "      <td>...</td>\n",
              "      <td>...</td>\n",
              "      <td>...</td>\n",
              "    </tr>\n",
              "    <tr>\n",
              "      <th>351</th>\n",
              "      <td>0</td>\n",
              "      <td>1</td>\n",
              "      <td>16.0</td>\n",
              "      <td>0</td>\n",
              "      <td>0</td>\n",
              "      <td>2</td>\n",
              "      <td>0</td>\n",
              "      <td>0</td>\n",
              "      <td>89.3</td>\n",
              "      <td>61669.0</td>\n",
              "      <td>10.9</td>\n",
              "      <td>68.1</td>\n",
              "      <td>28.0</td>\n",
              "      <td>0.4</td>\n",
              "      <td>1.5</td>\n",
              "      <td>2.0</td>\n",
              "    </tr>\n",
              "    <tr>\n",
              "      <th>352</th>\n",
              "      <td>0</td>\n",
              "      <td>8</td>\n",
              "      <td>25.0</td>\n",
              "      <td>0</td>\n",
              "      <td>0</td>\n",
              "      <td>0</td>\n",
              "      <td>1</td>\n",
              "      <td>0</td>\n",
              "      <td>82.1</td>\n",
              "      <td>27683.0</td>\n",
              "      <td>35.5</td>\n",
              "      <td>51.7</td>\n",
              "      <td>42.9</td>\n",
              "      <td>0.3</td>\n",
              "      <td>0.9</td>\n",
              "      <td>3.0</td>\n",
              "    </tr>\n",
              "    <tr>\n",
              "      <th>353</th>\n",
              "      <td>0</td>\n",
              "      <td>0</td>\n",
              "      <td>39.0</td>\n",
              "      <td>0</td>\n",
              "      <td>0</td>\n",
              "      <td>0</td>\n",
              "      <td>1</td>\n",
              "      <td>0</td>\n",
              "      <td>79.0</td>\n",
              "      <td>27050.0</td>\n",
              "      <td>40.0</td>\n",
              "      <td>33.0</td>\n",
              "      <td>64.3</td>\n",
              "      <td>0.1</td>\n",
              "      <td>0.8</td>\n",
              "      <td>1.4</td>\n",
              "    </tr>\n",
              "    <tr>\n",
              "      <th>354</th>\n",
              "      <td>0</td>\n",
              "      <td>5</td>\n",
              "      <td>34.0</td>\n",
              "      <td>0</td>\n",
              "      <td>0</td>\n",
              "      <td>0</td>\n",
              "      <td>0</td>\n",
              "      <td>0</td>\n",
              "      <td>68.3</td>\n",
              "      <td>34559.0</td>\n",
              "      <td>32.1</td>\n",
              "      <td>61.6</td>\n",
              "      <td>12.6</td>\n",
              "      <td>2.0</td>\n",
              "      <td>2.1</td>\n",
              "      <td>37.8</td>\n",
              "    </tr>\n",
              "    <tr>\n",
              "      <th>355</th>\n",
              "      <td>0</td>\n",
              "      <td>8</td>\n",
              "      <td>28.0</td>\n",
              "      <td>0</td>\n",
              "      <td>0</td>\n",
              "      <td>0</td>\n",
              "      <td>1</td>\n",
              "      <td>1</td>\n",
              "      <td>89.3</td>\n",
              "      <td>42650.0</td>\n",
              "      <td>17.9</td>\n",
              "      <td>90.5</td>\n",
              "      <td>3.1</td>\n",
              "      <td>0.8</td>\n",
              "      <td>3.2</td>\n",
              "      <td>2.7</td>\n",
              "    </tr>\n",
              "  </tbody>\n",
              "</table>\n",
              "<p>356 rows × 16 columns</p>\n",
              "</div>"
            ],
            "text/plain": [
              "     manner_of_death  armed  ...  share_asian  share_hispanic\n",
              "0                  0      0  ...          1.7             5.0\n",
              "1                  0      0  ...          1.7             5.0\n",
              "2                  0      0  ...          0.0             2.4\n",
              "3                  0      0  ...          5.0            13.1\n",
              "4                  0      0  ...          5.0            13.1\n",
              "..               ...    ...  ...          ...             ...\n",
              "351                0      1  ...          1.5             2.0\n",
              "352                0      8  ...          0.9             3.0\n",
              "353                0      0  ...          0.8             1.4\n",
              "354                0      5  ...          2.1            37.8\n",
              "355                0      8  ...          3.2             2.7\n",
              "\n",
              "[356 rows x 16 columns]"
            ]
          },
          "metadata": {
            "tags": []
          },
          "execution_count": 77
        }
      ]
    },
    {
      "cell_type": "code",
      "metadata": {
        "id": "wRPH4QxGzJY1",
        "colab": {
          "base_uri": "https://localhost:8080/"
        },
        "outputId": "5f77a5c1-4a59-4d8f-8676-40e30580f1a4"
      },
      "source": [
        "X_train.shape, Y_train.shape"
      ],
      "execution_count": 78,
      "outputs": [
        {
          "output_type": "execute_result",
          "data": {
            "text/plain": [
              "((1690, 16), (1690,))"
            ]
          },
          "metadata": {
            "tags": []
          },
          "execution_count": 78
        }
      ]
    },
    {
      "cell_type": "code",
      "metadata": {
        "id": "WxU27NbHzMoc",
        "colab": {
          "base_uri": "https://localhost:8080/"
        },
        "outputId": "692a1887-89cb-4067-c533-922425433320"
      },
      "source": [
        "X_test.shape, Y_test.shape"
      ],
      "execution_count": 79,
      "outputs": [
        {
          "output_type": "execute_result",
          "data": {
            "text/plain": [
              "((356, 16), (356,))"
            ]
          },
          "metadata": {
            "tags": []
          },
          "execution_count": 79
        }
      ]
    },
    {
      "cell_type": "markdown",
      "metadata": {
        "id": "bCNpLBWGmRFB"
      },
      "source": [
        "## Balance data"
      ]
    },
    {
      "cell_type": "code",
      "metadata": {
        "id": "3qOS4BQzmZdA",
        "colab": {
          "base_uri": "https://localhost:8080/"
        },
        "outputId": "f5a428d2-8bad-4ec5-a9b2-b3d40c441ca0"
      },
      "source": [
        "from imblearn.over_sampling import SMOTE\n",
        "from collections import Counter"
      ],
      "execution_count": 80,
      "outputs": [
        {
          "output_type": "stream",
          "text": [
            "/usr/local/lib/python3.7/dist-packages/sklearn/externals/six.py:31: FutureWarning: The module is deprecated in version 0.21 and will be removed in version 0.23 since we've dropped support for Python 2.7. Please rely on the official version of six (https://pypi.org/project/six/).\n",
            "  \"(https://pypi.org/project/six/).\", FutureWarning)\n",
            "/usr/local/lib/python3.7/dist-packages/sklearn/utils/deprecation.py:144: FutureWarning: The sklearn.neighbors.base module is  deprecated in version 0.22 and will be removed in version 0.24. The corresponding classes / functions should instead be imported from sklearn.neighbors. Anything that cannot be imported from sklearn.neighbors is now part of the private API.\n",
            "  warnings.warn(message, FutureWarning)\n"
          ],
          "name": "stderr"
        }
      ]
    },
    {
      "cell_type": "code",
      "metadata": {
        "colab": {
          "base_uri": "https://localhost:8080/",
          "height": 419
        },
        "id": "jdJczsCDmZb5",
        "outputId": "e4cbfe2e-9e6f-477f-c81b-47a7346a44fc"
      },
      "source": [
        "X_Ctrain = X_train.drop(['share_white'], axis=1)\n",
        "X_Ctest = X_test.drop(['share_white'], axis=1)\n",
        "X_Ctrain"
      ],
      "execution_count": 81,
      "outputs": [
        {
          "output_type": "execute_result",
          "data": {
            "text/html": [
              "<div>\n",
              "<style scoped>\n",
              "    .dataframe tbody tr th:only-of-type {\n",
              "        vertical-align: middle;\n",
              "    }\n",
              "\n",
              "    .dataframe tbody tr th {\n",
              "        vertical-align: top;\n",
              "    }\n",
              "\n",
              "    .dataframe thead th {\n",
              "        text-align: right;\n",
              "    }\n",
              "</style>\n",
              "<table border=\"1\" class=\"dataframe\">\n",
              "  <thead>\n",
              "    <tr style=\"text-align: right;\">\n",
              "      <th></th>\n",
              "      <th>manner_of_death</th>\n",
              "      <th>armed</th>\n",
              "      <th>age</th>\n",
              "      <th>gender</th>\n",
              "      <th>signs_of_mental_illness</th>\n",
              "      <th>threat_level</th>\n",
              "      <th>flee</th>\n",
              "      <th>body_camera</th>\n",
              "      <th>percent_completed_hs</th>\n",
              "      <th>Median Income</th>\n",
              "      <th>poverty_rate</th>\n",
              "      <th>share_black</th>\n",
              "      <th>share_native_american</th>\n",
              "      <th>share_asian</th>\n",
              "      <th>share_hispanic</th>\n",
              "    </tr>\n",
              "  </thead>\n",
              "  <tbody>\n",
              "    <tr>\n",
              "      <th>0</th>\n",
              "      <td>0</td>\n",
              "      <td>0</td>\n",
              "      <td>53.0</td>\n",
              "      <td>0</td>\n",
              "      <td>0</td>\n",
              "      <td>0</td>\n",
              "      <td>0</td>\n",
              "      <td>0</td>\n",
              "      <td>80.1</td>\n",
              "      <td>37072.0</td>\n",
              "      <td>28.6</td>\n",
              "      <td>0.8</td>\n",
              "      <td>3.7</td>\n",
              "      <td>1.1</td>\n",
              "      <td>19.2</td>\n",
              "    </tr>\n",
              "    <tr>\n",
              "      <th>1</th>\n",
              "      <td>0</td>\n",
              "      <td>0</td>\n",
              "      <td>47.0</td>\n",
              "      <td>0</td>\n",
              "      <td>1</td>\n",
              "      <td>0</td>\n",
              "      <td>0</td>\n",
              "      <td>0</td>\n",
              "      <td>88.1</td>\n",
              "      <td>65765.0</td>\n",
              "      <td>14.9</td>\n",
              "      <td>2.6</td>\n",
              "      <td>1.0</td>\n",
              "      <td>8.9</td>\n",
              "      <td>21.1</td>\n",
              "    </tr>\n",
              "    <tr>\n",
              "      <th>2</th>\n",
              "      <td>0</td>\n",
              "      <td>4</td>\n",
              "      <td>55.0</td>\n",
              "      <td>1</td>\n",
              "      <td>0</td>\n",
              "      <td>1</td>\n",
              "      <td>0</td>\n",
              "      <td>0</td>\n",
              "      <td>88.1</td>\n",
              "      <td>65765.0</td>\n",
              "      <td>14.9</td>\n",
              "      <td>2.6</td>\n",
              "      <td>1.0</td>\n",
              "      <td>8.9</td>\n",
              "      <td>21.1</td>\n",
              "    </tr>\n",
              "    <tr>\n",
              "      <th>3</th>\n",
              "      <td>1</td>\n",
              "      <td>1</td>\n",
              "      <td>23.0</td>\n",
              "      <td>0</td>\n",
              "      <td>1</td>\n",
              "      <td>1</td>\n",
              "      <td>0</td>\n",
              "      <td>0</td>\n",
              "      <td>87.5</td>\n",
              "      <td>45947.0</td>\n",
              "      <td>17.3</td>\n",
              "      <td>11.5</td>\n",
              "      <td>1.2</td>\n",
              "      <td>4.8</td>\n",
              "      <td>15.3</td>\n",
              "    </tr>\n",
              "    <tr>\n",
              "      <th>4</th>\n",
              "      <td>0</td>\n",
              "      <td>5</td>\n",
              "      <td>26.0</td>\n",
              "      <td>0</td>\n",
              "      <td>1</td>\n",
              "      <td>0</td>\n",
              "      <td>1</td>\n",
              "      <td>0</td>\n",
              "      <td>87.5</td>\n",
              "      <td>45947.0</td>\n",
              "      <td>17.3</td>\n",
              "      <td>11.5</td>\n",
              "      <td>1.2</td>\n",
              "      <td>4.8</td>\n",
              "      <td>15.3</td>\n",
              "    </tr>\n",
              "    <tr>\n",
              "      <th>...</th>\n",
              "      <td>...</td>\n",
              "      <td>...</td>\n",
              "      <td>...</td>\n",
              "      <td>...</td>\n",
              "      <td>...</td>\n",
              "      <td>...</td>\n",
              "      <td>...</td>\n",
              "      <td>...</td>\n",
              "      <td>...</td>\n",
              "      <td>...</td>\n",
              "      <td>...</td>\n",
              "      <td>...</td>\n",
              "      <td>...</td>\n",
              "      <td>...</td>\n",
              "      <td>...</td>\n",
              "    </tr>\n",
              "    <tr>\n",
              "      <th>1685</th>\n",
              "      <td>0</td>\n",
              "      <td>1</td>\n",
              "      <td>27.0</td>\n",
              "      <td>0</td>\n",
              "      <td>0</td>\n",
              "      <td>0</td>\n",
              "      <td>0</td>\n",
              "      <td>1</td>\n",
              "      <td>90.8</td>\n",
              "      <td>49868.0</td>\n",
              "      <td>19.5</td>\n",
              "      <td>18.5</td>\n",
              "      <td>0.2</td>\n",
              "      <td>2.2</td>\n",
              "      <td>2.0</td>\n",
              "    </tr>\n",
              "    <tr>\n",
              "      <th>1686</th>\n",
              "      <td>1</td>\n",
              "      <td>4</td>\n",
              "      <td>25.0</td>\n",
              "      <td>0</td>\n",
              "      <td>0</td>\n",
              "      <td>1</td>\n",
              "      <td>0</td>\n",
              "      <td>0</td>\n",
              "      <td>84.7</td>\n",
              "      <td>47527.0</td>\n",
              "      <td>15.5</td>\n",
              "      <td>24.0</td>\n",
              "      <td>0.4</td>\n",
              "      <td>3.7</td>\n",
              "      <td>22.4</td>\n",
              "    </tr>\n",
              "    <tr>\n",
              "      <th>1687</th>\n",
              "      <td>0</td>\n",
              "      <td>0</td>\n",
              "      <td>34.0</td>\n",
              "      <td>0</td>\n",
              "      <td>1</td>\n",
              "      <td>1</td>\n",
              "      <td>0</td>\n",
              "      <td>0</td>\n",
              "      <td>92.6</td>\n",
              "      <td>66607.0</td>\n",
              "      <td>11.0</td>\n",
              "      <td>2.1</td>\n",
              "      <td>1.0</td>\n",
              "      <td>2.4</td>\n",
              "      <td>15.6</td>\n",
              "    </tr>\n",
              "    <tr>\n",
              "      <th>1688</th>\n",
              "      <td>0</td>\n",
              "      <td>0</td>\n",
              "      <td>32.0</td>\n",
              "      <td>0</td>\n",
              "      <td>1</td>\n",
              "      <td>0</td>\n",
              "      <td>1</td>\n",
              "      <td>0</td>\n",
              "      <td>92.9</td>\n",
              "      <td>57417.0</td>\n",
              "      <td>13.2</td>\n",
              "      <td>0.6</td>\n",
              "      <td>0.8</td>\n",
              "      <td>0.7</td>\n",
              "      <td>8.6</td>\n",
              "    </tr>\n",
              "    <tr>\n",
              "      <th>1689</th>\n",
              "      <td>0</td>\n",
              "      <td>5</td>\n",
              "      <td>37.0</td>\n",
              "      <td>0</td>\n",
              "      <td>0</td>\n",
              "      <td>0</td>\n",
              "      <td>1</td>\n",
              "      <td>0</td>\n",
              "      <td>83.5</td>\n",
              "      <td>51375.0</td>\n",
              "      <td>11.7</td>\n",
              "      <td>12.6</td>\n",
              "      <td>0.4</td>\n",
              "      <td>1.1</td>\n",
              "      <td>6.6</td>\n",
              "    </tr>\n",
              "  </tbody>\n",
              "</table>\n",
              "<p>1690 rows × 15 columns</p>\n",
              "</div>"
            ],
            "text/plain": [
              "      manner_of_death  armed  ...  share_asian  share_hispanic\n",
              "0                   0      0  ...          1.1            19.2\n",
              "1                   0      0  ...          8.9            21.1\n",
              "2                   0      4  ...          8.9            21.1\n",
              "3                   1      1  ...          4.8            15.3\n",
              "4                   0      5  ...          4.8            15.3\n",
              "...               ...    ...  ...          ...             ...\n",
              "1685                0      1  ...          2.2             2.0\n",
              "1686                1      4  ...          3.7            22.4\n",
              "1687                0      0  ...          2.4            15.6\n",
              "1688                0      0  ...          0.7             8.6\n",
              "1689                0      5  ...          1.1             6.6\n",
              "\n",
              "[1690 rows x 15 columns]"
            ]
          },
          "metadata": {
            "tags": []
          },
          "execution_count": 81
        }
      ]
    },
    {
      "cell_type": "code",
      "metadata": {
        "colab": {
          "base_uri": "https://localhost:8080/"
        },
        "id": "8VH5SuEtnPul",
        "outputId": "242aec3a-a6f8-474c-9ae5-a815368f0ace"
      },
      "source": [
        "X_resampled, y_resampled = SMOTE().fit_resample(X_Ctrain, Y_train)\n",
        "y_resampled"
      ],
      "execution_count": 82,
      "outputs": [
        {
          "output_type": "stream",
          "text": [
            "/usr/local/lib/python3.7/dist-packages/sklearn/utils/deprecation.py:87: FutureWarning: Function safe_indexing is deprecated; safe_indexing is deprecated in version 0.22 and will be removed in version 0.24.\n",
            "  warnings.warn(msg, category=FutureWarning)\n",
            "/usr/local/lib/python3.7/dist-packages/sklearn/utils/deprecation.py:87: FutureWarning: Function safe_indexing is deprecated; safe_indexing is deprecated in version 0.22 and will be removed in version 0.24.\n",
            "  warnings.warn(msg, category=FutureWarning)\n",
            "/usr/local/lib/python3.7/dist-packages/sklearn/utils/deprecation.py:87: FutureWarning: Function safe_indexing is deprecated; safe_indexing is deprecated in version 0.22 and will be removed in version 0.24.\n",
            "  warnings.warn(msg, category=FutureWarning)\n",
            "/usr/local/lib/python3.7/dist-packages/sklearn/utils/deprecation.py:87: FutureWarning: Function safe_indexing is deprecated; safe_indexing is deprecated in version 0.22 and will be removed in version 0.24.\n",
            "  warnings.warn(msg, category=FutureWarning)\n",
            "/usr/local/lib/python3.7/dist-packages/sklearn/utils/deprecation.py:87: FutureWarning: Function safe_indexing is deprecated; safe_indexing is deprecated in version 0.22 and will be removed in version 0.24.\n",
            "  warnings.warn(msg, category=FutureWarning)\n"
          ],
          "name": "stderr"
        },
        {
          "output_type": "execute_result",
          "data": {
            "text/plain": [
              "array(['A', 'W', 'W', ..., 'O', 'O', 'O'], dtype=object)"
            ]
          },
          "metadata": {
            "tags": []
          },
          "execution_count": 82
        }
      ]
    },
    {
      "cell_type": "markdown",
      "metadata": {
        "id": "Q6FfyF7rprLM"
      },
      "source": [
        "## Model"
      ]
    },
    {
      "cell_type": "markdown",
      "metadata": {
        "id": "_19s5HWsFqJP"
      },
      "source": [
        "### Naive Bayes"
      ]
    },
    {
      "cell_type": "code",
      "metadata": {
        "id": "y0pwFOZcFqJQ"
      },
      "source": [
        "# Imports\n",
        "from sklearn.naive_bayes import MultinomialNB"
      ],
      "execution_count": 83,
      "outputs": []
    },
    {
      "cell_type": "code",
      "metadata": {
        "id": "dM0wsR4VFqJQ"
      },
      "source": [
        "# Fit the Naive Bayes classifier\n",
        "nb_clf = MultinomialNB(alpha=13.0).fit(X_resampled, y_resampled)\n",
        "# Predict the race values for the test set\n",
        "Y_test_predicted = nb_clf.predict(X_Ctest)"
      ],
      "execution_count": 84,
      "outputs": []
    },
    {
      "cell_type": "code",
      "metadata": {
        "colab": {
          "base_uri": "https://localhost:8080/"
        },
        "id": "3Hxr2sfyoBU6",
        "outputId": "86d883fb-e0e1-41c7-9042-53da55755ee7"
      },
      "source": [
        "f1_score(Y_test, Y_test_predicted, average='weighted')"
      ],
      "execution_count": 85,
      "outputs": [
        {
          "output_type": "execute_result",
          "data": {
            "text/plain": [
              "0.5788893351721097"
            ]
          },
          "metadata": {
            "tags": []
          },
          "execution_count": 85
        }
      ]
    },
    {
      "cell_type": "markdown",
      "metadata": {
        "id": "wImbe5EDFqJQ"
      },
      "source": [
        "### K-Nearest Neighbors"
      ]
    },
    {
      "cell_type": "code",
      "metadata": {
        "id": "ssHlBhY6FqJR"
      },
      "source": [
        "# Imports\n",
        "from sklearn.neighbors import KNeighborsClassifier"
      ],
      "execution_count": 86,
      "outputs": []
    },
    {
      "cell_type": "code",
      "metadata": {
        "id": "9zzgaxZ4FqJR"
      },
      "source": [
        "# Fit the K-Nearest Neighbors classifier\n",
        "knn_clf = KNeighborsClassifier(n_neighbors=6, weights=\"distance\").fit(X_resampled, y_resampled)\n",
        "# Predict the race values for the test set\n",
        "Y_test_predicted = knn_clf.predict(X_Ctest)"
      ],
      "execution_count": 87,
      "outputs": []
    },
    {
      "cell_type": "code",
      "metadata": {
        "colab": {
          "base_uri": "https://localhost:8080/"
        },
        "id": "Bw85unhZozL9",
        "outputId": "5af07312-50a9-49b1-81a7-ba5844dfe941"
      },
      "source": [
        "f1_score(Y_test, Y_test_predicted, average='weighted')"
      ],
      "execution_count": 88,
      "outputs": [
        {
          "output_type": "execute_result",
          "data": {
            "text/plain": [
              "0.4036874155143587"
            ]
          },
          "metadata": {
            "tags": []
          },
          "execution_count": 88
        }
      ]
    },
    {
      "cell_type": "markdown",
      "metadata": {
        "id": "Cr1BHQStFqJR"
      },
      "source": [
        "### Random Forest"
      ]
    },
    {
      "cell_type": "code",
      "metadata": {
        "id": "Y7eawuQ7FqJR"
      },
      "source": [
        "# Imports\n",
        "from sklearn.ensemble import RandomForestClassifier"
      ],
      "execution_count": 89,
      "outputs": []
    },
    {
      "cell_type": "code",
      "metadata": {
        "id": "jeckTw2RFqJS"
      },
      "source": [
        "# Fit the K-Nearest Neighbors classifier\n",
        "rf_clf = RandomForestClassifier(n_estimators=15, bootstrap=True).fit(X_resampled, y_resampled)\n",
        "# Predict the race values for the test set\n",
        "Y_test_predicted = rf_clf.predict(X_Ctest)\n",
        "# Compare the predictions to the labels for test set"
      ],
      "execution_count": 90,
      "outputs": []
    },
    {
      "cell_type": "code",
      "metadata": {
        "colab": {
          "base_uri": "https://localhost:8080/"
        },
        "id": "4XKT5HfRpOFN",
        "outputId": "5aa804bd-450b-42d4-8e89-9d270428d09f"
      },
      "source": [
        "f1_score(Y_test, Y_test_predicted, average='weighted')"
      ],
      "execution_count": 91,
      "outputs": [
        {
          "output_type": "execute_result",
          "data": {
            "text/plain": [
              "0.5592918621562274"
            ]
          },
          "metadata": {
            "tags": []
          },
          "execution_count": 91
        }
      ]
    },
    {
      "cell_type": "markdown",
      "metadata": {
        "id": "iTrmWd5JFqJS"
      },
      "source": [
        "### Gradient Boosting"
      ]
    },
    {
      "cell_type": "code",
      "metadata": {
        "id": "30Ue0CJ6FqJS"
      },
      "source": [
        "# Imports\n",
        "from sklearn.ensemble import GradientBoostingClassifier"
      ],
      "execution_count": 92,
      "outputs": []
    },
    {
      "cell_type": "code",
      "metadata": {
        "id": "Y32NoGl-FqJS"
      },
      "source": [
        "# Fit the Gradient Boosting classifier\n",
        "gb_clf = GradientBoostingClassifier(n_estimators=100, learning_rate=0.01, max_depth=3).fit(X_resampled, y_resampled)\n",
        "# Predict the race values for the test set\n",
        "Y_test_predicted = gb_clf.predict(X_Ctest)\n"
      ],
      "execution_count": 93,
      "outputs": []
    },
    {
      "cell_type": "code",
      "metadata": {
        "colab": {
          "base_uri": "https://localhost:8080/"
        },
        "id": "1yEAfaQ_pWbE",
        "outputId": "800ae4d5-6411-4186-af61-8a6b68bde157"
      },
      "source": [
        "f1_score(Y_test, Y_test_predicted, average='weighted')"
      ],
      "execution_count": 94,
      "outputs": [
        {
          "output_type": "execute_result",
          "data": {
            "text/plain": [
              "0.5250341778106885"
            ]
          },
          "metadata": {
            "tags": []
          },
          "execution_count": 94
        }
      ]
    }
  ]
}